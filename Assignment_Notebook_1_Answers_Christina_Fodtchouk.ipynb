{
  "nbformat": 4,
  "nbformat_minor": 0,
  "metadata": {
    "colab": {
      "provenance": []
    },
    "kernelspec": {
      "name": "python3",
      "display_name": "Python 3"
    },
    "language_info": {
      "name": "python"
    }
  },
  "cells": [
    {
      "cell_type": "markdown",
      "metadata": {
        "id": "view-in-github"
      },
      "source": [
        "<a href=\"https://colab.research.google.com/github/Data-Analytics-with-Python/Case_Assignment_I/blob/main/Assignment_Notebook_1.ipynb\" target=\"_parent\"><img src=\"https://colab.research.google.com/assets/colab-badge.svg\" alt=\"Open In Colab\"/></a>"
      ]
    },
    {
      "cell_type": "markdown",
      "source": [
        "IMPORTANT: Before you start, enter your name and student number below.\n",
        "\n",
        "**Full Name:** Christina Fodtchouk\n",
        "\n",
        "**Student Number:** 400193513"
      ],
      "metadata": {
        "id": "IbL5ndOg7fSr"
      }
    },
    {
      "cell_type": "markdown",
      "source": [
        "# Exploring Customer Data with Pandas\n",
        "\n",
        "Use the provided Nata Supermarkets dataset to answer the following questions.\n",
        "Your goal is to use Pandas operations to explore, clean, and summarize the data, and to draw a few simple insights about customer demographics and behavior."
      ],
      "metadata": {
        "id": "wX9l9nahNpbI"
      }
    },
    {
      "cell_type": "markdown",
      "source": [
        "Please complete all task requested and answer all questions explicitly and support your answers with Python codes. Insert code and text cells as you need."
      ],
      "metadata": {
        "id": "5BaaZYnXNy6n"
      }
    },
    {
      "cell_type": "markdown",
      "source": [
        "## 1. Inspecting and loading the Data (10pts)\n",
        "\n",
        "* Save the dataset in the case supplementary file (in Excel) as a csv file and upload it to Colab.\n",
        "\n",
        "* Load the dataset as a pandas data frame and display the first few rows.\n",
        "\n",
        "    * How many features (columns) and records (rows) are in the dataset?"
      ],
      "metadata": {
        "id": "8Zpp2bkoNwvT"
      }
    },
    {
      "cell_type": "code",
      "source": [
        "import pandas as pd\n",
        "import os\n",
        "\n",
        "current_working_directory = os.getcwd()\n",
        "contents = os.listdir('.')\n",
        "print(\"cwd: \" , current_working_directory)\n",
        "print(\"contents: \", contents)\n",
        "\n",
        "# nata_dataset = pd.read_csv('./content/NATA_DATASET.csv')\n",
        "\n",
        "df_natadataset = pd.read_excel('/content/NATA_DATASET.xlsx', sheet_name=1)\n",
        "num_rows, num_columns = df_natadataset.shape\n",
        "\n",
        "print(f\"Number of rows: {num_rows}\")\n",
        "print(f\"Number of columns: {num_columns}\")\n",
        "\n",
        "print(f\"Number of rows including the title are {num_rows} and number columns are {num_columns}\")\n"
      ],
      "metadata": {
        "id": "KfdKIE4tOzTJ",
        "colab": {
          "base_uri": "https://localhost:8080/"
        },
        "outputId": "f722d4b8-92d3-43a2-fec9-de2e6801090e"
      },
      "execution_count": 6,
      "outputs": [
        {
          "output_type": "stream",
          "name": "stdout",
          "text": [
            "cwd:  /content\n",
            "contents:  ['.config', 'NATA_DATASET.xlsx', '.ipynb_checkpoints', 'sample_data']\n",
            "Number of rows: 2240\n",
            "Number of columns: 29\n",
            "Number of rows including the title are 2240 and number columns are 29\n"
          ]
        }
      ]
    },
    {
      "cell_type": "markdown",
      "source": [
        "## 2. Data Cleaning and Missing Values (14pts)\n",
        "\n",
        "* Check for missing values across all columns.\n",
        "\n",
        "* Which columns contain missing data, and how many missing entries are there?\n",
        "\n",
        "* What strategies could you use to handle them (drop, fill, or ignore)? Apply one reasonable approach and explain your choice."
      ],
      "metadata": {
        "id": "i1oYYTjrO2Pd"
      }
    },
    {
      "cell_type": "code",
      "source": [
        "import numpy as np\n",
        "\n",
        "df_natadataset.isnull()\n",
        "\n",
        "df_natadataset.isnull().sum()"
      ],
      "metadata": {
        "id": "S1j6pz8yPDFp",
        "colab": {
          "base_uri": "https://localhost:8080/",
          "height": 994
        },
        "outputId": "668f0d27-2e03-4885-974e-c8e66d538956"
      },
      "execution_count": 11,
      "outputs": [
        {
          "output_type": "execute_result",
          "data": {
            "text/plain": [
              "ID                      0\n",
              "Year_Birth              0\n",
              "Education               0\n",
              "Marital_Status          0\n",
              "Income                 24\n",
              "Kidhome                 0\n",
              "Teenhome                0\n",
              "Dt_Customer             0\n",
              "Recency                 0\n",
              "MntWines                0\n",
              "MntFruits               0\n",
              "MntMeatProducts         0\n",
              "MntFishProducts         0\n",
              "MntSweetProducts        0\n",
              "MntGoldProds            0\n",
              "NumDealsPurchases       0\n",
              "NumWebPurchases         0\n",
              "NumCatalogPurchases     0\n",
              "NumStorePurchases       0\n",
              "NumWebVisitsMonth       0\n",
              "AcceptedCmp3            0\n",
              "AcceptedCmp4            0\n",
              "AcceptedCmp5            0\n",
              "AcceptedCmp1            0\n",
              "AcceptedCmp2            0\n",
              "Complain                0\n",
              "Z_CostContact           0\n",
              "Z_Revenue               0\n",
              "Response                0\n",
              "dtype: int64"
            ],
            "text/html": [
              "<div>\n",
              "<style scoped>\n",
              "    .dataframe tbody tr th:only-of-type {\n",
              "        vertical-align: middle;\n",
              "    }\n",
              "\n",
              "    .dataframe tbody tr th {\n",
              "        vertical-align: top;\n",
              "    }\n",
              "\n",
              "    .dataframe thead th {\n",
              "        text-align: right;\n",
              "    }\n",
              "</style>\n",
              "<table border=\"1\" class=\"dataframe\">\n",
              "  <thead>\n",
              "    <tr style=\"text-align: right;\">\n",
              "      <th></th>\n",
              "      <th>0</th>\n",
              "    </tr>\n",
              "  </thead>\n",
              "  <tbody>\n",
              "    <tr>\n",
              "      <th>ID</th>\n",
              "      <td>0</td>\n",
              "    </tr>\n",
              "    <tr>\n",
              "      <th>Year_Birth</th>\n",
              "      <td>0</td>\n",
              "    </tr>\n",
              "    <tr>\n",
              "      <th>Education</th>\n",
              "      <td>0</td>\n",
              "    </tr>\n",
              "    <tr>\n",
              "      <th>Marital_Status</th>\n",
              "      <td>0</td>\n",
              "    </tr>\n",
              "    <tr>\n",
              "      <th>Income</th>\n",
              "      <td>24</td>\n",
              "    </tr>\n",
              "    <tr>\n",
              "      <th>Kidhome</th>\n",
              "      <td>0</td>\n",
              "    </tr>\n",
              "    <tr>\n",
              "      <th>Teenhome</th>\n",
              "      <td>0</td>\n",
              "    </tr>\n",
              "    <tr>\n",
              "      <th>Dt_Customer</th>\n",
              "      <td>0</td>\n",
              "    </tr>\n",
              "    <tr>\n",
              "      <th>Recency</th>\n",
              "      <td>0</td>\n",
              "    </tr>\n",
              "    <tr>\n",
              "      <th>MntWines</th>\n",
              "      <td>0</td>\n",
              "    </tr>\n",
              "    <tr>\n",
              "      <th>MntFruits</th>\n",
              "      <td>0</td>\n",
              "    </tr>\n",
              "    <tr>\n",
              "      <th>MntMeatProducts</th>\n",
              "      <td>0</td>\n",
              "    </tr>\n",
              "    <tr>\n",
              "      <th>MntFishProducts</th>\n",
              "      <td>0</td>\n",
              "    </tr>\n",
              "    <tr>\n",
              "      <th>MntSweetProducts</th>\n",
              "      <td>0</td>\n",
              "    </tr>\n",
              "    <tr>\n",
              "      <th>MntGoldProds</th>\n",
              "      <td>0</td>\n",
              "    </tr>\n",
              "    <tr>\n",
              "      <th>NumDealsPurchases</th>\n",
              "      <td>0</td>\n",
              "    </tr>\n",
              "    <tr>\n",
              "      <th>NumWebPurchases</th>\n",
              "      <td>0</td>\n",
              "    </tr>\n",
              "    <tr>\n",
              "      <th>NumCatalogPurchases</th>\n",
              "      <td>0</td>\n",
              "    </tr>\n",
              "    <tr>\n",
              "      <th>NumStorePurchases</th>\n",
              "      <td>0</td>\n",
              "    </tr>\n",
              "    <tr>\n",
              "      <th>NumWebVisitsMonth</th>\n",
              "      <td>0</td>\n",
              "    </tr>\n",
              "    <tr>\n",
              "      <th>AcceptedCmp3</th>\n",
              "      <td>0</td>\n",
              "    </tr>\n",
              "    <tr>\n",
              "      <th>AcceptedCmp4</th>\n",
              "      <td>0</td>\n",
              "    </tr>\n",
              "    <tr>\n",
              "      <th>AcceptedCmp5</th>\n",
              "      <td>0</td>\n",
              "    </tr>\n",
              "    <tr>\n",
              "      <th>AcceptedCmp1</th>\n",
              "      <td>0</td>\n",
              "    </tr>\n",
              "    <tr>\n",
              "      <th>AcceptedCmp2</th>\n",
              "      <td>0</td>\n",
              "    </tr>\n",
              "    <tr>\n",
              "      <th>Complain</th>\n",
              "      <td>0</td>\n",
              "    </tr>\n",
              "    <tr>\n",
              "      <th>Z_CostContact</th>\n",
              "      <td>0</td>\n",
              "    </tr>\n",
              "    <tr>\n",
              "      <th>Z_Revenue</th>\n",
              "      <td>0</td>\n",
              "    </tr>\n",
              "    <tr>\n",
              "      <th>Response</th>\n",
              "      <td>0</td>\n",
              "    </tr>\n",
              "  </tbody>\n",
              "</table>\n",
              "</div><br><label><b>dtype:</b> int64</label>"
            ]
          },
          "metadata": {},
          "execution_count": 11
        }
      ]
    },
    {
      "cell_type": "code",
      "source": [
        "df_natadataset_copy = df_natadataset.copy()\n",
        "\n",
        "df_natadataset_copy ['Income'] = df_natadataset_copy['Income'].fillna(df_natadataset_copy['Income'].mean())\n",
        "\n",
        "df_natadataset_copy ['Income'].isnull().sum()\n",
        "\n",
        "df_natadataset_copy.isnull().sum()"
      ],
      "metadata": {
        "colab": {
          "base_uri": "https://localhost:8080/",
          "height": 994
        },
        "id": "F_-E0frCidSI",
        "outputId": "727f8133-14bb-4f69-ffce-0d8c4fc06f3c"
      },
      "execution_count": 15,
      "outputs": [
        {
          "output_type": "execute_result",
          "data": {
            "text/plain": [
              "ID                     0\n",
              "Year_Birth             0\n",
              "Education              0\n",
              "Marital_Status         0\n",
              "Income                 0\n",
              "Kidhome                0\n",
              "Teenhome               0\n",
              "Dt_Customer            0\n",
              "Recency                0\n",
              "MntWines               0\n",
              "MntFruits              0\n",
              "MntMeatProducts        0\n",
              "MntFishProducts        0\n",
              "MntSweetProducts       0\n",
              "MntGoldProds           0\n",
              "NumDealsPurchases      0\n",
              "NumWebPurchases        0\n",
              "NumCatalogPurchases    0\n",
              "NumStorePurchases      0\n",
              "NumWebVisitsMonth      0\n",
              "AcceptedCmp3           0\n",
              "AcceptedCmp4           0\n",
              "AcceptedCmp5           0\n",
              "AcceptedCmp1           0\n",
              "AcceptedCmp2           0\n",
              "Complain               0\n",
              "Z_CostContact          0\n",
              "Z_Revenue              0\n",
              "Response               0\n",
              "dtype: int64"
            ],
            "text/html": [
              "<div>\n",
              "<style scoped>\n",
              "    .dataframe tbody tr th:only-of-type {\n",
              "        vertical-align: middle;\n",
              "    }\n",
              "\n",
              "    .dataframe tbody tr th {\n",
              "        vertical-align: top;\n",
              "    }\n",
              "\n",
              "    .dataframe thead th {\n",
              "        text-align: right;\n",
              "    }\n",
              "</style>\n",
              "<table border=\"1\" class=\"dataframe\">\n",
              "  <thead>\n",
              "    <tr style=\"text-align: right;\">\n",
              "      <th></th>\n",
              "      <th>0</th>\n",
              "    </tr>\n",
              "  </thead>\n",
              "  <tbody>\n",
              "    <tr>\n",
              "      <th>ID</th>\n",
              "      <td>0</td>\n",
              "    </tr>\n",
              "    <tr>\n",
              "      <th>Year_Birth</th>\n",
              "      <td>0</td>\n",
              "    </tr>\n",
              "    <tr>\n",
              "      <th>Education</th>\n",
              "      <td>0</td>\n",
              "    </tr>\n",
              "    <tr>\n",
              "      <th>Marital_Status</th>\n",
              "      <td>0</td>\n",
              "    </tr>\n",
              "    <tr>\n",
              "      <th>Income</th>\n",
              "      <td>0</td>\n",
              "    </tr>\n",
              "    <tr>\n",
              "      <th>Kidhome</th>\n",
              "      <td>0</td>\n",
              "    </tr>\n",
              "    <tr>\n",
              "      <th>Teenhome</th>\n",
              "      <td>0</td>\n",
              "    </tr>\n",
              "    <tr>\n",
              "      <th>Dt_Customer</th>\n",
              "      <td>0</td>\n",
              "    </tr>\n",
              "    <tr>\n",
              "      <th>Recency</th>\n",
              "      <td>0</td>\n",
              "    </tr>\n",
              "    <tr>\n",
              "      <th>MntWines</th>\n",
              "      <td>0</td>\n",
              "    </tr>\n",
              "    <tr>\n",
              "      <th>MntFruits</th>\n",
              "      <td>0</td>\n",
              "    </tr>\n",
              "    <tr>\n",
              "      <th>MntMeatProducts</th>\n",
              "      <td>0</td>\n",
              "    </tr>\n",
              "    <tr>\n",
              "      <th>MntFishProducts</th>\n",
              "      <td>0</td>\n",
              "    </tr>\n",
              "    <tr>\n",
              "      <th>MntSweetProducts</th>\n",
              "      <td>0</td>\n",
              "    </tr>\n",
              "    <tr>\n",
              "      <th>MntGoldProds</th>\n",
              "      <td>0</td>\n",
              "    </tr>\n",
              "    <tr>\n",
              "      <th>NumDealsPurchases</th>\n",
              "      <td>0</td>\n",
              "    </tr>\n",
              "    <tr>\n",
              "      <th>NumWebPurchases</th>\n",
              "      <td>0</td>\n",
              "    </tr>\n",
              "    <tr>\n",
              "      <th>NumCatalogPurchases</th>\n",
              "      <td>0</td>\n",
              "    </tr>\n",
              "    <tr>\n",
              "      <th>NumStorePurchases</th>\n",
              "      <td>0</td>\n",
              "    </tr>\n",
              "    <tr>\n",
              "      <th>NumWebVisitsMonth</th>\n",
              "      <td>0</td>\n",
              "    </tr>\n",
              "    <tr>\n",
              "      <th>AcceptedCmp3</th>\n",
              "      <td>0</td>\n",
              "    </tr>\n",
              "    <tr>\n",
              "      <th>AcceptedCmp4</th>\n",
              "      <td>0</td>\n",
              "    </tr>\n",
              "    <tr>\n",
              "      <th>AcceptedCmp5</th>\n",
              "      <td>0</td>\n",
              "    </tr>\n",
              "    <tr>\n",
              "      <th>AcceptedCmp1</th>\n",
              "      <td>0</td>\n",
              "    </tr>\n",
              "    <tr>\n",
              "      <th>AcceptedCmp2</th>\n",
              "      <td>0</td>\n",
              "    </tr>\n",
              "    <tr>\n",
              "      <th>Complain</th>\n",
              "      <td>0</td>\n",
              "    </tr>\n",
              "    <tr>\n",
              "      <th>Z_CostContact</th>\n",
              "      <td>0</td>\n",
              "    </tr>\n",
              "    <tr>\n",
              "      <th>Z_Revenue</th>\n",
              "      <td>0</td>\n",
              "    </tr>\n",
              "    <tr>\n",
              "      <th>Response</th>\n",
              "      <td>0</td>\n",
              "    </tr>\n",
              "  </tbody>\n",
              "</table>\n",
              "</div><br><label><b>dtype:</b> int64</label>"
            ]
          },
          "metadata": {},
          "execution_count": 15
        }
      ]
    },
    {
      "cell_type": "code",
      "source": [
        "print(f\"Method chosen was to fill the missing values and input the average of all income values in the income column. I could ahve ignored it since we have such a large dataset, but because it was only 24 out of 2239 (excluding title row) rows, there is no harm in placing the average value, that way the data is not risking being skewed too much than if you were to leave it remove or ignore\")\n"
      ],
      "metadata": {
        "colab": {
          "base_uri": "https://localhost:8080/"
        },
        "id": "CDbuGnm_jhDz",
        "outputId": "3dfd0966-8550-4e96-a4f8-a27a8230e37e"
      },
      "execution_count": 16,
      "outputs": [
        {
          "output_type": "stream",
          "name": "stdout",
          "text": [
            "Method chosen was to fill the missing values and input the average of all income values in the income column. I could ahve ignored it since we have such a large dataset, but because it was only 24 out of 2239 (excluding title row) rows, there is no harm in placing the average value, that way the data is not risking being skewed too much than if you were to leave it remove or ignore\n"
          ]
        }
      ]
    },
    {
      "cell_type": "markdown",
      "source": [
        "## 3. Removing Constant Columns (14pts)\n",
        "\n",
        "* Identify any columns with constant values (no variance; all rows have the same value).\n",
        "\n",
        "* Drop them from your DataFrame and confirm how many columns remain."
      ],
      "metadata": {
        "id": "PGwCqmDvPGoe"
      }
    },
    {
      "cell_type": "code",
      "source": [
        "constant_values_columns = [col for col in df_natadataset_copy.columns\n",
        "                 if df_natadataset_copy[col].nunique() == 1]\n",
        "\n",
        "print(\"Columns with constant values:\")\n",
        "print(constant_values_columns)"
      ],
      "metadata": {
        "id": "E4_oZUmZPZIV",
        "colab": {
          "base_uri": "https://localhost:8080/"
        },
        "outputId": "3c3b7e75-3326-42e8-cab2-e07cf4fc7d59"
      },
      "execution_count": 18,
      "outputs": [
        {
          "output_type": "stream",
          "name": "stdout",
          "text": [
            "Columns with constant values:\n",
            "['Z_CostContact', 'Z_Revenue']\n"
          ]
        }
      ]
    },
    {
      "cell_type": "code",
      "source": [
        "df_natadataset_copy = df_natadataset_copy.drop(columns=constant_values_columns)\n",
        "print(\"Number of columns remaining:\", df_natadataset_copy.shape[1])"
      ],
      "metadata": {
        "colab": {
          "base_uri": "https://localhost:8080/"
        },
        "id": "lxoKUn-alEx5",
        "outputId": "d5d22b4f-8130-4dda-8651-9f9bd224920a"
      },
      "execution_count": 19,
      "outputs": [
        {
          "output_type": "stream",
          "name": "stdout",
          "text": [
            "Number of columns remaining: 27\n"
          ]
        }
      ]
    },
    {
      "cell_type": "markdown",
      "source": [
        "## 4. Add a new column (15pts)\n",
        "\n",
        "* Add a new column **Customer_Days** to store the total number of days each customer has been with the company. You may follow the steps below:\n",
        "  * use `pd.to_datetime(df[\"Dt_Customer\"])` to convert the string variable to a *date-time* variable\n",
        "\n",
        "  * use `today = datetime.today()` to find the date of today\n",
        "\n",
        "  * use `(today - df[\"Dt_Customer\"]).dt.days` to find the difference between today and the onbard date."
      ],
      "metadata": {
        "id": "iiT7AKvGTI5w"
      }
    },
    {
      "cell_type": "code",
      "source": [
        "from datetime import datetime\n",
        "\n",
        "df_natadataset_copy['Dt_Customer'] = pd.to_datetime(df_natadataset_copy['Dt_Customer'])\n",
        "today = datetime.today()\n",
        "df_natadataset_copy['Customer_Days'] = (today - df_natadataset_copy['Dt_Customer']).dt.days\n",
        "print(df_natadataset_copy[['Dt_Customer', 'Customer_Days']].head())"
      ],
      "metadata": {
        "id": "uas4fiH8RSOz",
        "colab": {
          "base_uri": "https://localhost:8080/"
        },
        "outputId": "0ab8b03e-c2bb-4f52-d39c-c654f3bace55"
      },
      "execution_count": 20,
      "outputs": [
        {
          "output_type": "stream",
          "name": "stdout",
          "text": [
            "  Dt_Customer  Customer_Days\n",
            "0  2012-04-09           4943\n",
            "1  2014-08-03           4097\n",
            "2  2013-08-21           4444\n",
            "3  2014-10-02           4037\n",
            "4  2014-01-19           4293\n"
          ]
        }
      ]
    },
    {
      "cell_type": "markdown",
      "source": [
        "## 5. Categorical Features (15 pts)\n",
        "\n",
        "* For `Education` and `Marital_Status`,\n",
        "\n",
        "  * find how many customers fall into each category\n",
        "  * create pie charts to show the percentage of each category; make sure to show the percentage numbers on the chart with 2 decimal places\n",
        "\n",
        "* What do you findings suggest about the company's target demographic?"
      ],
      "metadata": {
        "id": "npCTWRGiPeaT"
      }
    },
    {
      "cell_type": "code",
      "source": [
        "print(f\"Education Customers\")\n",
        "\n",
        "education_customers = df_natadataset_copy['Education'].value_counts()\n",
        "\n",
        "print(\"Education Customers:\\n\", education_customers)\n",
        "\n",
        "total_education_customers = education_customers.sum()\n",
        "\n",
        "print(\"\\nTotal number of customers, all education categories combined (including title row):\", total_education_customers)"
      ],
      "metadata": {
        "id": "GQKgCTOSRQX5",
        "colab": {
          "base_uri": "https://localhost:8080/"
        },
        "outputId": "7a4c8cef-2972-4487-fe33-5d3a541488e5"
      },
      "execution_count": 34,
      "outputs": [
        {
          "output_type": "stream",
          "name": "stdout",
          "text": [
            "Education Customers\n",
            "Education Customers:\n",
            " Education\n",
            "Graduation    1127\n",
            "PhD            486\n",
            "Master         370\n",
            "2n Cycle       203\n",
            "Basic           54\n",
            "Name: count, dtype: int64\n",
            "\n",
            "Total number of customers, all education categories combined (including title row): 2240\n"
          ]
        }
      ]
    },
    {
      "cell_type": "code",
      "source": [
        "print(f\"Marital Status Customers\")\n",
        "\n",
        "marital_customers = df_natadataset_copy['Marital_Status'].value_counts()\n",
        "\n",
        "print(\"\\nMarital Status Customers:\\n\", marital_customers)\n",
        "\n",
        "total_marital_customers = marital_customers.sum()\n",
        "\n",
        "print(\"\\nTotal number of customers, all marital status categories combined (including title row):\", total_marital_customers)"
      ],
      "metadata": {
        "colab": {
          "base_uri": "https://localhost:8080/"
        },
        "id": "wvD-ziIJpLB5",
        "outputId": "2067154b-33e7-43ca-88c7-482047f3fec0"
      },
      "execution_count": 35,
      "outputs": [
        {
          "output_type": "stream",
          "name": "stdout",
          "text": [
            "Marital Status Customers\n",
            "\n",
            "Marital Status Customers:\n",
            " Marital_Status\n",
            "Married     864\n",
            "Together    580\n",
            "Single      480\n",
            "Divorced    232\n",
            "Widow        77\n",
            "Alone         3\n",
            "Absurd        2\n",
            "YOLO          2\n",
            "Name: count, dtype: int64\n",
            "\n",
            "Total number of customers, all marital status categories combined (including title row): 2240\n"
          ]
        }
      ]
    },
    {
      "cell_type": "code",
      "source": [
        "!pip install -U plotly"
      ],
      "metadata": {
        "colab": {
          "base_uri": "https://localhost:8080/"
        },
        "id": "1I5Ck9DkrQU7",
        "outputId": "52a212af-f06d-45fd-f3f7-ade5e679e3f5"
      },
      "execution_count": 36,
      "outputs": [
        {
          "output_type": "stream",
          "name": "stdout",
          "text": [
            "Requirement already satisfied: plotly in /usr/local/lib/python3.12/dist-packages (5.24.1)\n",
            "Collecting plotly\n",
            "  Downloading plotly-6.3.1-py3-none-any.whl.metadata (8.5 kB)\n",
            "Requirement already satisfied: narwhals>=1.15.1 in /usr/local/lib/python3.12/dist-packages (from plotly) (2.8.0)\n",
            "Requirement already satisfied: packaging in /usr/local/lib/python3.12/dist-packages (from plotly) (25.0)\n",
            "Downloading plotly-6.3.1-py3-none-any.whl (9.8 MB)\n",
            "\u001b[2K   \u001b[90m━━━━━━━━━━━━━━━━━━━━━━━━━━━━━━━━━━━━━━━━\u001b[0m \u001b[32m9.8/9.8 MB\u001b[0m \u001b[31m60.5 MB/s\u001b[0m eta \u001b[36m0:00:00\u001b[0m\n",
            "\u001b[?25hInstalling collected packages: plotly\n",
            "  Attempting uninstall: plotly\n",
            "    Found existing installation: plotly 5.24.1\n",
            "    Uninstalling plotly-5.24.1:\n",
            "      Successfully uninstalled plotly-5.24.1\n",
            "Successfully installed plotly-6.3.1\n"
          ]
        }
      ]
    },
    {
      "cell_type": "code",
      "source": [
        "import plotly.express as px\n",
        "\n",
        "df_education_customers = education_customers.reset_index()\n",
        "df_education_customers.columns = ['Education', 'Count']\n",
        "\n",
        "fig = px.pie(\n",
        "    df_education_customers,\n",
        "    names='Education',\n",
        "    values='Count',\n",
        "    title='Total Customer Distribution by Education',\n",
        "    color_discrete_sequence=px.colors.qualitative.Pastel,\n",
        "    hole=0.4)\n",
        "\n",
        "fig.update_traces(textposition='inside', textinfo='percent+label', texttemplate='%{label}: %{percent:.2%}')\n",
        "\n",
        "fig.show()\n"
      ],
      "metadata": {
        "colab": {
          "base_uri": "https://localhost:8080/",
          "height": 542
        },
        "id": "ZHywsqPsr5QN",
        "outputId": "1c23a75f-ba79-4f81-bb4c-676165a5cc95"
      },
      "execution_count": 44,
      "outputs": [
        {
          "output_type": "display_data",
          "data": {
            "text/html": [
              "<html>\n",
              "<head><meta charset=\"utf-8\" /></head>\n",
              "<body>\n",
              "    <div>            <script src=\"https://cdnjs.cloudflare.com/ajax/libs/mathjax/2.7.5/MathJax.js?config=TeX-AMS-MML_SVG\"></script><script type=\"text/javascript\">if (window.MathJax && window.MathJax.Hub && window.MathJax.Hub.Config) {window.MathJax.Hub.Config({SVG: {font: \"STIX-Web\"}});}</script>                <script type=\"text/javascript\">window.PlotlyConfig = {MathJaxConfig: 'local'};</script>\n",
              "        <script charset=\"utf-8\" src=\"https://cdn.plot.ly/plotly-3.1.1.min.js\" integrity=\"sha256-HUEFyfiTnZJxCxur99FjbKYTvKSzwDaD3/x5TqHpFu4=\" crossorigin=\"anonymous\"></script>                <div id=\"7920f772-1d44-46d7-a149-1a369cf9b7ba\" class=\"plotly-graph-div\" style=\"height:525px; width:100%;\"></div>            <script type=\"text/javascript\">                window.PLOTLYENV=window.PLOTLYENV || {};                                if (document.getElementById(\"7920f772-1d44-46d7-a149-1a369cf9b7ba\")) {                    Plotly.newPlot(                        \"7920f772-1d44-46d7-a149-1a369cf9b7ba\",                        [{\"domain\":{\"x\":[0.0,1.0],\"y\":[0.0,1.0]},\"hole\":0.4,\"hovertemplate\":\"Education=%{label}\\u003cbr\\u003eCount=%{value}\\u003cextra\\u003e\\u003c\\u002fextra\\u003e\",\"labels\":[\"Graduation\",\"PhD\",\"Master\",\"2n Cycle\",\"Basic\"],\"legendgroup\":\"\",\"name\":\"\",\"showlegend\":true,\"values\":{\"dtype\":\"i2\",\"bdata\":\"ZwTmAXIBywA2AA==\"},\"type\":\"pie\",\"textinfo\":\"percent+label\",\"textposition\":\"inside\",\"texttemplate\":\"%{label}: %{percent:.2%}\"}],                        {\"template\":{\"data\":{\"histogram2dcontour\":[{\"type\":\"histogram2dcontour\",\"colorbar\":{\"outlinewidth\":0,\"ticks\":\"\"},\"colorscale\":[[0.0,\"#0d0887\"],[0.1111111111111111,\"#46039f\"],[0.2222222222222222,\"#7201a8\"],[0.3333333333333333,\"#9c179e\"],[0.4444444444444444,\"#bd3786\"],[0.5555555555555556,\"#d8576b\"],[0.6666666666666666,\"#ed7953\"],[0.7777777777777778,\"#fb9f3a\"],[0.8888888888888888,\"#fdca26\"],[1.0,\"#f0f921\"]]}],\"choropleth\":[{\"type\":\"choropleth\",\"colorbar\":{\"outlinewidth\":0,\"ticks\":\"\"}}],\"histogram2d\":[{\"type\":\"histogram2d\",\"colorbar\":{\"outlinewidth\":0,\"ticks\":\"\"},\"colorscale\":[[0.0,\"#0d0887\"],[0.1111111111111111,\"#46039f\"],[0.2222222222222222,\"#7201a8\"],[0.3333333333333333,\"#9c179e\"],[0.4444444444444444,\"#bd3786\"],[0.5555555555555556,\"#d8576b\"],[0.6666666666666666,\"#ed7953\"],[0.7777777777777778,\"#fb9f3a\"],[0.8888888888888888,\"#fdca26\"],[1.0,\"#f0f921\"]]}],\"heatmap\":[{\"type\":\"heatmap\",\"colorbar\":{\"outlinewidth\":0,\"ticks\":\"\"},\"colorscale\":[[0.0,\"#0d0887\"],[0.1111111111111111,\"#46039f\"],[0.2222222222222222,\"#7201a8\"],[0.3333333333333333,\"#9c179e\"],[0.4444444444444444,\"#bd3786\"],[0.5555555555555556,\"#d8576b\"],[0.6666666666666666,\"#ed7953\"],[0.7777777777777778,\"#fb9f3a\"],[0.8888888888888888,\"#fdca26\"],[1.0,\"#f0f921\"]]}],\"contourcarpet\":[{\"type\":\"contourcarpet\",\"colorbar\":{\"outlinewidth\":0,\"ticks\":\"\"}}],\"contour\":[{\"type\":\"contour\",\"colorbar\":{\"outlinewidth\":0,\"ticks\":\"\"},\"colorscale\":[[0.0,\"#0d0887\"],[0.1111111111111111,\"#46039f\"],[0.2222222222222222,\"#7201a8\"],[0.3333333333333333,\"#9c179e\"],[0.4444444444444444,\"#bd3786\"],[0.5555555555555556,\"#d8576b\"],[0.6666666666666666,\"#ed7953\"],[0.7777777777777778,\"#fb9f3a\"],[0.8888888888888888,\"#fdca26\"],[1.0,\"#f0f921\"]]}],\"surface\":[{\"type\":\"surface\",\"colorbar\":{\"outlinewidth\":0,\"ticks\":\"\"},\"colorscale\":[[0.0,\"#0d0887\"],[0.1111111111111111,\"#46039f\"],[0.2222222222222222,\"#7201a8\"],[0.3333333333333333,\"#9c179e\"],[0.4444444444444444,\"#bd3786\"],[0.5555555555555556,\"#d8576b\"],[0.6666666666666666,\"#ed7953\"],[0.7777777777777778,\"#fb9f3a\"],[0.8888888888888888,\"#fdca26\"],[1.0,\"#f0f921\"]]}],\"mesh3d\":[{\"type\":\"mesh3d\",\"colorbar\":{\"outlinewidth\":0,\"ticks\":\"\"}}],\"scatter\":[{\"fillpattern\":{\"fillmode\":\"overlay\",\"size\":10,\"solidity\":0.2},\"type\":\"scatter\"}],\"parcoords\":[{\"type\":\"parcoords\",\"line\":{\"colorbar\":{\"outlinewidth\":0,\"ticks\":\"\"}}}],\"scatterpolargl\":[{\"type\":\"scatterpolargl\",\"marker\":{\"colorbar\":{\"outlinewidth\":0,\"ticks\":\"\"}}}],\"bar\":[{\"error_x\":{\"color\":\"#2a3f5f\"},\"error_y\":{\"color\":\"#2a3f5f\"},\"marker\":{\"line\":{\"color\":\"#E5ECF6\",\"width\":0.5},\"pattern\":{\"fillmode\":\"overlay\",\"size\":10,\"solidity\":0.2}},\"type\":\"bar\"}],\"scattergeo\":[{\"type\":\"scattergeo\",\"marker\":{\"colorbar\":{\"outlinewidth\":0,\"ticks\":\"\"}}}],\"scatterpolar\":[{\"type\":\"scatterpolar\",\"marker\":{\"colorbar\":{\"outlinewidth\":0,\"ticks\":\"\"}}}],\"histogram\":[{\"marker\":{\"pattern\":{\"fillmode\":\"overlay\",\"size\":10,\"solidity\":0.2}},\"type\":\"histogram\"}],\"scattergl\":[{\"type\":\"scattergl\",\"marker\":{\"colorbar\":{\"outlinewidth\":0,\"ticks\":\"\"}}}],\"scatter3d\":[{\"type\":\"scatter3d\",\"line\":{\"colorbar\":{\"outlinewidth\":0,\"ticks\":\"\"}},\"marker\":{\"colorbar\":{\"outlinewidth\":0,\"ticks\":\"\"}}}],\"scattermap\":[{\"type\":\"scattermap\",\"marker\":{\"colorbar\":{\"outlinewidth\":0,\"ticks\":\"\"}}}],\"scattermapbox\":[{\"type\":\"scattermapbox\",\"marker\":{\"colorbar\":{\"outlinewidth\":0,\"ticks\":\"\"}}}],\"scatterternary\":[{\"type\":\"scatterternary\",\"marker\":{\"colorbar\":{\"outlinewidth\":0,\"ticks\":\"\"}}}],\"scattercarpet\":[{\"type\":\"scattercarpet\",\"marker\":{\"colorbar\":{\"outlinewidth\":0,\"ticks\":\"\"}}}],\"carpet\":[{\"aaxis\":{\"endlinecolor\":\"#2a3f5f\",\"gridcolor\":\"white\",\"linecolor\":\"white\",\"minorgridcolor\":\"white\",\"startlinecolor\":\"#2a3f5f\"},\"baxis\":{\"endlinecolor\":\"#2a3f5f\",\"gridcolor\":\"white\",\"linecolor\":\"white\",\"minorgridcolor\":\"white\",\"startlinecolor\":\"#2a3f5f\"},\"type\":\"carpet\"}],\"table\":[{\"cells\":{\"fill\":{\"color\":\"#EBF0F8\"},\"line\":{\"color\":\"white\"}},\"header\":{\"fill\":{\"color\":\"#C8D4E3\"},\"line\":{\"color\":\"white\"}},\"type\":\"table\"}],\"barpolar\":[{\"marker\":{\"line\":{\"color\":\"#E5ECF6\",\"width\":0.5},\"pattern\":{\"fillmode\":\"overlay\",\"size\":10,\"solidity\":0.2}},\"type\":\"barpolar\"}],\"pie\":[{\"automargin\":true,\"type\":\"pie\"}]},\"layout\":{\"autotypenumbers\":\"strict\",\"colorway\":[\"#636efa\",\"#EF553B\",\"#00cc96\",\"#ab63fa\",\"#FFA15A\",\"#19d3f3\",\"#FF6692\",\"#B6E880\",\"#FF97FF\",\"#FECB52\"],\"font\":{\"color\":\"#2a3f5f\"},\"hovermode\":\"closest\",\"hoverlabel\":{\"align\":\"left\"},\"paper_bgcolor\":\"white\",\"plot_bgcolor\":\"#E5ECF6\",\"polar\":{\"bgcolor\":\"#E5ECF6\",\"angularaxis\":{\"gridcolor\":\"white\",\"linecolor\":\"white\",\"ticks\":\"\"},\"radialaxis\":{\"gridcolor\":\"white\",\"linecolor\":\"white\",\"ticks\":\"\"}},\"ternary\":{\"bgcolor\":\"#E5ECF6\",\"aaxis\":{\"gridcolor\":\"white\",\"linecolor\":\"white\",\"ticks\":\"\"},\"baxis\":{\"gridcolor\":\"white\",\"linecolor\":\"white\",\"ticks\":\"\"},\"caxis\":{\"gridcolor\":\"white\",\"linecolor\":\"white\",\"ticks\":\"\"}},\"coloraxis\":{\"colorbar\":{\"outlinewidth\":0,\"ticks\":\"\"}},\"colorscale\":{\"sequential\":[[0.0,\"#0d0887\"],[0.1111111111111111,\"#46039f\"],[0.2222222222222222,\"#7201a8\"],[0.3333333333333333,\"#9c179e\"],[0.4444444444444444,\"#bd3786\"],[0.5555555555555556,\"#d8576b\"],[0.6666666666666666,\"#ed7953\"],[0.7777777777777778,\"#fb9f3a\"],[0.8888888888888888,\"#fdca26\"],[1.0,\"#f0f921\"]],\"sequentialminus\":[[0.0,\"#0d0887\"],[0.1111111111111111,\"#46039f\"],[0.2222222222222222,\"#7201a8\"],[0.3333333333333333,\"#9c179e\"],[0.4444444444444444,\"#bd3786\"],[0.5555555555555556,\"#d8576b\"],[0.6666666666666666,\"#ed7953\"],[0.7777777777777778,\"#fb9f3a\"],[0.8888888888888888,\"#fdca26\"],[1.0,\"#f0f921\"]],\"diverging\":[[0,\"#8e0152\"],[0.1,\"#c51b7d\"],[0.2,\"#de77ae\"],[0.3,\"#f1b6da\"],[0.4,\"#fde0ef\"],[0.5,\"#f7f7f7\"],[0.6,\"#e6f5d0\"],[0.7,\"#b8e186\"],[0.8,\"#7fbc41\"],[0.9,\"#4d9221\"],[1,\"#276419\"]]},\"xaxis\":{\"gridcolor\":\"white\",\"linecolor\":\"white\",\"ticks\":\"\",\"title\":{\"standoff\":15},\"zerolinecolor\":\"white\",\"automargin\":true,\"zerolinewidth\":2},\"yaxis\":{\"gridcolor\":\"white\",\"linecolor\":\"white\",\"ticks\":\"\",\"title\":{\"standoff\":15},\"zerolinecolor\":\"white\",\"automargin\":true,\"zerolinewidth\":2},\"scene\":{\"xaxis\":{\"backgroundcolor\":\"#E5ECF6\",\"gridcolor\":\"white\",\"linecolor\":\"white\",\"showbackground\":true,\"ticks\":\"\",\"zerolinecolor\":\"white\",\"gridwidth\":2},\"yaxis\":{\"backgroundcolor\":\"#E5ECF6\",\"gridcolor\":\"white\",\"linecolor\":\"white\",\"showbackground\":true,\"ticks\":\"\",\"zerolinecolor\":\"white\",\"gridwidth\":2},\"zaxis\":{\"backgroundcolor\":\"#E5ECF6\",\"gridcolor\":\"white\",\"linecolor\":\"white\",\"showbackground\":true,\"ticks\":\"\",\"zerolinecolor\":\"white\",\"gridwidth\":2}},\"shapedefaults\":{\"line\":{\"color\":\"#2a3f5f\"}},\"annotationdefaults\":{\"arrowcolor\":\"#2a3f5f\",\"arrowhead\":0,\"arrowwidth\":1},\"geo\":{\"bgcolor\":\"white\",\"landcolor\":\"#E5ECF6\",\"subunitcolor\":\"white\",\"showland\":true,\"showlakes\":true,\"lakecolor\":\"white\"},\"title\":{\"x\":0.05},\"mapbox\":{\"style\":\"light\"}}},\"legend\":{\"tracegroupgap\":0},\"title\":{\"text\":\"Total Customer Distribution by Education\"},\"piecolorway\":[\"rgb(102, 197, 204)\",\"rgb(246, 207, 113)\",\"rgb(248, 156, 116)\",\"rgb(220, 176, 242)\",\"rgb(135, 197, 95)\",\"rgb(158, 185, 243)\",\"rgb(254, 136, 177)\",\"rgb(201, 219, 116)\",\"rgb(139, 224, 164)\",\"rgb(180, 151, 231)\",\"rgb(179, 179, 179)\"]},                        {\"responsive\": true}                    ).then(function(){\n",
              "                            \n",
              "var gd = document.getElementById('7920f772-1d44-46d7-a149-1a369cf9b7ba');\n",
              "var x = new MutationObserver(function (mutations, observer) {{\n",
              "        var display = window.getComputedStyle(gd).display;\n",
              "        if (!display || display === 'none') {{\n",
              "            console.log([gd, 'removed!']);\n",
              "            Plotly.purge(gd);\n",
              "            observer.disconnect();\n",
              "        }}\n",
              "}});\n",
              "\n",
              "// Listen for the removal of the full notebook cells\n",
              "var notebookContainer = gd.closest('#notebook-container');\n",
              "if (notebookContainer) {{\n",
              "    x.observe(notebookContainer, {childList: true});\n",
              "}}\n",
              "\n",
              "// Listen for the clearing of the current output cell\n",
              "var outputEl = gd.closest('.output');\n",
              "if (outputEl) {{\n",
              "    x.observe(outputEl, {childList: true});\n",
              "}}\n",
              "\n",
              "                        })                };            </script>        </div>\n",
              "</body>\n",
              "</html>"
            ]
          },
          "metadata": {}
        }
      ]
    },
    {
      "cell_type": "code",
      "source": [
        "df_marital_customers = marital_customers.reset_index()\n",
        "df_marital_customers.columns = ['Marital Status', 'Count']\n",
        "\n",
        "fig = px.pie(\n",
        "    df_marital_customers,\n",
        "    names='Marital Status',\n",
        "    values='Count',\n",
        "    title='Total Customer Distribution by Marital Status',\n",
        "    color_discrete_sequence=px.colors.qualitative.Pastel,\n",
        "    hole=0.4)\n",
        "\n",
        "fig.update_traces(textposition='inside', textinfo='percent+label', texttemplate='%{label}: %{percent:.2%}')\n",
        "\n",
        "fig.show()"
      ],
      "metadata": {
        "colab": {
          "base_uri": "https://localhost:8080/",
          "height": 542
        },
        "id": "TVPmx_RMvG1F",
        "outputId": "02226cd9-fbc2-45b2-f8c1-0b518def04bd"
      },
      "execution_count": 46,
      "outputs": [
        {
          "output_type": "display_data",
          "data": {
            "text/html": [
              "<html>\n",
              "<head><meta charset=\"utf-8\" /></head>\n",
              "<body>\n",
              "    <div>            <script src=\"https://cdnjs.cloudflare.com/ajax/libs/mathjax/2.7.5/MathJax.js?config=TeX-AMS-MML_SVG\"></script><script type=\"text/javascript\">if (window.MathJax && window.MathJax.Hub && window.MathJax.Hub.Config) {window.MathJax.Hub.Config({SVG: {font: \"STIX-Web\"}});}</script>                <script type=\"text/javascript\">window.PlotlyConfig = {MathJaxConfig: 'local'};</script>\n",
              "        <script charset=\"utf-8\" src=\"https://cdn.plot.ly/plotly-3.1.1.min.js\" integrity=\"sha256-HUEFyfiTnZJxCxur99FjbKYTvKSzwDaD3/x5TqHpFu4=\" crossorigin=\"anonymous\"></script>                <div id=\"1ca4a71b-b502-4567-843e-c9d1d1fe929d\" class=\"plotly-graph-div\" style=\"height:525px; width:100%;\"></div>            <script type=\"text/javascript\">                window.PLOTLYENV=window.PLOTLYENV || {};                                if (document.getElementById(\"1ca4a71b-b502-4567-843e-c9d1d1fe929d\")) {                    Plotly.newPlot(                        \"1ca4a71b-b502-4567-843e-c9d1d1fe929d\",                        [{\"domain\":{\"x\":[0.0,1.0],\"y\":[0.0,1.0]},\"hole\":0.4,\"hovertemplate\":\"Marital Status=%{label}\\u003cbr\\u003eCount=%{value}\\u003cextra\\u003e\\u003c\\u002fextra\\u003e\",\"labels\":[\"Married\",\"Together\",\"Single\",\"Divorced\",\"Widow\",\"Alone\",\"Absurd\",\"YOLO\"],\"legendgroup\":\"\",\"name\":\"\",\"showlegend\":true,\"values\":{\"dtype\":\"i2\",\"bdata\":\"YANEAuAB6ABNAAMAAgACAA==\"},\"type\":\"pie\",\"textinfo\":\"percent+label\",\"textposition\":\"inside\",\"texttemplate\":\"%{label}: %{percent:.2%}\"}],                        {\"template\":{\"data\":{\"histogram2dcontour\":[{\"type\":\"histogram2dcontour\",\"colorbar\":{\"outlinewidth\":0,\"ticks\":\"\"},\"colorscale\":[[0.0,\"#0d0887\"],[0.1111111111111111,\"#46039f\"],[0.2222222222222222,\"#7201a8\"],[0.3333333333333333,\"#9c179e\"],[0.4444444444444444,\"#bd3786\"],[0.5555555555555556,\"#d8576b\"],[0.6666666666666666,\"#ed7953\"],[0.7777777777777778,\"#fb9f3a\"],[0.8888888888888888,\"#fdca26\"],[1.0,\"#f0f921\"]]}],\"choropleth\":[{\"type\":\"choropleth\",\"colorbar\":{\"outlinewidth\":0,\"ticks\":\"\"}}],\"histogram2d\":[{\"type\":\"histogram2d\",\"colorbar\":{\"outlinewidth\":0,\"ticks\":\"\"},\"colorscale\":[[0.0,\"#0d0887\"],[0.1111111111111111,\"#46039f\"],[0.2222222222222222,\"#7201a8\"],[0.3333333333333333,\"#9c179e\"],[0.4444444444444444,\"#bd3786\"],[0.5555555555555556,\"#d8576b\"],[0.6666666666666666,\"#ed7953\"],[0.7777777777777778,\"#fb9f3a\"],[0.8888888888888888,\"#fdca26\"],[1.0,\"#f0f921\"]]}],\"heatmap\":[{\"type\":\"heatmap\",\"colorbar\":{\"outlinewidth\":0,\"ticks\":\"\"},\"colorscale\":[[0.0,\"#0d0887\"],[0.1111111111111111,\"#46039f\"],[0.2222222222222222,\"#7201a8\"],[0.3333333333333333,\"#9c179e\"],[0.4444444444444444,\"#bd3786\"],[0.5555555555555556,\"#d8576b\"],[0.6666666666666666,\"#ed7953\"],[0.7777777777777778,\"#fb9f3a\"],[0.8888888888888888,\"#fdca26\"],[1.0,\"#f0f921\"]]}],\"contourcarpet\":[{\"type\":\"contourcarpet\",\"colorbar\":{\"outlinewidth\":0,\"ticks\":\"\"}}],\"contour\":[{\"type\":\"contour\",\"colorbar\":{\"outlinewidth\":0,\"ticks\":\"\"},\"colorscale\":[[0.0,\"#0d0887\"],[0.1111111111111111,\"#46039f\"],[0.2222222222222222,\"#7201a8\"],[0.3333333333333333,\"#9c179e\"],[0.4444444444444444,\"#bd3786\"],[0.5555555555555556,\"#d8576b\"],[0.6666666666666666,\"#ed7953\"],[0.7777777777777778,\"#fb9f3a\"],[0.8888888888888888,\"#fdca26\"],[1.0,\"#f0f921\"]]}],\"surface\":[{\"type\":\"surface\",\"colorbar\":{\"outlinewidth\":0,\"ticks\":\"\"},\"colorscale\":[[0.0,\"#0d0887\"],[0.1111111111111111,\"#46039f\"],[0.2222222222222222,\"#7201a8\"],[0.3333333333333333,\"#9c179e\"],[0.4444444444444444,\"#bd3786\"],[0.5555555555555556,\"#d8576b\"],[0.6666666666666666,\"#ed7953\"],[0.7777777777777778,\"#fb9f3a\"],[0.8888888888888888,\"#fdca26\"],[1.0,\"#f0f921\"]]}],\"mesh3d\":[{\"type\":\"mesh3d\",\"colorbar\":{\"outlinewidth\":0,\"ticks\":\"\"}}],\"scatter\":[{\"fillpattern\":{\"fillmode\":\"overlay\",\"size\":10,\"solidity\":0.2},\"type\":\"scatter\"}],\"parcoords\":[{\"type\":\"parcoords\",\"line\":{\"colorbar\":{\"outlinewidth\":0,\"ticks\":\"\"}}}],\"scatterpolargl\":[{\"type\":\"scatterpolargl\",\"marker\":{\"colorbar\":{\"outlinewidth\":0,\"ticks\":\"\"}}}],\"bar\":[{\"error_x\":{\"color\":\"#2a3f5f\"},\"error_y\":{\"color\":\"#2a3f5f\"},\"marker\":{\"line\":{\"color\":\"#E5ECF6\",\"width\":0.5},\"pattern\":{\"fillmode\":\"overlay\",\"size\":10,\"solidity\":0.2}},\"type\":\"bar\"}],\"scattergeo\":[{\"type\":\"scattergeo\",\"marker\":{\"colorbar\":{\"outlinewidth\":0,\"ticks\":\"\"}}}],\"scatterpolar\":[{\"type\":\"scatterpolar\",\"marker\":{\"colorbar\":{\"outlinewidth\":0,\"ticks\":\"\"}}}],\"histogram\":[{\"marker\":{\"pattern\":{\"fillmode\":\"overlay\",\"size\":10,\"solidity\":0.2}},\"type\":\"histogram\"}],\"scattergl\":[{\"type\":\"scattergl\",\"marker\":{\"colorbar\":{\"outlinewidth\":0,\"ticks\":\"\"}}}],\"scatter3d\":[{\"type\":\"scatter3d\",\"line\":{\"colorbar\":{\"outlinewidth\":0,\"ticks\":\"\"}},\"marker\":{\"colorbar\":{\"outlinewidth\":0,\"ticks\":\"\"}}}],\"scattermap\":[{\"type\":\"scattermap\",\"marker\":{\"colorbar\":{\"outlinewidth\":0,\"ticks\":\"\"}}}],\"scattermapbox\":[{\"type\":\"scattermapbox\",\"marker\":{\"colorbar\":{\"outlinewidth\":0,\"ticks\":\"\"}}}],\"scatterternary\":[{\"type\":\"scatterternary\",\"marker\":{\"colorbar\":{\"outlinewidth\":0,\"ticks\":\"\"}}}],\"scattercarpet\":[{\"type\":\"scattercarpet\",\"marker\":{\"colorbar\":{\"outlinewidth\":0,\"ticks\":\"\"}}}],\"carpet\":[{\"aaxis\":{\"endlinecolor\":\"#2a3f5f\",\"gridcolor\":\"white\",\"linecolor\":\"white\",\"minorgridcolor\":\"white\",\"startlinecolor\":\"#2a3f5f\"},\"baxis\":{\"endlinecolor\":\"#2a3f5f\",\"gridcolor\":\"white\",\"linecolor\":\"white\",\"minorgridcolor\":\"white\",\"startlinecolor\":\"#2a3f5f\"},\"type\":\"carpet\"}],\"table\":[{\"cells\":{\"fill\":{\"color\":\"#EBF0F8\"},\"line\":{\"color\":\"white\"}},\"header\":{\"fill\":{\"color\":\"#C8D4E3\"},\"line\":{\"color\":\"white\"}},\"type\":\"table\"}],\"barpolar\":[{\"marker\":{\"line\":{\"color\":\"#E5ECF6\",\"width\":0.5},\"pattern\":{\"fillmode\":\"overlay\",\"size\":10,\"solidity\":0.2}},\"type\":\"barpolar\"}],\"pie\":[{\"automargin\":true,\"type\":\"pie\"}]},\"layout\":{\"autotypenumbers\":\"strict\",\"colorway\":[\"#636efa\",\"#EF553B\",\"#00cc96\",\"#ab63fa\",\"#FFA15A\",\"#19d3f3\",\"#FF6692\",\"#B6E880\",\"#FF97FF\",\"#FECB52\"],\"font\":{\"color\":\"#2a3f5f\"},\"hovermode\":\"closest\",\"hoverlabel\":{\"align\":\"left\"},\"paper_bgcolor\":\"white\",\"plot_bgcolor\":\"#E5ECF6\",\"polar\":{\"bgcolor\":\"#E5ECF6\",\"angularaxis\":{\"gridcolor\":\"white\",\"linecolor\":\"white\",\"ticks\":\"\"},\"radialaxis\":{\"gridcolor\":\"white\",\"linecolor\":\"white\",\"ticks\":\"\"}},\"ternary\":{\"bgcolor\":\"#E5ECF6\",\"aaxis\":{\"gridcolor\":\"white\",\"linecolor\":\"white\",\"ticks\":\"\"},\"baxis\":{\"gridcolor\":\"white\",\"linecolor\":\"white\",\"ticks\":\"\"},\"caxis\":{\"gridcolor\":\"white\",\"linecolor\":\"white\",\"ticks\":\"\"}},\"coloraxis\":{\"colorbar\":{\"outlinewidth\":0,\"ticks\":\"\"}},\"colorscale\":{\"sequential\":[[0.0,\"#0d0887\"],[0.1111111111111111,\"#46039f\"],[0.2222222222222222,\"#7201a8\"],[0.3333333333333333,\"#9c179e\"],[0.4444444444444444,\"#bd3786\"],[0.5555555555555556,\"#d8576b\"],[0.6666666666666666,\"#ed7953\"],[0.7777777777777778,\"#fb9f3a\"],[0.8888888888888888,\"#fdca26\"],[1.0,\"#f0f921\"]],\"sequentialminus\":[[0.0,\"#0d0887\"],[0.1111111111111111,\"#46039f\"],[0.2222222222222222,\"#7201a8\"],[0.3333333333333333,\"#9c179e\"],[0.4444444444444444,\"#bd3786\"],[0.5555555555555556,\"#d8576b\"],[0.6666666666666666,\"#ed7953\"],[0.7777777777777778,\"#fb9f3a\"],[0.8888888888888888,\"#fdca26\"],[1.0,\"#f0f921\"]],\"diverging\":[[0,\"#8e0152\"],[0.1,\"#c51b7d\"],[0.2,\"#de77ae\"],[0.3,\"#f1b6da\"],[0.4,\"#fde0ef\"],[0.5,\"#f7f7f7\"],[0.6,\"#e6f5d0\"],[0.7,\"#b8e186\"],[0.8,\"#7fbc41\"],[0.9,\"#4d9221\"],[1,\"#276419\"]]},\"xaxis\":{\"gridcolor\":\"white\",\"linecolor\":\"white\",\"ticks\":\"\",\"title\":{\"standoff\":15},\"zerolinecolor\":\"white\",\"automargin\":true,\"zerolinewidth\":2},\"yaxis\":{\"gridcolor\":\"white\",\"linecolor\":\"white\",\"ticks\":\"\",\"title\":{\"standoff\":15},\"zerolinecolor\":\"white\",\"automargin\":true,\"zerolinewidth\":2},\"scene\":{\"xaxis\":{\"backgroundcolor\":\"#E5ECF6\",\"gridcolor\":\"white\",\"linecolor\":\"white\",\"showbackground\":true,\"ticks\":\"\",\"zerolinecolor\":\"white\",\"gridwidth\":2},\"yaxis\":{\"backgroundcolor\":\"#E5ECF6\",\"gridcolor\":\"white\",\"linecolor\":\"white\",\"showbackground\":true,\"ticks\":\"\",\"zerolinecolor\":\"white\",\"gridwidth\":2},\"zaxis\":{\"backgroundcolor\":\"#E5ECF6\",\"gridcolor\":\"white\",\"linecolor\":\"white\",\"showbackground\":true,\"ticks\":\"\",\"zerolinecolor\":\"white\",\"gridwidth\":2}},\"shapedefaults\":{\"line\":{\"color\":\"#2a3f5f\"}},\"annotationdefaults\":{\"arrowcolor\":\"#2a3f5f\",\"arrowhead\":0,\"arrowwidth\":1},\"geo\":{\"bgcolor\":\"white\",\"landcolor\":\"#E5ECF6\",\"subunitcolor\":\"white\",\"showland\":true,\"showlakes\":true,\"lakecolor\":\"white\"},\"title\":{\"x\":0.05},\"mapbox\":{\"style\":\"light\"}}},\"legend\":{\"tracegroupgap\":0},\"title\":{\"text\":\"Total Customer Distribution by Marital Status\"},\"piecolorway\":[\"rgb(102, 197, 204)\",\"rgb(246, 207, 113)\",\"rgb(248, 156, 116)\",\"rgb(220, 176, 242)\",\"rgb(135, 197, 95)\",\"rgb(158, 185, 243)\",\"rgb(254, 136, 177)\",\"rgb(201, 219, 116)\",\"rgb(139, 224, 164)\",\"rgb(180, 151, 231)\",\"rgb(179, 179, 179)\"]},                        {\"responsive\": true}                    ).then(function(){\n",
              "                            \n",
              "var gd = document.getElementById('1ca4a71b-b502-4567-843e-c9d1d1fe929d');\n",
              "var x = new MutationObserver(function (mutations, observer) {{\n",
              "        var display = window.getComputedStyle(gd).display;\n",
              "        if (!display || display === 'none') {{\n",
              "            console.log([gd, 'removed!']);\n",
              "            Plotly.purge(gd);\n",
              "            observer.disconnect();\n",
              "        }}\n",
              "}});\n",
              "\n",
              "// Listen for the removal of the full notebook cells\n",
              "var notebookContainer = gd.closest('#notebook-container');\n",
              "if (notebookContainer) {{\n",
              "    x.observe(notebookContainer, {childList: true});\n",
              "}}\n",
              "\n",
              "// Listen for the clearing of the current output cell\n",
              "var outputEl = gd.closest('.output');\n",
              "if (outputEl) {{\n",
              "    x.observe(outputEl, {childList: true});\n",
              "}}\n",
              "\n",
              "                        })                };            </script>        </div>\n",
              "</body>\n",
              "</html>"
            ]
          },
          "metadata": {}
        }
      ]
    },
    {
      "cell_type": "code",
      "source": [
        "print(f\"Findings suggest that the targeted segment of customers would be those who have a high level of education and are in happier states of life in terms of relationships, more or less, so those who have a partner (married or together) and the single population. The rest are not as positive outcomes for relationships. This may also suggest that those who have a higher education amongst their consumers will most likley be in a positive committed relationships or single.\")"
      ],
      "metadata": {
        "colab": {
          "base_uri": "https://localhost:8080/"
        },
        "id": "YqIAcY5wwBnl",
        "outputId": "6499af3d-97b6-448e-c057-5c58972ec7ae"
      },
      "execution_count": 49,
      "outputs": [
        {
          "output_type": "stream",
          "name": "stdout",
          "text": [
            "Findings suggest that the targeted segment of customers would be those who have a high level of education and are in happier states of life in terms of relationships, more or less, so those who have a partner (married or together) and the single population. The rest are not as positive outcomes for relationships. This may also suggest that those who have a higher education amongst their consumers will most likley be in a positive committed relationships or single.\n"
          ]
        }
      ]
    },
    {
      "cell_type": "markdown",
      "source": [
        "## 6. Numeric Variables (15pts)\n",
        "\n",
        "* For `Income`, `Kidhome`, and `Teenhome`,\n",
        "  * use boxplots to visualize their distributions.\n",
        "\n",
        "* Based on these distributions, what can you say about the typical household profile of Nata's customers?"
      ],
      "metadata": {
        "id": "-PttlypqR-FN"
      }
    },
    {
      "cell_type": "code",
      "source": [
        "fig1 = px.box(\n",
        "    df_natadataset_copy,\n",
        "    x='Kidhome',\n",
        "    y='Income',\n",
        "    points='all',\n",
        "    title='Income Distribution by Kidhome')\n",
        "\n",
        "fig1.show()"
      ],
      "metadata": {
        "colab": {
          "base_uri": "https://localhost:8080/",
          "height": 542
        },
        "id": "nnryau8FyGm1",
        "outputId": "a7b3fce6-f91b-4f10-bb86-b6f37a4fd584"
      },
      "execution_count": 52,
      "outputs": [
        {
          "output_type": "display_data",
          "data": {
            "text/html": [
              "<html>\n",
              "<head><meta charset=\"utf-8\" /></head>\n",
              "<body>\n",
              "    <div>            <script src=\"https://cdnjs.cloudflare.com/ajax/libs/mathjax/2.7.5/MathJax.js?config=TeX-AMS-MML_SVG\"></script><script type=\"text/javascript\">if (window.MathJax && window.MathJax.Hub && window.MathJax.Hub.Config) {window.MathJax.Hub.Config({SVG: {font: \"STIX-Web\"}});}</script>                <script type=\"text/javascript\">window.PlotlyConfig = {MathJaxConfig: 'local'};</script>\n",
              "        <script charset=\"utf-8\" src=\"https://cdn.plot.ly/plotly-3.1.1.min.js\" integrity=\"sha256-HUEFyfiTnZJxCxur99FjbKYTvKSzwDaD3/x5TqHpFu4=\" crossorigin=\"anonymous\"></script>                <div id=\"2a6be7a7-e69f-4928-b7b1-16c1480ac039\" class=\"plotly-graph-div\" style=\"height:525px; width:100%;\"></div>            <script type=\"text/javascript\">                window.PLOTLYENV=window.PLOTLYENV || {};                                if (document.getElementById(\"2a6be7a7-e69f-4928-b7b1-16c1480ac039\")) {                    Plotly.newPlot(                        \"2a6be7a7-e69f-4928-b7b1-16c1480ac039\",                        [{\"alignmentgroup\":\"True\",\"boxpoints\":\"all\",\"hovertemplate\":\"Kidhome=%{x}\\u003cbr\\u003eIncome=%{y}\\u003cextra\\u003e\\u003c\\u002fextra\\u003e\",\"legendgroup\":\"\",\"marker\":{\"color\":\"#636efa\"},\"name\":\"\",\"notched\":false,\"offsetgroup\":\"\",\"orientation\":\"v\",\"showlegend\":false,\"x\":{\"dtype\":\"i1\",\"bdata\":\"AAEAAQEAAAEBAQEAAAEAAAEAAAEAAQAAAAABAQEAAAAAAAABAAEAAAABAAABAAABAgEAAAEAAQAAAQEAAAEAAAABAQAAAQABAAEAAQAAAAABAQEAAAEBAAAAAgEAAQEBAAEAAAAAAAAAAQEAAQAAAAAAAQEAAQEBAAECAQAAAAEAAQABAAABAAECAQEAAAAAAQABAQIAAAAAAQAAAAEAAAIAAQAAAgAAAAEBAQIBAAAAAQIAAAEAAQABAAAAAQEAAQEBAQAAAAEAAAAAAQABAQAAAAABAQABAgAAAQEAAAEAAQAAAAEBAAEAAAEBAAEAAAABAAABAQAAAAEBAAABAQAAAQIBAAEBAQEAAQABAAEAAQEAAAAAAAEAAAABAQABAAAAAQACAQABAQAAAQABAQEAAAAAAAECAAABAQEBAQEAAQEAAAABAQIBAQAAAQEAAAEAAAAAAAABAAEAAQEAAQAAAAEAAAAAAAACAQEAAAEAAAEBAQABAQABAAECAQACAQEAAAABAAEAAAAAAQEBAQEAAQABAQEBAQABAAABAAABAAABAQEBAAABAAEBAAABAQABAAAAAQEBAAABAAABAAEAAAABAQABAAEAAAAAAAABAAABAAEAAQEBAQABAAABAQEBAAAAAAABAAABAAAAAAAAAAABAAABAAAAAAAAAQAAAAAAAQEAAAEAAAABAQAAAAEAAAEBAQAAAAABAQABAAABAAEBAQEBAAAAAQEAAAABAAAAAAAAAQABAAEBAAEAAQEBAQEAAQABAQAAAAABAAABAAEBAQEBAAAAAAEBAAIAAAAAAQIAAQIBAQAAAAABAAEAAAEBAQAAAAACAAAAAAAAAAAAAQABAAAAAQAAAAAAAAABAAEAAAAAAAEBAQAAAAAAAgAAAQAAAAAAAAAAAAAAAAAAAAEAAAEAAAACAAABAQEAAAEBAAEAAQAAAQABAAABAAEAAAACAAEBAQEBAAAAAQAAAQEBAAABAAEAAAAAAAAAAAABAAEBAAEAAAAAAAAAAAEBAAEAAAEAAAEBAQEBAQABAAAAAAEAAAAAAAEAAQEAAAAAAAEAAAEAAAAAAQAAAQABAAAAAAEBAAEBAAABAQABAAAAAQABAQAAAAAAAgAAAAEAAAACAQABAQABAQAAAgABAAABAQEAAQEAAQEAAgEAAAIBAQABAQABAAAAAAEBAAAAAAEAAAEBAAAAAAEAAAAAAAABAAEBAQAAAAAAAAEAAQABAAAAAQEAAAAAAAABAQABAQECAQEAAAEAAAABAAEAAAEBAQACAQAAAAACAQABAAEAAAAAAAABAAEBAQEAAAEBAAAAAQEAAAAAAQEAAAEAAQAAAAEAAQEBAAEAAQEAAAAAAAEAAAEBAQAAAQAAAQAAAAEAAAEAAQEAAAAAAAEAAAEAAQAAAAABAAAAAAAAAQEBAAEAAQAAAQABAAABAAEBAAAAAQAAAAEBAQAAAAEBAAABAAEAAQAAAAABAQEAAQECAAAAAQEAAAEBAAAAAAEBAAABAQEAAQAAAAAAAQEAAAAAAQAAAAAAAQAAAAAAAQEAAQABAAAAAAEBAQEAAAAAAAAAAQAAAQAAAQAAAQAAAAAAAAAAAAABAQABAAABAQABAQAAAQABAQEAAQEBAAABAQECAAABAAEBAQAAAAAAAAEAAAEAAQAAAQEAAQEAAAAAAQEBAAEBAAAAAAEAAAEAAQAAAAEBAQEAAQAAAQEAAAEAAAEAAAAAAAAAAQEAAQEBAAAAAgEAAAEAAAEBAAABAAAAAAEAAAEAAQEAAAAAAAABAAAAAQAAAQEBAQAAAAABAQAAAQIAAAABAQAAAAEBAQEAAQEBAAEBAQEBAAEBAAEBAAAAAQEAAAABAAEBAAEBAAACAQIAAAAAAQEBAQABAQABAQEBAAABAQEBAAAAAAAAAAEAAAEAAAABAAAAAAEBAQAAAAEAAQEAAAAAAAAAAAAAAQEAAAACAAEBAQABAQABAAAAAQEBAQAAAQAAAAABAAAAAQABAQEAAAEBAQEAAQAAAAEAAQEBAQAAAQEBAAEAAQAAAAEAAAAAAAEBAQIAAQABAAEAAAABAQABAAEBAAIAAAACAAAAAAEBAAEAAAABAAAAAQEBAQAAAAEBAQABAAAAAAABAQEBAQAAAAEAAQEAAAABAQABAQEAAAAAAQEBAAEBAQAAAAABAQABAAABAAAAAAECAAEAAQABAQAAAAAAAAABAQEBAAEBAQABAAAAAAAAAQEAAAEAAQAAAQEAAQEAAAEAAAAAAAEBAAEBAAEAAAABAQEAAQABAAEAAAABAAABAAEAAAAAAAAAAAAAAQABAQEBAQEAAQAAAQABAAAAAQAAAAABAQABAAEBAAABAQABAQABAQABAQEAAQABAAABAQEAAAEAAAEAAAAAAQAAAAEAAQEAAAEAAAABAQAAAQEBAAAAAAEAAQABAAEAAAEAAQAAAAACAAABAAAAAQABAQEBAAEAAQAAAAAAAAEAAQAAAAEBAAEBAAABAAAAAQAAAAEAAAEAAAABAAEAAAAAAAAAAQABAAAAAAEBAAAAAQEAAQIAAQAAAAEAAAEAAQAAAAEAAAAAAAAAAQAAAQAAAQEAAAAAAAAAAQEAAQAAAQEBAQEAAAEAAQABAAAAAAABAAAAAQABAQEAAQAAAAAAAAEAAAABAAEBAQEBAQAAAQEAAAEAAAEAAQABAAEAAAEBAQEBAAABAAEBAAEBAAEAAAEBAQABAAAAAAEBAAABAAABAQABAAEAAAAAAAAAAQABAAAAAAEAAQEAAQABAAABAAAAAAEAAQAAAAEAAAEBAQAAAQAAAAACAQAAAQAAAQEAAQEBAQAAAAEBAQABAAEBAQEBAAAAAAEAAAEBAAAAAQAAAAAAAAAAAAABAAABAAAAAAABAAEAAAABAAABAQEAAAAAAQABAAEAAAEAAAEBAAEBAAABAQABAQAAAgEAAAEBAAIAAAE=\"},\"x0\":\" \",\"xaxis\":\"x\",\"y\":{\"dtype\":\"f8\",\"bdata\":\"AAAAAEBj7EAAAAAAAKHmQAAAAADQe\\u002fFAAAAAAIAF2kAAAAAAoHbsQAAAAAAghu5AAAAAAGAq60AAAAAAwFXgQAAAAADAo91AAAAAAAAQtkDNGhcL6ILpQAAAAAAATL1AAAAAACDH7kAAAAAAQPvsQAAAAADA6tBAAAAAAAA39EAAAAAAQG\\u002fkQAAAAAAAcOJAAAAAADDM8kAAAAAAgILgQAAAAAAAFuJAAAAAAAAeo0AAAAAA4J3sQAAAAACA5e9AAAAAACDe40AAAAAAQCfSQAAAAADgDepAzRoXC+iC6UAAAAAAALviQAAAAACgqPRAAAAAAIBxxUAAAAAAgNviQAAAAACAzONAAAAAAEDC5kAAAAAAEMPwQAAAAACgHehAAAAAAJBx8EAAAAAAgCnXQAAAAACgt+RAAAAAAIDm50AAAAAAsIjzQAAAAADAE9RAAAAAAIB61UDNGhcL6ILpQAAAAAAATL1AAAAAAFCE80AAAAAAAEy9QAAAAAAAYORAzRoXC+iC6UAAAAAAYLbxQAAAAADA+e9AAAAAAHBS80AAAAAAwHnhQAAAAABgKfRAAAAAAFA08EAAAAAAAB30QAAAAADwKPFAAAAAAIBI20DNGhcL6ILpQAAAAABAUutAAAAAABCA8kAAAAAA0EXwQAAAAADgL+5AAAAAAACG8EAAAAAAoEDxQAAAAABAHtlAAAAAAIC230AAAAAAIIj1QAAAAACA3vBAAAAAAGBG8kAAAAAA8FrwQM0aFwvogulAAAAAAODA70AAAAAA4JrtQAAAAAAAq9tAAAAAAMCm40AAAAAAMF\\u002fyQAAAAAAQg\\u002fJAAAAAAIC12UAAAAAAwF3rQAAAAAAAEN1AAAAAAACw2UAAAAAAwAHXQAAAAACA2+JAAAAAABDd80AAAAAAAMDcQAAAAABApeFAAAAAAICa6EAAAAAAkG7zQAAAAABAdOpAzRoXC+iC6UDNGhcL6ILpQM0aFwvogulAAAAAAECz5EAAAAAAgBLXQAAAAAAAZN1AAAAAAIBl50AAAAAAoEzpQAAAAAAQKvNAAAAAAMB86EAAAAAA4FnnQAAAAABA3+BAAAAAANDr9EAAAAAAYBPwQAAAAACwSfVAAAAAAIAE2EAAAAAAAPnnQAAAAACgl+lAAAAAAKDT4kAAAAAAIL71QAAAAAAg3\\u002fJAAAAAAOCh8EAAAAAAAPnrQAAAAABQAfVAAAAAAMB45UAAAAAAIMzoQAAAAADQKPZAAAAAAMDY4UAAAAAAQAjeQAAAAACAZ9VAAAAAACBo60AAAAAAQMvfQAAAAACADdNAAAAAAABE3kAAAAAAIOX4QAAAAAAAdPFAAAAAAHBv80AAAAAAgInqQM0aFwvogulAAAAAAADk8kAAAAAAwMLuQAAAAABg8u1AAAAAAIDu8UDNGhcL6ILpQAAAAADgSeRAAAAAAKDA7kAAAAAAAKbCQAAAAABAfOBAAAAAAICC4UAAAAAAIAfiQAAAAACwq\\u002fZAAAAAAADK70AAAAAA8AX1QAAAAAAAsPBAAAAAAGBz5EAAAAAAIDTtQAAAAABAZddAAAAAAGDS4kAAAAAAAG3hQAAAAACgOOhAAAAAAED77EAAAAAAMA3wQAAAAAAAoeZAAAAAAACw4EAAAAAAQMrtQAAAAADA7\\u002fBAAAAAAOBl6EAAAAAA4GTtQAAAAADgCetAAAAAANCb80AAAAAAwM7dQAAAAABALfFAAAAAAACv1kAAAAAAUBvyQAAAAADYMQNBAAAAAEA75UAAAAAA4IruQAAAAACAjelAAAAAAHBY8EAAAAAAwHrZQAAAAAAAVuBAAAAAAIAL3EAAAAAA4KHoQAAAAAAgJOpAAAAAAEBt6UAAAAAAsKLzQAAAAADQd\\u002fRAAAAAAKD44kAAAAAAoLHiQAAAAAAQKvNAAAAAAEA46UAAAAAAALzPQAAAAAAwUfBAAAAAAEDD3UAAAAAAQJbbQAAAAADArdhAAAAAAMCL30AAAAAAwOztQAAAAABAFfJAAAAAAOBX5kAAAAAAgEzYQAAAAADQWfBAAAAAAADk4UAAAAAAAPviQAAAAACA+ehAAAAAAECe3kAAAAAA0AHxQAAAAAAwjPNAAAAAAOAr9UAAAAAAwODmQAAAAABg4fBAAAAAACCJ8kAAAAAAoBnvQAAAAAAA8fhAAAAAAKDX40AAAAAAgHLSQAAAAAAA6dxAAAAAACDK50AAAAAAQN\\u002flQAAAAAAgfu9AAAAAACCC5kAAAAAAQAnzQAAAAAAgq+VAAAAAAMB35kAAAAAAcFLxQAAAAABgPORAAAAAAGB86UAAAAAA4HT0QAAAAADgwOVAAAAAAED48EAAAAAAgBLmQAAAAADAsPFAAAAAAGDz8kAAAAAAAAPeQAAAAADgMe9AAAAAAGCD5EAAAAAAIBXpQAAAAAAgKulAAAAAAKCD80AAAAAAAMLgQAAAAADAGeJAAAAAAHAD9EAAAAAAwNfiQAAAAACAXM1AAAAAACCj7kAAAAAAALHVQAAAAABAG9dAAAAAABB580AAAAAAAEy9QAAAAADAYu1AAAAAAPDu8UAAAAAAILjvQAAAAAAARdZAAAAAAHD98UAAAAAAQNLtQAAAAACA8d5AAAAAAGCQ80AAAAAAMFHyQAAAAACgffBAAAAAAADT70AAAAAAAG7eQAAAAACAPN1AAAAAAEAS+UAAAAAAgN7ZQAAAAABge\\u002fJAAAAAAMAs3kAAAAAAwO3uQAAAAACgdOZAAAAAAEBD0kAAAAAAIOTjQAAAAACA281AAAAAAKAC8UAAAAAA4I\\u002flQAAAAACgauJAAAAAAABg5UAAAAAAYKTiQAAAAADAj\\u002fNAAAAAACCa4kAAAAAAwM7xQAAAAACAjdVAAAAAADDp8EAAAAAAAAvfQAAAAAAgOu5AAAAAAMCg3EAAAAAAQEzgQAAAAACQMPBAAAAAAECl7UAAAAAAoAPzQAAAAACwDvFAAAAAACAs70AAAAAAAOjXQAAAAAAgFelAAAAAAABw4kAAAAAAgAbwQAAAAADgo+VAAAAAAMDp3UAAAAAA4GDyQAAAAABA2uhAAAAAAKCE80AAAAAAAEvhQAAAAACAp99AAAAAACC74kAAAAAAECT0QAAAAACAPNBAAAAAAAD63EAAAAAA4FHrQAAAAACAR+FAAAAAAECy5EAAAAAAMMHwQAAAAAAAR+xAAAAAAMA14UAAAAAAoLjsQAAAAAAgpeZAAAAAAGBo40AAAAAAAGrXQAAAAABgw\\u002fNAAAAAAIBn2kAAAAAAEOnyQAAAAACATO9AAAAAAMDV5EAAAAAAgI3IQAAAAACAC9ZAzRoXC+iC6UAAAAAA0E7xQAAAAADAdupAAAAAAMAp3EAAAAAAILDjQAAAAABwPPBAAAAAAEAc3kDNGhcL6ILpQAAAAABgo+9AAAAAAKDO4EAAAAAAIPbmQAAAAACgaO9AAAAAAADC40AAAAAAYF3uQAAAAACAAM1AAAAAAMCd2kAAAAAAAJTqQAAAAADAS91AAAAAAACC10AAAAAAgJngQAAAAADgMfBAAAAAAEAt4UAAAAAAgH7VQAAAAACAX+5AAAAAANB68kAAAAAAwPTdQAAAAACwQ\\u002fRAAAAAAMBk9EAAAAAA8MLwQAAAAABgOORAAAAAAID16kAAAAAAgPPsQAAAAACAjdpAAAAAAPAr9EAAAAAAgKHlQAAAAAAwtvRAAAAAAACp3UAAAAAAoDPgQAAAAACQXPFAAAAAAACR8UAAAAAA8AfxQAAAAAAwmvFAAAAAAABM7UAAAAAAYN7iQAAAAAAgxuhAAAAAAOC28EAAAAAAIMbvQAAAAAAgy+ZAAAAAAKAx80AAAAAAYF3uQAAAAACAxttAAAAAAKBq4kAAAAAA4CLpQAAAAABgwupAAAAAAKBq80AAAAAAwN\\u002feQAAAAACQlfFAAAAAAMCw6UAAAAAAgGzhQAAAAABAhudAAAAAAADb3EAAAAAAQCjvQAAAAABA1uJAAAAAAECC5kAAAAAAQA7WQAAAAADAkd1AAAAAAKA38EAAAAAAgBneQAAAAACgZeBAAAAAAICE00AAAAAAQMfaQAAAAAAAbeFAAAAAAOCl4UAAAAAAgALEQAAAAABgYuVAAAAAAKDy7kAAAAAA4PTiQAAAAAAAbfRAAAAAAMAL9kAAAAAAYITuQAAAAABQI\\u002fJAAAAAAIDo6EAAAAAAkEfxQAAAAACgxPBAAAAAAABm5UAAAAAAgPjNQAAAAACA5NZAAAAAAIBZzEAAAAAAwKjeQAAAAADAYPJAAAAAAKCw5EAAAAAAwMrdQAAAAAAgHOtAAAAAAMBw50AAAAAAQJPaQAAAAAAAEfBAAAAAAMCj3UAAAAAAoKDoQAAAAAAAENdAAAAAAEBM6kAAAAAAEDrwQAAAAABg6eZAAAAAAABU8kAAAAAAkIXyQAAAAABAU9NAAAAAAGCQ80AAAAAAkDv2QAAAAAAgLOhAAAAAACBD4kAAAAAAAGTdQAAAAAAAD9JAAAAAAIAp9EAAAAAAMLb2QAAAAADAxedAAAAAAOCu9kAAAAAAkGryQAAAAAAAUsRAAAAAAEDw7UAAAAAAELj0QAAAAABgsuRAAAAAANBu8EAAAAAAQF7yQAAAAADAT91AAAAAAODf6EAAAAAAgGzwQAAAAAAgKelAAAAAAMBC30AAAAAAAEy9QAAAAADABNxAAAAAAOBz60AAAAAAAK3RQAAAAADAkd1AAAAAAICo00AAAAAAwL\\u002fWQAAAAABAz+RAAAAAAODV80AAAAAAwHbXQAAAAABgM+tAAAAAAOBM7EAAAAAAgLvrQAAAAADAsOFAAAAAANBK8UAAAAAAcBzwQAAAAACACeNAAAAAAEDe9UAAAAAA4JvkQAAAAACAj+hAAAAAAIBG8EAAAAAAoJbtQAAAAABQIfFAAAAAAACr6EAAAAAAwI\\u002fzQAAAAADgM+BAAAAAAGBB8EAAAAAA0F\\u002fyQAAAAAAAIt9AAAAAAMBD6kAAAAAAoA7oQAAAAAAAAu5AAAAAAMBD4kAAAAAAIM3rQAAAAADgweJAAAAAAIAJ1EAAAAAA4ITuQAAAAACAVeRAAAAAAEBE60AAAAAAQEfuQAAAAACAFORAAAAAACAG40AAAAAAAHDiQAAAAABAet9AAAAAACAG5UAAAAAA8Ez0QAAAAACQPvNAAAAAAADK70AAAAAAoFftQAAAAACAbstAAAAAAEDK20AAAAAAgEbzQAAAAADAnOZAAAAAAFCO8kAAAAAAgHjsQAAAAADAJ+tAAAAAAAAF7UAAAAAAYCHrQAAAAAAgM\\u002fNAAAAAAHCU8EAAAAAAYN\\u002fvQAAAAADAkNpAAAAAAECZ50AAAAAAwLXXQAAAAABgbO9AAAAAAODf6EAAAAAAoDLqQAAAAAAQCPBAAAAAABDU80AAAAAA4A7hQAAAAABA6O1AAAAAACBe40AAAAAAAF\\u002ftQAAAAAAA4+dAAAAAAADC9UAAAAAAgIvlQAAAAAAQ0fNAAAAAAGDL4UAAAAAAwHvZQAAAAABwbPFAAAAAAICT80AAAAAAgOndQAAAAADg7vFAAAAAAGDY5EAAAAAAcDbxQAAAAABA8thAAAAAAAAO4EAAAAAAcALzQAAAAAAgluhAAAAAAOAx7kAAAAAAQADoQAAAAABASOdAAAAAAHC+8UAAAAAAQEzsQAAAAACA5O9AAAAAAMDl20AAAAAAAB\\u002fnQAAAAABg8OVAAAAAAGDL8kAAAAAA4PPrQAAAAAAAaNZAAAAAAMC42EAAAAAAwE7lQAAAAADA2uRAAAAAAJCM9EAAAAAAQGXqQAAAAADAGthAAAAAAEDn9EAAAAAAQF3nQAAAAACADtNAAAAAAMCF2kAAAAAAgE\\u002fjQAAAAACA+NRAAAAAAACL7UAAAAAAwOTVQAAAAAAg8vNAAAAAAMA45UAAAAAAAMzqQAAAAABAgvNAAAAAAIDpzUAAAAAAsG31QAAAAADgIeBAAAAAAND080AAAAAAsHTxQAAAAABAgO5AAAAAAODT50AAAAAAoHfpQAAAAABQQPBAAAAAAICc3EAAAAAAYEnnQAAAAAAAp+JAAAAAAKD35UAAAAAAYMXiQAAAAAAg2OJAAAAAAKBz70AAAAAA4AviQAAAAACARe5AAAAAAOAK6UAAAAAAAObJQAAAAAAALudAAAAAAGCp6kAAAAAA4BLmQAAAAAAg3uNAAAAAAKBZ50AAAAAAgM7aQAAAAACgQ+NAAAAAAIA42kAAAAAAgHvzQAAAAABALO5AAAAAAOBM6kAAAAAAQKfXQAAAAACAYONAAAAAADCA9kAAAAAAoA\\u002fxQAAAAABAM+BAAAAAAKBI7UAAAAAAwAzRQAAAAACAWddAAAAAACCX5EAAAAAAAJzZQAAAAABAXN5AAAAAAEBg3UAAAAAA4KruQAAAAACgzPFAAAAAAGAD7kAAAAAAQDroQAAAAAAAYNVAAAAAAKC35EAAAAAAgInZQAAAAABAFN5AAAAAAADR80AAAAAAQD\\u002faQAAAAADA+eVAAAAAAICI0kAAAAAAgAvWQAAAAAAAjudAAAAAAKBh5kAAAAAA4HnhQAAAAADo0gNBAAAAAEBy6kAAAAAAgM7dQAAAAAAAl+pAAAAAAADk3kAAAAAAoKbxQAAAAADgDeJAAAAAALC78UAAAAAAAJzKQAAAAABAjvRAAAAAALBT8UAAAAAA4NbgQAAAAABAGNxAAAAAAMDd8EAAAAAAAPrvQAAAAABAgO5AAAAAAIB230AAAAAA0Hz0QAAAAADAguZAAAAAAOCl9EAAAAAAoG7rQAAAAAAA0u5AAAAAALD98UAAAAAAoPLuQAAAAADAlvJAAAAAAGCx7kAAAAAAQGrmQAAAAAAA9PJAAAAAAOCv5kAAAAAA8L\\u002f5QAAAAABA\\u002fupAAAAAAGA380AAAAAAYFTwQAAAAACQHfhAAAAAAMBr3EAAAAAAUHfwQAAAAAAAt+hAAAAAAOAi6EAAAAAAIMoCQQAAAADA6+1AAAAAAIDe2UAAAAAAMNbxQAAAAADA0eZAAAAAAKB360AAAAAAgITTQAAAAABAe+xAAAAAAEBb2UAAAAAAgKLMQAAAAACAQNJAAAAAAIAB5kAAAAAAwJHUQAAAAADAgNxAAAAAAEC06kAAAAAAAPXsQAAAAADg7exAAAAAALBK8EAAAAAAkOLyQAAAAADAsOlAAAAAAMAf2kAAAAAAQNnzQAAAAAAQLPFAAAAAACCm4UAAAAAA4OHvQAAAAABgofBAAAAAAHDI8EAAAAAA4AnkQAAAAABABONAAAAAABAP8EAAAAAAwDrwQAAAAACQNPVAAAAAABihA0EAAAAAUAHzQAAAAABA9vBAAAAAAGC26EAAAAAAIOPtQAAAAABgqeRAAAAAAACOyUAAAAAAQDrnQAAAAABgPO5AAAAAAAAB4UAAAAAAgOXZQAAAAABAbuZAAAAAAEAo80AAAAAAUEPzQAAAAAAwcPFAAAAAAOBW8UAAAAAAcAj2QAAAAADgLuRAAAAAAACR8UAAAAAAQGzhQAAAAAAgFuVAAAAAAHA08EAAAAAAQC3hQAAAAAAAqdhAAAAAAED66kAAAAAAIDzgQAAAAADAg+xAAAAAAACM6EAAAAAAoLTyQAAAAACQUPVAAAAAAMA+2UAAAAAAwKrsQAAAAAAADeZAAAAAAGBD8kAAAAAA4NzsQAAAAAAAi9JAAAAAAOCf8UAAAAAAAEy9QAAAAABA3+VAAAAAALCg80AAAAAAQFDyQAAAAABA0OtAAAAAADDy9UAAAAAAQI3hQAAAAAAgK+pAAAAAAFA08EAAAAAAAALmQAAAAADg5fVAAAAAAJCV8UAAAAAAgHbwQAAAAAAQOfFAAAAAAMAT0UAAAAAAQLTuQAAAAACATe9AAAAAAKAP4UAAAAAA4M\\u002fnQAAAAADA5eJAAAAAAAAT9EAAAAAAQHj0QAAAAADAmtBAAAAAALBf8UAAAAAAIHTgQAAAAACACe9AAAAAADBf9EAAAAAAwCfpQAAAAABAe+xAAAAAAIDD80AAAAAAMG\\u002fyQAAAAADgLe9AAAAAAIBh7kAAAAAAAJLsQAAAAADA2uNAAAAAAKD14kAAAAAAYFjhQAAAAACgUvNAAAAAANAc80AAAAAAgOLeQAAAAABwV\\u002fJAAAAAAMDK50AAAAAAkE7yQAAAAABgdvBAAAAAAGDl5kAAAAAAQE3uQAAAAADwl\\u002fFAAAAAALBF80AAAAAAANzkQAAAAADAauBAAAAAAACzukAAAAAAgD3kQAAAAAAA5+NAAAAAAKAg8kAAAAAAgPboQAAAAAAgpPFAAAAAAKBy8UAAAAAAYLfhQAAAAADAGtRAAAAAAMDA3UAAAAAAgNneQAAAAABA8tNAAAAAAAC+0EAAAAAAgMjkQAAAAADgYOVAAAAAAIDp40AAAAAA4K\\u002fuQAAAAAAQBvRAAAAAAEBr0EAAAAAAYAjpQAAAAACAt+ZAAAAAAOAP5kAAAAAAUDHxQAAAAAAgYO1AAAAAAGAM8kAAAAAAQODSQAAAAAAANu5AAAAAAADx5kAAAAAAwALhQAAAAADAMfRAAAAAAACI50AAAAAAIELoQAAAAABAwutAAAAAAGD86kAAAAAAQCLtQAAAAACAs\\u002fFAAAAAAAA+2kAAAAAAwNvUQAAAAAAg3fFAAAAAAMDB6UAAAAAAwGr2QAAAAAAAG\\u002fBAAAAAAAAN3kAAAAAAwPrVQAAAAABQCfBAAAAAAAAz2UAAAAAAwKfyQAAAAADAi9VAAAAAAGDg60AAAAAAwOTVQAAAAACwbfVAAAAAABAh80AAAAAAwM32QAAAAABgfOJAAAAAADDG80AAAAAAQCTQQAAAAACADutAAAAAAKDS50AAAAAA4J\\u002frQAAAAACAithAAAAAACBO4UAAAAAA8G3xQAAAAADAKuhAAAAAAGDy80AAAAAAIGjmQAAAAACAputAAAAAAECd4EAAAAAAII7jQAAAAAAAsOBAAAAAAMD20kAAAAAAgCT0QAAAAABQ0\\u002fNAAAAAAEAW7kAAAAAAgP7qQAAAAACAZ+hAAAAAAABwzUAAAAAAwAHoQAAAAACA5e9AAAAAALAa9EAAAAAAwB7eQAAAAADApOZAAAAAAECH7UAAAAAAANbiQAAAAACgB+tAAAAAAMBv4kAAAAAA4Oz0QAAAAAAAr9ZAAAAAAEDH5UAAAAAAAEy9QAAAAABg4+JAAAAAAEAt6EAAAAAAQEbsQAAAAAAAOOVAAAAAAEAH00AAAAAAgPbpQAAAAABA1N1AAAAAALAe8UAAAAAAQH7uQAAAAADAKtVAAAAAAGCz5EAAAAAAQPTtQAAAAADAuvNAAAAAAGDq5EAAAAAAQH7jQAAAAACAGfVAAAAAAEC30EAAAAAAgC7YQAAAAACgeuFAAAAAAGDi4UAAAAAA4PToQAAAAACQNPVAAAAAAIAJ9EAAAAAA4JLmQAAAAABgoORAAAAAAGD\\u002f6EAAAAAAwJ\\u002fwQAAAAACAEd9AAAAAAMAX6UAAAAAAYLXyQAAAAAAAPdpAAAAAAIDm50AAAAAAgPvqQAAAAABAS+9AAAAAALAf80AAAAAA4BviQAAAAACAVdVAAAAAAIDa80AAAAAAIG\\u002fqQAAAAACQUPBAAAAAAIDh60AAAAAAoMTsQAAAAAAAxfRAAAAAANAZ9UAAAAAAgE7mQAAAAAAgYudAAAAAACBs5kAAAAAAQCXzQAAAAACgVvJAAAAAAMCG6UAAAAAAIGfhQAAAAACQUvdAAAAAAICs7kAAAAAAkNnxQAAAAACQjPRAAAAAAODN5EAAAAAA0DjyQAAAAADgd+ZAAAAAACCq8UAAAAAAQHbjQAAAAACg1OBAAAAAAJBF9EAAAAAAQNTXQAAAAADw8PJAAAAAAEAY8kAAAAAAUCPyQAAAAADQsvBAAAAAAABx80AAAAAAYIPmQAAAAADAtu9AAAAAAMDY2EAAAAAAcFfyQAAAAACAD+BAAAAAAECH8UAAAAAAAH3wQAAAAADg+OpAAAAAAECR7UAAAAAA4KfvQAAAAABgYOtAAAAAAJAG9EAAAAAAAAv3QAAAAAAAHc1AAAAAAGAt6UAAAAAAIErsQAAAAAAgq\\u002fBAAAAAAGBr40AAAAAAUJPwQAAAAACARNtAAAAAAMB76UAAAAAAYILlQAAAAADg4eRAAAAAAECD5kAAAAAAwIfQQAAAAABALe1AAAAAAIA46kAAAAAAINTsQAAAAACge+pAAAAAAHA\\u002f8UAAAAAAoK7pQAAAAACgB+RAAAAAACCl40AAAAAA4IDoQAAAAAAgvOpAAAAAALCx9kAAAAAA4FfgQAAAAACA5OBAAAAAAEB95UAAAAAAsI\\u002f0QAAAAABA4ONAAAAAAACyzkAAAAAAgNXsQAAAAADQq\\u002fNAAAAAADBw9EAAAAAAACn0QAAAAABA0OtAAAAAAABv4UAAAAAA4O3pQAAAAABg1+ZAAAAAAAD9skAAAAAAwFbgQAAAAACgGe9AAAAAALC380AAAAAAAOnvQAAAAACgD\\u002fRAAAAAAPB+8kAAAAAAkHTzQAAAAACAQeFAAAAAADDr9EAAAAAAAE3YQAAAAACghORAAAAAACB470AAAAAAYInvQAAAAAAAAeFAAAAAANBq8kAAAAAAwHrZQAAAAACgzelAAAAAAMCA5kAAAAAAwAzzQAAAAAAQPPdAAAAAACCC60AAAAAAgOjVQAAAAABACOJAAAAAAECk4UAAAAAAEALwQAAAAABAePRAAAAAAIAO00AAAAAAAPDhQAAAAAAA8PJAAAAAAGAE6EAAAAAAAHbdQAAAAACgoOBAAAAAAICm4kAAAAAAgALtQAAAAADAUPFAAAAAAKBy6kAAAAAAAIvfQAAAAAAAtdNAAAAAACAS4UAAAAAAAMbbQAAAAAAAf+9AAAAAAIBj4EAAAAAAQPDQQAAAAAAAgOtAAAAAAMD520AAAAAAAF\\u002fNQAAAAABAa99AAAAAAMCt8EAAAAAAoDLyQAAAAABAY\\u002fZAAAAAAHDF8EAAAAAAAFTeQAAAAACQbvNAAAAAAMBp20AAAAAAwDriQAAAAADgquZAAAAAAMAg4kAAAAAA4ErnQAAAAACA3+1AAAAAAMAK40AAAAAAAFy\\u002fQAAAAAAQk\\u002fJAAAAAAAD14EAAAAAAADLgQAAAAAAgZuBAAAAAANDO8kAAAAAAgC\\u002fhQAAAAAAgvuVAAAAAAMBQ8UAAAAAAABfcQAAAAACg3vBAAAAAAMBZ2UAAAAAAAHfaQAAAAABAPPFAAAAAAKDH5EAAAAAAAAjqQAAAAABAovFAAAAAAFCB8EAAAAAAoK\\u002fuQAAAAACA1e9AAAAAAACC5EAAAAAAgILhQAAAAADA\\u002fu9AAAAAAAB30EAAAAAAgGT0QAAAAAAAVu9AAAAAAADI1UAAAAAA8FzwQAAAAACAD+BAAAAAAJBD8UAAAAAAoELtQAAAAABAZeNAAAAAAEDC5kAAAAAAsJH1QAAAAAAwSPVAAAAAAMBG2kAAAAAAwGvoQAAAAADABuRAAAAAAGAv8EAAAAAAYO3hQAAAAAAAZvNAAAAAAODD40AAAAAAEGXyQAAAAAAge+pAAAAAAMCY10AAAAAAwJ70QAAAAAAAYOVAAAAAALCA8UAAAAAAQPX0QAAAAADAIuNAAAAAAHBs8UAAAAAAQNbiQAAAAACA8utAAAAAACAw7kAAAAAAsHvzQAAAAADgwPNAAAAAAIDx2kAAAAAA4LjrQAAAAABQd\\u002fRAAAAAAEB46kAAAAAAgM3iQAAAAABg+OlAAAAAAMBR3UAAAAAA0JDyQAAAAADA1uhAAAAAAIDpzUAAAAAA4PbvQAAAAAAAO\\u002fBAAAAAAFC+8kAAAAAAIPLzQAAAAABAmOpAAAAAAJAd+EAAAAAAgMbPQAAAAACwiPFAAAAAACBk4EAAAAAAwLThQAAAAACAGtZAAAAAACD25kAAAAAAYDrxQAAAAABA3d5AAAAAAEBo6UAAAAAAwLHnQAAAAADA0eZAAAAAAABQ40AAAAAAYBX1QAAAAABg6uZAAAAAAEAx0EAAAAAAwD\\u002fvQAAAAABQc\\u002fBAAAAAAIBS2UAAAAAAoNjkQAAAAABg5vRAAAAAAHDM8UAAAAAAoEDoQAAAAABA9eFAAAAAAADs9EAAAAAAgHHFQAAAAADAQehAAAAAACBo60AAAAAAYCTiQAAAAACAyNRAAAAAAGBR4EAAAAAAoObuQAAAAADAwdRAAAAAAECW5EAAAAAAQJbqQAAAAAAAMuxAAAAAAAD02UAAAAAAIBXsQAAAAADgovBAAAAAAABMvUAAAAAAkEz0QAAAAACgdupAAAAAAMCM1kAAAAAAIHzmQAAAAABgsetAAAAAACBj80AAAAAAAPvrQAAAAADgquVAAAAAAECW6kAAAAAAQBntQAAAAADQsvNAAAAAAACz40AAAAAAwJ7uQAAAAAAg6+dAAAAAAEA\\u002f4UAAAAAAYNXyQAAAAACQ7\\u002fNAAAAAAIAqzEAAAAAAgKjTQAAAAABgHvJAAAAAAGBK8EAAAAAAACvXQAAAAAAgH+dAAAAAAIBU4EAAAAAAQI7qQAAAAACA19tAAAAAAOAg9kAAAAAAwHjnQAAAAACAEOVAAAAAAODV6kAAAAAAAGjNQAAAAACAUtpAAAAAAMDN1UAAAAAAIK3lQAAAAAAARu5AAAAAAEDC3kAAAAAAwGjmQAAAAAAwL\\u002fNAAAAAAJBy8EAAAAAAIITsQAAAAABgbO5AAAAAACBP5UAAAAAAICzvQAAAAABg5eZAAAAAALAc8UAAAAAAsA\\u002fzQAAAAAAA5uxAAAAAACDD6kAAAAAAIGDsQAAAAACAGulAAAAAAIDbzUAAAAAAwETwQAAAAACg4uhAAAAAAKCo9EAAAAAAwOvRQAAAAABgwONAAAAAAKC74UAAAAAAoJzkQAAAAABADfBAAAAAAEDP8kAAAAAAYEryQAAAAAAgsutAAAAAAACW5EAAAAAA4A7uQAAAAACga+BAAAAAAKDE8EAAAAAAIMngQAAAAAAAdsFAAAAAAACd2UAAAAAAEN\\u002fyQAAAAABgouNAAAAAAMBT4EAAAAAAgFHyQAAAAACA7O1AAAAAAID91UAAAAAAQLnqQAAAAACAxuJAAAAAAKCw5UAAAAAAoKbiQAAAAABAgORAAAAAAMDC20AAAAAAYELiQAAAAABAmu9AAAAAACD66kAAAAAAoLr0QAAAAADABNxAAAAAAKCW5UAAAAAAwBrZQAAAAADA1uxAAAAAAAC18kAAAAAAAB3wQAAAAADACNtAAAAAAAAIm0AAAAAAAEy9QAAAAAAgyeNAAAAAAMDy00AAAAAAQMrvQAAAAAAQFfFAAAAAAJB28EAAAAAAYPzyQAAAAADAPfJAAAAAAGCh8EAAAAAAwO7qQAAAAACAv+5AAAAAAOAc8kAAAAAAgDfjQAAAAADQtvJAAAAAAICC4UAAAAAA8CP2QAAAAACg7vFAAAAAAIC33kAAAAAAYATnQAAAAABQd\\u002fRAAAAAAEAQ6kAAAAAAADLTQAAAAABgQeZAAAAAANDe9EAAAAAAgFLrQAAAAADgV+9AAAAAAADz4kAAAAAA4OvrQAAAAAAAMddAAAAAAPAv8EAAAAAAAD\\u002fiQAAAAAAA7ONAAAAAAHCK8UAAAAAAoIjmQAAAAADwNfNAAAAAAMD750AAAAAAIGDiQAAAAADgauNAAAAAAEBd2kAAAAAAQJjgQAAAAABg4OtAAAAAAODd5kAAAAAA8Ez0QAAAAABgpulAAAAAAIDHzkAAAAAAAEXWQAAAAABABeVAAAAAAKD+5EAAAAAAwOLnQAAAAAAgUO1AAAAAAGCf4EAAAAAAYDrsQAAAAACQLvNAAAAAAABMvUAAAAAAKEEDQQAAAAAAC\\u002fdAAAAAAACb1kAAAAAAYJ3lQAAAAACgfPFAAAAAAMC77UAAAAAAAIPoQAAAAACwyfNAAAAAACDS70AAAAAAgDvtQAAAAADwCfBAAAAAACCr70AAAAAA4ArmQAAAAABQQ\\u002fJAAAAAAIDW7EAAAAAAgJnaQAAAAAAg9OZAAAAAAMCB5kAAAAAAILDjQAAAAABgLuJAAAAAADD780AAAAAAgMzmQAAAAABg5PJAAAAAAMBx4kAAAAAAQPbRQAAAAADAx\\u002fFAAAAAAMAh2EAAAAAA4DfmQAAAAAAAoLlAAAAAAEB78UAAAAAAAJvaQAAAAAAAzudAAAAAAKBw8UAAAAAAoC32QAAAAAAQgvVAAAAAAIBd6UAAAAAA0IrxQAAAAACAhOFAAAAAACCO40AAAAAAgF3jQAAAAADgeehAAAAAAOAf5UAAAAAAoK\\u002fuQAAAAABAfNJAAAAAAMDL10AAAAAAIDzgQAAAAADAQdpAAAAAAMB86EAAAAAAoE3uQAAAAAAA7PRAAAAAAOCv8kAAAAAAMDfxQAAAAADAzNFAAAAAADDh8EAAAAAAUN\\u002fwQAAAAACw\\u002f\\u002fBAAAAAAACf4kAAAAAA4FnuQAAAAABws\\u002fNAAAAAAIBE4EAAAAAAQJfsQAAAAAAA2tBAAAAAAEDl6UAAAAAAYH3pQAAAAAAgGu1AAAAAACBZ8kAAAAAAIPbmQAAAAABgiuJAAAAAAOAu5EAAAAAAMGzwQAAAAABA\\u002f+tAAAAAAGCr6EAAAAAA4HnhQAAAAABgtuhAAAAAAEB260AAAAAAAOHnQAAAAABgdutAAAAAAMDa1EAAAAAAgAnsQM0aFwvogulAAAAAAMCm5kAAAAAAwIjqQM0aFwvogulAzRoXC+iC6UAAAAAAwGfUQAAAAACAi\\u002fZAzRoXC+iC6UAAAAAAwEbaQAAAAACA9OVAAAAAADBv8kAAAAAAIEDqQAAAAACAJtZAAAAAAOD84kAAAAAAQFfkQAAAAADAF91AAAAAAGA170AAAAAAgIfjQAAAAADAIdpAAAAAACAs70AAAAAA4OvoQAAAAAAAkO1AAAAAAFAJ8EAAAAAAgGriQAAAAAAAAOJAAAAAAOC75UAAAAAAYAriQAAAAAAAH+dAAAAAAPBg8EAAAAAAoNrrQAAAAACgC+JAAAAAANDw8EAAAAAAYJDzQAAAAADAEOVAAAAAANCs80AAAAAAgM3gQAAAAAAgGOxAAAAAAIAa1kAAAAAAYA7pQAAAAABAl+FAAAAAAMAP2EAAAAAAQOLgQAAAAACACvBAAAAAAEAo70AAAAAAgG7qQAAAAACAQNJAAAAAAACB20AAAAAAgOTgQAAAAACgIOVAAAAAAKDq4kAAAAAAwCjfQAAAAAAAd9pAAAAAAMBu3kAAAAAAUJf2QAAAAACgBOFAAAAAAMBL8UAAAAAAgFveQAAAAAAAkO1AAAAAAMAC1EAAAAAAYMPkQAAAAABAfuNAAAAAAEBP4EAAAAAAAMfhQAAAAABAI9VAAAAAALAl80AAAAAAEC70QAAAAACAVOlAAAAAAJAN80AAAAAAgM7pQAAAAABgGfFAAAAAAJDx8EAAAAAAoHzmQAAAAADw4fJAAAAAAEAK8kAAAAAAAK7jQAAAAADA9d9AAAAAAHDF8EAAAAAAgCTlQAAAAACArNlAAAAAAODl9kAAAAAAQMHiQAAAAABArO9AAAAAAKBM7EAAAAAA4HfmQAAAAADAJNBAAAAAAABq20AAAAAAgCjoQAAAAACgxOhAAAAAAEB49EAAAAAAIBfkQAAAAACwdfBAAAAAAICe1kAAAAAAgMngQAAAAAAA8uBAAAAAAHAp90AAAAAAgM\\u002fvQAAAAABAe+NAAAAAACCr70AAAAAAgD7tQAAAAACAB+RAAAAAAADe60AAAAAAQIftQAAAAADgqu5AAAAAAID10kAAAAAAwKjSQAAAAADAbfJAAAAAALAu8UAAAAAAsGPzQAAAAADAQe9AAAAAAGDM8kAAAAAAwFfoQAAAAAAgle1AAAAAACDv5EAAAAAA8Gf1QAAAAABgQexAAAAAAKB24UAAAAAAgPrvQAAAAAAAF+BAAAAAAMAP6kAAAAAAoIHxQAAAAABwuPBAAAAAAKAA6kAAAAAAwG7eQAAAAADAg+RAAAAAAIBr6kAAAAAAYEDoQAAAAADA3O5AAAAAAADm60AAAAAAgNbmQAAAAAAwRfNAAAAAACBb6kAAAAAAsI\\u002f0QAAAAABAguZAAAAAACD08UAAAAAAkGrzQAAAAABAfdRAAAAAAMBG6UAAAAAA4DnrQAAAAADgIeBAAAAAAGBz4kAAAAAAgJraQAAAAABASfVAAAAAAKAS8UAAAAAAIGjiQAAAAAAgQ+JAAAAAAABcq0AAAAAAoJzsQAAAAAAAB\\u002fRAAAAAAMBt20AAAAAAQBHyQAAAAAAAR9NAAAAAAIDZ60AAAAAAYOvpQAAAAAAw6vBAAAAAAECC5kAAAAAAwMjWQAAAAADAyNZAAAAAAIATwkAAAAAAoIzwQAAAAAAQkvFAAAAAAGDs7EAAAAAAAC7fQAAAAAAQSPJAAAAAALAR8EAAAAAAYBrpQAAAAADgYelAAAAAAECy5EAAAAAAgK3dQAAAAADAQd5AAAAAABAf8EAAAAAAgDTiQAAAAABAF+xAAAAAAADA8kAAAAAA4DjvQAAAAAAQk\\u002fJAAAAAAFB38EAAAAAAwBfiQAAAAADgCOdAAAAAAMAc30AAAAAAwJPaQAAAAAAwIvFAAAAAAEB+40AAAAAAIELoQAAAAABAEdhAAAAAAJB\\u002f80AAAAAAQKTlQAAAAADAaudAAAAAAIA870AAAAAAMGPyQAAAAACgG+tAAAAAADBh8kAAAAAAADf0QAAAAADACuNAAAAAAOAg9kAAAAAAQIbaQAAAAADAg+RAAAAAACCn4kAAAAAAYBLmQAAAAABg6vNAAAAAAOAO4UAAAAAAQIjtQAAAAAAg6eBAAAAAANAQ80AAAAAAwCH0QAAAAADgaeZAAAAAABDd80AAAAAAgILhQAAAAABAv+NAAAAAAEAF7kAAAAAAABPhQAAAAAAggfJAAAAAAEDC3kAAAAAAwCHyQAAAAAAAzspAAAAAAOAK5kAAAAAAIKvpQAAAAAAApudAAAAAAAC+0EAAAAAAgKHhQAAAAADQqfJAAAAAAODm4UAAAAAAYErqQAAAAAAgB\\u002fZAAAAAAOA+8UAAAAAAALzlQAAAAAAAe9pAAAAAAABn6kAAAAAA8IrxQAAAAABABulAAAAAAACC7UAAAAAAwP7vQAAAAADwwvBAAAAAAIA0yEAAAAAAoH\\u002fvQAAAAABglOBAAAAAAECe3kAAAAAAQBHrQAAAAADAsdtAAAAAAIDh60AAAAAAMOHwQAAAAACg3elAAAAAAKBA6UAAAAAAQFrSQAAAAACARvBAAAAAAAC96EAAAAAAwJHqQAAAAACgoupAAAAAAOAA50AAAAAAYAXkQAAAAAAA\\u002fdJAAAAAAKC54UAAAAAAMNbxQAAAAABg3eRAAAAAAMDO6UAAAAAAwD3WQAAAAAAgy+ZAAAAAAKA17UAAAAAAQGroQAAAAACwB\\u002fFAAAAAAMCF5UAAAAAAANjdQAAAAACAiuFAAAAAAIBR70AAAAAAQIjrQAAAAACABNhAAAAAAOB\\u002f8kAAAAAAgCfjQAAAAADAj+xAAAAAAICn7EAAAAAAAObrQAAAAADgnOtAAAAAAADs1UAAAAAA4AX0QAAAAACgtOBAAAAAANAuA0EAAAAAgMPYQAAAAAAAW+FAAAAAAEDj4UAAAAAAwJnuQAAAAADAk+hAAAAAACCY8UAAAAAAIMXoQAAAAACADOFAAAAAAICv70AAAAAAQErlQAAAAACAmeBAAAAAACBA5EAAAAAAwOHuQAAAAACA7+FAAAAAAMDd8EAAAAAAYPzyQAAAAAAgheJAAAAAACAl9UAAAAAA0JDzQAAAAACwu\\u002fFAAAAAAIDZ8EAAAAAAQLjTQAAAAABA7dpAAAAAAAD7zkAAAAAAADHoQAAAAACAOeBAAAAAAIAy8UAAAAAAAKviQAAAAACABtZAAAAAAAD81kAAAAAAoCDoQAAAAADgnuRAAAAAAFA880AAAAAAwJrrQAAAAADAfexAAAAAABDU80AAAAAAQPjnQAAAAABgK+5AAAAAAEC+0UAAAAAAAMTXQAAAAACAy9FAAAAAAOBv7kAAAAAAIIbkQAAAAABAI\\u002fVAAAAAAKA75EAAAAAAkP7xQAAAAAAA0e1AAAAAAIDG4kAAAAAAgO3RQAAAAACA3OpAAAAAAAD9wkAAAAAA4KPiQAAAAAAApOxAAAAAAKBy6UAAAAAAoKXvQAAAAADAeepAAAAAAIBj9EAAAAAAAO3yQAAAAABAGORAAAAAAOCg80AAAAAAgE7SQAAAAACAL+FAAAAAAMBo7UAAAAAAAJfVQAAAAAAAreVAAAAAAAAQ60AAAAAAAEbRQAAAAACwlPZAAAAAABAK9kAAAAAAsCj0QAAAAAAgzuJAAAAAAEBD0EAAAAAAQMvkQAAAAABA+tZAAAAAABBI8kAAAAAAMFzxQAAAAADA5+ZAAAAAAIBA0kAAAAAAgC\\u002fiQAAAAACwH\\u002fRAAAAAAOBk8kAAAAAAwBnxQAAAAACgUvNAAAAAANDn8kAAAAAAANnqQAAAAABgtORAAAAAACA660AAAAAAgDXiQAAAAAAAQeZAAAAAABAr8UAAAAAAwFzsQAAAAAAw+PNAAAAAAEC520AAAAAAMFHwQAAAAADQEPFAAAAAAICe80AAAAAAwO3uQAAAAACg9+VAAAAAAMAc30AAAAAAIC7pQAAAAAAAqd1AAAAAAABHz0AAAAAAABTkQAAAAABgauNAAAAAAKDo4kAAAAAA0AnzQAAAAAAgt+5AAAAAAIBuykAAAAAAIAvtQAAAAABQm\\u002fFAAAAAAMBw1UAAAAAAsGPwQAAAAABA+OFAAAAAANCK8UAAAAAAQJbbQAAAAAAAWOdAAAAAAEDp2EAAAAAAgOjoQAAAAABAPPFAAAAAAHDb9EAAAAAAANXkQAAAAABAy+RAAAAAAAAQ3UAAAAAAQEvcQAAAAABgQeNAAAAAAEDr70AAAAAAgLjTQAAAAAAgveRAAAAAAMCJ70AAAAAAAGTxQAAAAAAA5eBAAAAAAADn5kAAAAAAwPjnQAAAAABgneFAAAAAAOC07UAAAAAAIN\\u002fyQAAAAABAneBAAAAAAMDi50AAAAAAoAz0QAAAAAAgaOJAAAAAAECj4EAAAAAAANrbQAAAAADgiO5AAAAAACC24UAAAAAAgPXuQAAAAADgf\\u002fJAAAAAAAAl80AAAAAAYHvyQAAAAAAg\\u002f+xAAAAAAMAZ4kAAAAAAINLlQAAAAAAgW+pAAAAAAADou0AAAAAAQEPSQAAAAAAQEPZAAAAAAODW7kAAAAAAwG\\u002fiQAAAAACg1OZAAAAAAGB380AAAAAA4NzuQAAAAABwmPFAAAAAAABU1UAAAAAAwJrsQAAAAACgpfFAAAAAAGCa6EAAAAAAwNHfQAAAAAAAje5AAAAAAGDL5UAAAAAAgETgQAAAAADgO+9AAAAAACCk6UAAAAAAQLPYQAAAAADga+pAAAAAAKAj80AAAAAAMLbzQAAAAABAI9ZAAAAAAACN3EAAAAAA4O3lQAAAAACgtOpAAAAAAECH50AAAAAAIMPqQAAAAACATeRAAAAAAACd80AAAAAA4E\\u002fnQAAAAACAv+5AAAAAAKD+60AAAAAAQI7fQAAAAACQvfRAAAAAAMBv2kAAAAAAQKPwQAAAAABwDPBAAAAAAEAz9UAAAAAAAG6vQAAAAABAY91AAAAAACAt7EAAAAAAAGzYQAAAAACQU\\u002fRAAAAAAADC1UAAAAAA8J3xQAAAAACAYO9AAAAAANAy9EAAAAAAICPyQAAAAAAgbexAAAAAAACI1EAAAAAAQB7xQAAAAADAXupAAAAAAHDc8EAAAAAAAFzGQAAAAAAgMO5AAAAAAGBO8UAAAAAAUN\\u002fwQAAAAAAAZu1AAAAAACAP4EAAAAAAQPbgQAAAAACA0t1AAAAAAGAZ9EAAAAAAgATaQAAAAADAEvFAAAAAAOC65UAAAAAAAGXtQAAAAADAPOhAAAAAAIBF10AAAAAAYCPgQAAAAACQzPFAAAAAAGAE8UAAAAAAwCnxQAAAAAAwP\\u002fFAAAAAAACv3UAAAAAAALfoQAAAAACApu5AAAAAAICW3UAAAAAAoJfpQAAAAABgj+VAAAAAADA89UAAAAAAQK\\u002fyQAAAAAAgjORAAAAAAKB98EAAAAAAQJb1QAAAAACAbd5AAAAAAOAc7kAAAAAAcAXxQAAAAAAAAehAAAAAAIBM2EAAAAAAUDP2QAAAAABgxPtAAAAAAIDz7EAAAAAA4FfmQAAAAAAAodVAAAAAADDr8UAAAAAAwB7dQAAAAAAAT+ZAAAAAAICs7kAAAAAAYIntQAAAAABgOuBAAAAAAKBu4UAAAAAAwMveQAAAAADAmPZAAAAAAIBz8EAAAAAA0KvzQAAAAADgAvNAAAAAAMCG6UAAAAAAYOLrQAAAAABAfNJAAAAAAMCY4UAAAAAAALXTQAAAAADAtuBAAAAAAIAh30AAAAAAQFHxQAAAAAAQR\\u002fZAAAAAAODx8kAAAAAAYMXzQAAAAABAK9ZAAAAAAID16kAAAAAAkD3xQAAAAAAgqu9AAAAAAMCc7kAAAAAAoDvuQAAAAAAAefBAAAAAAMCQ1EAAAAAAwNncQAAAAADwh\\u002fJAAAAAAAAV4UAAAAAAwNrqQAAAAACAiupAAAAAAEC44EAAAAAAgNDYQAAAAADA6PFAAAAAAACo20AAAAAAwDTXQAAAAACgt\\u002fFAAAAAACDc4EAAAAAAgEjxQAAAAABg3e5AAAAAADB79EAAAAAAIJzhQAAAAABAe+NAAAAAAKD46EAAAAAAYM3rQAAAAACAvvNAAAAAAPCo8UAAAAAAwCzuQAAAAACgwvJAAAAAAIDJ3EAAAAAAwPLmQAAAAACwpPdAAAAAAOCc60AAAAAAUBrxQAAAAABgf\\u002fFAAAAAAOCo5UAAAAAA4PbjQAAAAACg3edAAAAAAFAv8kAAAAAAQHvvQAAAAACg2vJAAAAAADC88UAAAAAAoO70QAAAAADAMOtAAAAAAMAS40AAAAAAAOXgQAAAAABA6+NAAAAAAEC06kAAAAAAAEyxQAAAAAAA3t9AAAAAAICr4kAAAAAAoPXhQAAAAABApt5AAAAAAID+10AAAAAAQOnYQAAAAAAgG\\u002fdAAAAAAMCi7EAAAAAAIPrpQAAAAACAetVAAAAAACDj60AAAAAAoBXpQAAAAABA7dZAAAAAAIBg7EAAAAAAgNDxQAAAAADgbeNAAAAAAABk9kAAAAAAgBD3QAAAAAAAtMpAAAAAADCS90AAAAAAUFbzQAAAAADgnetAAAAAAADh30AAAAAAIHvwQAAAAACAo9dAAAAAAADB20AAAAAAwHDWQAAAAADgP+BAAAAAAOCq5kAAAAAAAKjdQAAAAACAGO9AAAAAAMBU5EAAAAAAUMzwQAAAAABgEfBAAAAAAMCR8UAAAAAAQB3jQAAAAADApvdAAAAAAKDR4EAAAAAAkKvwQAAAAACANOJAAAAAAMD24UAAAAAAwEnbQAAAAADAvdVAAAAAAECN3UAAAAAAwOrbQAAAAADgZOVAAAAAAGCI50AAAAAAMM7yQAAAAACgafFAAAAAAED\\u002f30AAAAAAAPrcQAAAAAAAutZAAAAAAABf6EAAAAAAAEy9QAAAAABQofBAAAAAAJBp8EAAAAAAQDzRQAAAAABATetAAAAAAGCP40AAAAAAIL3tQAAAAAAgZPJAAAAAACCi7UAAAAAAAOPiQAAAAAAA\\u002fe1AAAAAAOBM6EAAAAAAkFT0QAAAAABAVNxAAAAAACAA5kAAAAAAwCPiQAAAAACAAeVAAAAAAED06UAAAAAAgOPvQAAAAAAwq\\u002fJAAAAAAEDJ80AAAAAA4AzgQAAAAAAgP+tAAAAAAACi8kAAAAAA4AfiQAAAAABA0+dAAAAAAIDt1kAAAAAAgF3xQAAAAAAwIvFAAAAAAMAI7UDNGhcL6ILpQAAAAAAgu+JAzRoXC+iC6UAAAAAAYBnxQAAAAABAx+RAAAAAAFB38EAAAAAAYF7wQAAAAAAAmuRAAAAAAKDy8kAAAAAAQATfQAAAAADAxeBAAAAAAOCn6kAAAAAAoIvxQAAAAABAs9hAAAAAAACC5EAAAAAAAPnwQAAAAAAgme9AAAAAAEA820AAAAAAwJrVQM0aFwvogulAzRoXC+iC6UAAAAAAwCbbQM0aFwvogulAAAAAAGA46UAAAAAAcLjwQM0aFwvogulAAAAAAIC760AAAAAAgD31QAAAAADwfPNAAAAAAAAb3kAAAAAAoKfgQAAAAADgDupAAAAAAIDd1UAAAAAAoGnxQAAAAADAWPNAAAAAAABf6EAAAAAAYMfnQAAAAAAAkfNAAAAAAIB96kAAAAAAkAD0QAAAAABAkvJAAAAAAID66UAAAAAAcJTwQAAAAAAA5sxAAAAAAAAT80AAAAAAALbLQAAAAABA8tNAAAAAAMCi7EAAAAAAcNDxQAAAAADAgudAAAAAAMAZ9EAAAAAAYHTsQAAAAAAg8+VAAAAAAGDj4EAAAAAAQAHlQAAAAAAAVeZAAAAAAMA68EAAAAAAQBXbQAAAAADQCvFAAAAAAJCh8UAAAAAAgDbZQAAAAACgUOJAAAAAAACW2EAAAAAAQEjlQAAAAADA\\u002felAAAAAAIB46EAAAAAAoLr0QAAAAADA7O1AAAAAANAZ9EAAAAAAgNjvQAAAAADAZuBAAAAAAABE3kAAAAAAUKfxQAAAAADgJwNBAAAAAIBCz0AAAAAA4PnvQAAAAACAqOxAAAAAAMDR40AAAAAAwBrUQAAAAACgle5AAAAAAMC+3EAAAAAAgOTSQAAAAACAeeFAAAAAAKAQ4kAAAAAAwPzWQAAAAACg5u9AAAAAADAq80AAAAAAAAndQAAAAABgJ+RAAAAAAIAD70AAAAAAIOLkQAAAAACANOhAAAAAAJDl8EAAAAAAAL\\u002fQQAAAAADA0eNAAAAAAADY3UAAAAAAgGTfQAAAAAAgXuRAAAAAAACw4EAAAAAAQI7sQAAAAADAJO1AAAAAAAC87UAAAAAAQMLuQAAAAAAAG+dAAAAAALBG8kAAAAAAgMrNQAAAAAAA0t5AAAAAAHCY8UAAAAAAQEL2QAAAAAAA+fVAAAAAAOB95EAAAAAA8OjwQAAAAACgCvBAAAAAAMDA7UAAAAAA0JHxQAAAAABA1+9AAAAAAGBU80AAAAAAQN7zQAAAAAAApudAAAAAAEDW6UAAAAAAQATjQAAAAADAdNlAAAAAAKCk5UAAAAAAYMPkQAAAAADA3dlAAAAAACD+6UAAAAAAQIjwQAAAAACgnPJAAAAAAFCJ9EAAAAAA4PnvQAAAAAAAothAAAAAAADh9UAAAAAAYPLjQAAAAABA09pAAAAAALAa9EAAAAAAsATyQAAAAAAAOsFAAAAAAEAn5UAAAAAAICXrQAAAAACgqOhAAAAAAKAb4kAAAAAAgJzPQAAAAABgMOxAAAAAAACm50AAAAAA8ATyQAAAAABAfNJAAAAAAKCG4UAAAAAAwMrtQAAAAAAAZN9AAAAAAAAjzUAAAAAAQAvmQAAAAAAgZeRAAAAAAFCQ9UAAAAAAwJTiQAAAAACQrvNAAAAAAAC5tEAAAAAA4PjhQAAAAADAwttAAAAAAAAH9EAAAAAAwD3WQAAAAACglONAAAAAACBV7EAAAAAAEIDyQAAAAAAATL1AAAAAAEBj4EAAAAAAQCXsQAAAAABAl+xAAAAAACAk70AAAAAA4E3sQM0aFwvogulAAAAAAIDc10AAAAAAAILFQAAAAABA4OVAAAAAAAAw2kAAAAAAVFgkQQAAAACgzuBAAAAAAODk7UAAAAAAwEHvQAAAAACg0utAAAAAANDn8EAAAAAAoNDpQA==\"},\"y0\":\" \",\"yaxis\":\"y\",\"type\":\"box\"}],                        {\"template\":{\"data\":{\"histogram2dcontour\":[{\"type\":\"histogram2dcontour\",\"colorbar\":{\"outlinewidth\":0,\"ticks\":\"\"},\"colorscale\":[[0.0,\"#0d0887\"],[0.1111111111111111,\"#46039f\"],[0.2222222222222222,\"#7201a8\"],[0.3333333333333333,\"#9c179e\"],[0.4444444444444444,\"#bd3786\"],[0.5555555555555556,\"#d8576b\"],[0.6666666666666666,\"#ed7953\"],[0.7777777777777778,\"#fb9f3a\"],[0.8888888888888888,\"#fdca26\"],[1.0,\"#f0f921\"]]}],\"choropleth\":[{\"type\":\"choropleth\",\"colorbar\":{\"outlinewidth\":0,\"ticks\":\"\"}}],\"histogram2d\":[{\"type\":\"histogram2d\",\"colorbar\":{\"outlinewidth\":0,\"ticks\":\"\"},\"colorscale\":[[0.0,\"#0d0887\"],[0.1111111111111111,\"#46039f\"],[0.2222222222222222,\"#7201a8\"],[0.3333333333333333,\"#9c179e\"],[0.4444444444444444,\"#bd3786\"],[0.5555555555555556,\"#d8576b\"],[0.6666666666666666,\"#ed7953\"],[0.7777777777777778,\"#fb9f3a\"],[0.8888888888888888,\"#fdca26\"],[1.0,\"#f0f921\"]]}],\"heatmap\":[{\"type\":\"heatmap\",\"colorbar\":{\"outlinewidth\":0,\"ticks\":\"\"},\"colorscale\":[[0.0,\"#0d0887\"],[0.1111111111111111,\"#46039f\"],[0.2222222222222222,\"#7201a8\"],[0.3333333333333333,\"#9c179e\"],[0.4444444444444444,\"#bd3786\"],[0.5555555555555556,\"#d8576b\"],[0.6666666666666666,\"#ed7953\"],[0.7777777777777778,\"#fb9f3a\"],[0.8888888888888888,\"#fdca26\"],[1.0,\"#f0f921\"]]}],\"contourcarpet\":[{\"type\":\"contourcarpet\",\"colorbar\":{\"outlinewidth\":0,\"ticks\":\"\"}}],\"contour\":[{\"type\":\"contour\",\"colorbar\":{\"outlinewidth\":0,\"ticks\":\"\"},\"colorscale\":[[0.0,\"#0d0887\"],[0.1111111111111111,\"#46039f\"],[0.2222222222222222,\"#7201a8\"],[0.3333333333333333,\"#9c179e\"],[0.4444444444444444,\"#bd3786\"],[0.5555555555555556,\"#d8576b\"],[0.6666666666666666,\"#ed7953\"],[0.7777777777777778,\"#fb9f3a\"],[0.8888888888888888,\"#fdca26\"],[1.0,\"#f0f921\"]]}],\"surface\":[{\"type\":\"surface\",\"colorbar\":{\"outlinewidth\":0,\"ticks\":\"\"},\"colorscale\":[[0.0,\"#0d0887\"],[0.1111111111111111,\"#46039f\"],[0.2222222222222222,\"#7201a8\"],[0.3333333333333333,\"#9c179e\"],[0.4444444444444444,\"#bd3786\"],[0.5555555555555556,\"#d8576b\"],[0.6666666666666666,\"#ed7953\"],[0.7777777777777778,\"#fb9f3a\"],[0.8888888888888888,\"#fdca26\"],[1.0,\"#f0f921\"]]}],\"mesh3d\":[{\"type\":\"mesh3d\",\"colorbar\":{\"outlinewidth\":0,\"ticks\":\"\"}}],\"scatter\":[{\"fillpattern\":{\"fillmode\":\"overlay\",\"size\":10,\"solidity\":0.2},\"type\":\"scatter\"}],\"parcoords\":[{\"type\":\"parcoords\",\"line\":{\"colorbar\":{\"outlinewidth\":0,\"ticks\":\"\"}}}],\"scatterpolargl\":[{\"type\":\"scatterpolargl\",\"marker\":{\"colorbar\":{\"outlinewidth\":0,\"ticks\":\"\"}}}],\"bar\":[{\"error_x\":{\"color\":\"#2a3f5f\"},\"error_y\":{\"color\":\"#2a3f5f\"},\"marker\":{\"line\":{\"color\":\"#E5ECF6\",\"width\":0.5},\"pattern\":{\"fillmode\":\"overlay\",\"size\":10,\"solidity\":0.2}},\"type\":\"bar\"}],\"scattergeo\":[{\"type\":\"scattergeo\",\"marker\":{\"colorbar\":{\"outlinewidth\":0,\"ticks\":\"\"}}}],\"scatterpolar\":[{\"type\":\"scatterpolar\",\"marker\":{\"colorbar\":{\"outlinewidth\":0,\"ticks\":\"\"}}}],\"histogram\":[{\"marker\":{\"pattern\":{\"fillmode\":\"overlay\",\"size\":10,\"solidity\":0.2}},\"type\":\"histogram\"}],\"scattergl\":[{\"type\":\"scattergl\",\"marker\":{\"colorbar\":{\"outlinewidth\":0,\"ticks\":\"\"}}}],\"scatter3d\":[{\"type\":\"scatter3d\",\"line\":{\"colorbar\":{\"outlinewidth\":0,\"ticks\":\"\"}},\"marker\":{\"colorbar\":{\"outlinewidth\":0,\"ticks\":\"\"}}}],\"scattermap\":[{\"type\":\"scattermap\",\"marker\":{\"colorbar\":{\"outlinewidth\":0,\"ticks\":\"\"}}}],\"scattermapbox\":[{\"type\":\"scattermapbox\",\"marker\":{\"colorbar\":{\"outlinewidth\":0,\"ticks\":\"\"}}}],\"scatterternary\":[{\"type\":\"scatterternary\",\"marker\":{\"colorbar\":{\"outlinewidth\":0,\"ticks\":\"\"}}}],\"scattercarpet\":[{\"type\":\"scattercarpet\",\"marker\":{\"colorbar\":{\"outlinewidth\":0,\"ticks\":\"\"}}}],\"carpet\":[{\"aaxis\":{\"endlinecolor\":\"#2a3f5f\",\"gridcolor\":\"white\",\"linecolor\":\"white\",\"minorgridcolor\":\"white\",\"startlinecolor\":\"#2a3f5f\"},\"baxis\":{\"endlinecolor\":\"#2a3f5f\",\"gridcolor\":\"white\",\"linecolor\":\"white\",\"minorgridcolor\":\"white\",\"startlinecolor\":\"#2a3f5f\"},\"type\":\"carpet\"}],\"table\":[{\"cells\":{\"fill\":{\"color\":\"#EBF0F8\"},\"line\":{\"color\":\"white\"}},\"header\":{\"fill\":{\"color\":\"#C8D4E3\"},\"line\":{\"color\":\"white\"}},\"type\":\"table\"}],\"barpolar\":[{\"marker\":{\"line\":{\"color\":\"#E5ECF6\",\"width\":0.5},\"pattern\":{\"fillmode\":\"overlay\",\"size\":10,\"solidity\":0.2}},\"type\":\"barpolar\"}],\"pie\":[{\"automargin\":true,\"type\":\"pie\"}]},\"layout\":{\"autotypenumbers\":\"strict\",\"colorway\":[\"#636efa\",\"#EF553B\",\"#00cc96\",\"#ab63fa\",\"#FFA15A\",\"#19d3f3\",\"#FF6692\",\"#B6E880\",\"#FF97FF\",\"#FECB52\"],\"font\":{\"color\":\"#2a3f5f\"},\"hovermode\":\"closest\",\"hoverlabel\":{\"align\":\"left\"},\"paper_bgcolor\":\"white\",\"plot_bgcolor\":\"#E5ECF6\",\"polar\":{\"bgcolor\":\"#E5ECF6\",\"angularaxis\":{\"gridcolor\":\"white\",\"linecolor\":\"white\",\"ticks\":\"\"},\"radialaxis\":{\"gridcolor\":\"white\",\"linecolor\":\"white\",\"ticks\":\"\"}},\"ternary\":{\"bgcolor\":\"#E5ECF6\",\"aaxis\":{\"gridcolor\":\"white\",\"linecolor\":\"white\",\"ticks\":\"\"},\"baxis\":{\"gridcolor\":\"white\",\"linecolor\":\"white\",\"ticks\":\"\"},\"caxis\":{\"gridcolor\":\"white\",\"linecolor\":\"white\",\"ticks\":\"\"}},\"coloraxis\":{\"colorbar\":{\"outlinewidth\":0,\"ticks\":\"\"}},\"colorscale\":{\"sequential\":[[0.0,\"#0d0887\"],[0.1111111111111111,\"#46039f\"],[0.2222222222222222,\"#7201a8\"],[0.3333333333333333,\"#9c179e\"],[0.4444444444444444,\"#bd3786\"],[0.5555555555555556,\"#d8576b\"],[0.6666666666666666,\"#ed7953\"],[0.7777777777777778,\"#fb9f3a\"],[0.8888888888888888,\"#fdca26\"],[1.0,\"#f0f921\"]],\"sequentialminus\":[[0.0,\"#0d0887\"],[0.1111111111111111,\"#46039f\"],[0.2222222222222222,\"#7201a8\"],[0.3333333333333333,\"#9c179e\"],[0.4444444444444444,\"#bd3786\"],[0.5555555555555556,\"#d8576b\"],[0.6666666666666666,\"#ed7953\"],[0.7777777777777778,\"#fb9f3a\"],[0.8888888888888888,\"#fdca26\"],[1.0,\"#f0f921\"]],\"diverging\":[[0,\"#8e0152\"],[0.1,\"#c51b7d\"],[0.2,\"#de77ae\"],[0.3,\"#f1b6da\"],[0.4,\"#fde0ef\"],[0.5,\"#f7f7f7\"],[0.6,\"#e6f5d0\"],[0.7,\"#b8e186\"],[0.8,\"#7fbc41\"],[0.9,\"#4d9221\"],[1,\"#276419\"]]},\"xaxis\":{\"gridcolor\":\"white\",\"linecolor\":\"white\",\"ticks\":\"\",\"title\":{\"standoff\":15},\"zerolinecolor\":\"white\",\"automargin\":true,\"zerolinewidth\":2},\"yaxis\":{\"gridcolor\":\"white\",\"linecolor\":\"white\",\"ticks\":\"\",\"title\":{\"standoff\":15},\"zerolinecolor\":\"white\",\"automargin\":true,\"zerolinewidth\":2},\"scene\":{\"xaxis\":{\"backgroundcolor\":\"#E5ECF6\",\"gridcolor\":\"white\",\"linecolor\":\"white\",\"showbackground\":true,\"ticks\":\"\",\"zerolinecolor\":\"white\",\"gridwidth\":2},\"yaxis\":{\"backgroundcolor\":\"#E5ECF6\",\"gridcolor\":\"white\",\"linecolor\":\"white\",\"showbackground\":true,\"ticks\":\"\",\"zerolinecolor\":\"white\",\"gridwidth\":2},\"zaxis\":{\"backgroundcolor\":\"#E5ECF6\",\"gridcolor\":\"white\",\"linecolor\":\"white\",\"showbackground\":true,\"ticks\":\"\",\"zerolinecolor\":\"white\",\"gridwidth\":2}},\"shapedefaults\":{\"line\":{\"color\":\"#2a3f5f\"}},\"annotationdefaults\":{\"arrowcolor\":\"#2a3f5f\",\"arrowhead\":0,\"arrowwidth\":1},\"geo\":{\"bgcolor\":\"white\",\"landcolor\":\"#E5ECF6\",\"subunitcolor\":\"white\",\"showland\":true,\"showlakes\":true,\"lakecolor\":\"white\"},\"title\":{\"x\":0.05},\"mapbox\":{\"style\":\"light\"}}},\"xaxis\":{\"anchor\":\"y\",\"domain\":[0.0,1.0],\"title\":{\"text\":\"Kidhome\"}},\"yaxis\":{\"anchor\":\"x\",\"domain\":[0.0,1.0],\"title\":{\"text\":\"Income\"}},\"legend\":{\"tracegroupgap\":0},\"title\":{\"text\":\"Income Distribution by Kidhome\"},\"boxmode\":\"group\"},                        {\"responsive\": true}                    ).then(function(){\n",
              "                            \n",
              "var gd = document.getElementById('2a6be7a7-e69f-4928-b7b1-16c1480ac039');\n",
              "var x = new MutationObserver(function (mutations, observer) {{\n",
              "        var display = window.getComputedStyle(gd).display;\n",
              "        if (!display || display === 'none') {{\n",
              "            console.log([gd, 'removed!']);\n",
              "            Plotly.purge(gd);\n",
              "            observer.disconnect();\n",
              "        }}\n",
              "}});\n",
              "\n",
              "// Listen for the removal of the full notebook cells\n",
              "var notebookContainer = gd.closest('#notebook-container');\n",
              "if (notebookContainer) {{\n",
              "    x.observe(notebookContainer, {childList: true});\n",
              "}}\n",
              "\n",
              "// Listen for the clearing of the current output cell\n",
              "var outputEl = gd.closest('.output');\n",
              "if (outputEl) {{\n",
              "    x.observe(outputEl, {childList: true});\n",
              "}}\n",
              "\n",
              "                        })                };            </script>        </div>\n",
              "</body>\n",
              "</html>"
            ]
          },
          "metadata": {}
        }
      ]
    },
    {
      "cell_type": "code",
      "source": [
        "fig2 = px.box(\n",
        "    df_natadataset_copy,\n",
        "    x='Teenhome',\n",
        "    y='Income',\n",
        "    points='all',\n",
        "    title='Income Distribution by Teenhome')\n",
        "\n",
        "fig2.show()"
      ],
      "metadata": {
        "colab": {
          "base_uri": "https://localhost:8080/",
          "height": 542
        },
        "id": "dLKtrMjZy4UZ",
        "outputId": "ceec3dc3-98a4-469b-ccbc-961e32086d02"
      },
      "execution_count": 53,
      "outputs": [
        {
          "output_type": "display_data",
          "data": {
            "text/html": [
              "<html>\n",
              "<head><meta charset=\"utf-8\" /></head>\n",
              "<body>\n",
              "    <div>            <script src=\"https://cdnjs.cloudflare.com/ajax/libs/mathjax/2.7.5/MathJax.js?config=TeX-AMS-MML_SVG\"></script><script type=\"text/javascript\">if (window.MathJax && window.MathJax.Hub && window.MathJax.Hub.Config) {window.MathJax.Hub.Config({SVG: {font: \"STIX-Web\"}});}</script>                <script type=\"text/javascript\">window.PlotlyConfig = {MathJaxConfig: 'local'};</script>\n",
              "        <script charset=\"utf-8\" src=\"https://cdn.plot.ly/plotly-3.1.1.min.js\" integrity=\"sha256-HUEFyfiTnZJxCxur99FjbKYTvKSzwDaD3/x5TqHpFu4=\" crossorigin=\"anonymous\"></script>                <div id=\"a67c8599-db5d-46e6-90e6-bfd9827afe13\" class=\"plotly-graph-div\" style=\"height:525px; width:100%;\"></div>            <script type=\"text/javascript\">                window.PLOTLYENV=window.PLOTLYENV || {};                                if (document.getElementById(\"a67c8599-db5d-46e6-90e6-bfd9827afe13\")) {                    Plotly.newPlot(                        \"a67c8599-db5d-46e6-90e6-bfd9827afe13\",                        [{\"alignmentgroup\":\"True\",\"boxpoints\":\"all\",\"hovertemplate\":\"Teenhome=%{x}\\u003cbr\\u003eIncome=%{y}\\u003cextra\\u003e\\u003c\\u002fextra\\u003e\",\"legendgroup\":\"\",\"marker\":{\"color\":\"#636efa\"},\"name\":\"\",\"notched\":false,\"offsetgroup\":\"\",\"orientation\":\"v\",\"showlegend\":false,\"x\":{\"dtype\":\"i1\",\"bdata\":\"AAEAAAABAQAAAQAAAAEAAAEAAQAAAAEBAQABAAAAAAABAgABAQABAAEAAQAAAAAAAQEBAAAAAQAAAAABAAEBAQAAAQEBAgAAAQEAAAAAAAAAAAAAAAEBAQABAQEAAAAAAQEAAAEBAQAAAAECAAABAAEAAAEAAAEAAQAAAAAAAAEBAQEBAAEBAAABAQEAAQABAAIAAAEAAgEBAAEAAQIBAAEAAAABAQAAAAEBAAABAQEAAQEAAQAAAAAAAQEAAQAAAAABAQAAAAEBAAEAAQAAAQEBAQABAQAAAQABAAAAAgABAAEBAAABAQAAAQAAAQABAAEAAAEBAAEAAQAAAAABAAEBAQEAAgAAAQEAAQAAAAABAQEBAAAAAQABAAEBAAABAAAAAAAAAQEAAAABAQEAAAAAAAABAAABAAABAQEAAQIBAAEBAQAAAAEAAAABAAACAAAAAAAAAQEAAAEAAQABAAAAAQEBAAACAAEAAAEBAAAAAQABAAEBAQAAAQAAAAABAAABAQEBAAAAAAEAAQAAAAEAAQACAQABAAIAAQEAAQAAAAABAAAAAAACAAAAAQAAAQEAAQEBAAAAAQAAAAAAAAABAQEAAQECAAABAAEAAQAAAAAAAgABAAABAAEBAQEAAAAAAQAAAQEAAAEAAAEAAQEBAQABAQAAAQABAAABAAECAAEAAQAAAAEAAAAAAAAAAAEBAQEBAAEBAAEAAAEAAAEAAAABAQEAAQAAAQAAAAEAAAEBAQEBAQEBAQEAAQABAQEBAQEBAQAAAQABAQAAAAAAAAAAAQAAAQEAAgEAAQEBAAAAAAEAAQEBAQEBAAAAAAABAQEAAAABAAABAAEBAQEAAQEAAQAAAQEAAAEBAQABAAECAQABAAAAAQAAAQECAQEBAAEAAAABAAABAAEAAAAAAQABAAECAAEAAAEAAQAAAAABAQAAAQAAAAAAAAEBAQAAAAABAAABAAEBAQIBAAEBAAEBAQIAAAAAAAAAAAEBAAAAAQEAAQABAAAAAQAAAQEBAAEBAQEBAAEBAAEAAAAAAQEAAQAAAAEBAAEBAAABAQEAAAIBAQEBAAAAAQABAQABAAAAAAABAQICAQABAAIAAQEAAAEBAQEAAAAAAAEBAAEBAAEBAQEAAQAAAQAAAAEBAAEAAAEAAQAAAQAAAAABAAEAAAEBAQAAAQAAAAEBAQAAAAEAAAIAAAAAAAAAAQAAAAAAAQABAAABAAAAAAABAAABAAAAAAEBAAEBAAAAAAEBAAEAAQEAAQEBAQEBAQEAAQEBAAAAAAABAAEAAAABAQEBAAABAAEAAAABAAAAAAEAAAEAAQEAAQABAQEAAQEBAQABAQAAAAAAAAACAQABAAABAQAAAAAAAAEBAAEBAQAAAAEBAQABAAEAAQAAAQAAAAECAAEBAQABAAAAAQEBAAAAAQAAAAAAAAABAQAAAAAAAAEBAQEAAAEAAQAAAAABAAABAAABAAABAAAAAQEAAQABAQEBAAABAQABAAABAAABAQAAAQAAAAEBAAABAQABAQEAAAEBAQEAAQEBAgAAAAAAAQABAQEBAAEBAQEAAAEBAQIAAQEBAQEBAAABAQEBAAABAAACAQEBAQABAQEBAAEAAAABAQEAAAEBAQABAAAAAQAAAQABAQAAAAABAAEAAgEBAQEBAQEAAQAAAQEAAQABAAABAAEAAQACAAEAAAEAAAABAQAAAAAAAQEBAAEAAQAAAAEAAQEAAAEBAAEBAAEBAQEAAAEBAAABAAAAAAABAQAAAQAAAQABAQEAAAABAAEAAAAAAQABAAAAAQEAAQABAQEAAAEBAQEBAQECAAEBAQEBAQAAAAEBAAEAAAEAAgEAAQEBAQEBAAEBAQEBAQABAAAAAAABAQEAAQEAAAAAAQAAAAABAQEBAAAAAQEAAAAAAAEAAQAAAAAAAAEBAAABAQEAAAEBAAEBAQABAgEBAAEAAQEBAAABAQABAQABAQAAAAAAAQEAAQAAAQAAAQEAAQABAQAAAAEAAAAAAAAAAAEAAQABAQEBAQAAAAABAAABAAIBAAAAAQEBAAEAAQEBAAEBAAIAAQABAQEBAgABAAAAAQAAAAEBAAABAAEBAAAAAQAAAQEBAQAAAAEAAAEBAQEAAQEAAAAAAQAAAAEBAQAAAQEBAQAAAAEAAQACAQEAAQABAgEAAAABAAABAAABAAEAAQEBAAEAAQEAAAIBAAEAAAAAAQAAAAAAAAEBAAEBAAEBAAEAAAAAAQEAAQIBAQABAAABAQABAAEBAAAAAQEBAQAAAAAAAAEBAQEBAAEAAQEBAAEAAQAAAAEAAAABAAEBAAEBAQEAAQABAAEBAAEAAAABAAAAAAEBAAAAAAABAAEBAQEAAQEBAQAAAQEBAAIAAQEBAQEBAgEAAAEBAAABAAEAAgEBAQEBAAABAAAAAAEBAAEBAAEBAQAAAAABAAEAAQAAAAAAAAEBAAAAAQABAAABAQAAAAABAQEBAAAAAQAAAAEBAAABAAEAAAAAAQABAAAAAQEAAAABAAEAAAAAAQABAQEAAAABAQEAAAEAAQAAAQEBAAABAQEBAQAAAQAAAAAAAQEBAAEAAAAAAAEAAQEAAQEBAAEBAAABAAEBAQEAAQAAAAAAAQEBAQAAAQABAAEBAAABAAEAAAAAAQEBAQEBAAAAAAABAAEBAgAAAQEBAAEAAQABAQABAAEBAQAAAAIAAAAAAQAAAAEBAQEBAAABAQEAAAABAQEAAQAAAQEAAAAAAAABAQABAQAAAQABAAEBAAEAAQEAAQABAQEAAQAAAQEBAAEAAQEBAQABAAAAAQEBAQABAAABAAAAAAABAQABAQABAQABAAACAQEBAAABAAABAQEBAQABAAAAAQAAAQEAAQEBAAABAQEAAQAAAQEBAAAAAAEAAAEBAAEBAQABAQEAAQEBAQEBAAEAAQEAAAAAAQAAAgEBAQEAAAAAAAAAAQEAAQE=\"},\"x0\":\" \",\"xaxis\":\"x\",\"y\":{\"dtype\":\"f8\",\"bdata\":\"AAAAAEBj7EAAAAAAAKHmQAAAAADQe\\u002fFAAAAAAIAF2kAAAAAAoHbsQAAAAAAghu5AAAAAAGAq60AAAAAAwFXgQAAAAADAo91AAAAAAAAQtkDNGhcL6ILpQAAAAAAATL1AAAAAACDH7kAAAAAAQPvsQAAAAADA6tBAAAAAAAA39EAAAAAAQG\\u002fkQAAAAAAAcOJAAAAAADDM8kAAAAAAgILgQAAAAAAAFuJAAAAAAAAeo0AAAAAA4J3sQAAAAACA5e9AAAAAACDe40AAAAAAQCfSQAAAAADgDepAzRoXC+iC6UAAAAAAALviQAAAAACgqPRAAAAAAIBxxUAAAAAAgNviQAAAAACAzONAAAAAAEDC5kAAAAAAEMPwQAAAAACgHehAAAAAAJBx8EAAAAAAgCnXQAAAAACgt+RAAAAAAIDm50AAAAAAsIjzQAAAAADAE9RAAAAAAIB61UDNGhcL6ILpQAAAAAAATL1AAAAAAFCE80AAAAAAAEy9QAAAAAAAYORAzRoXC+iC6UAAAAAAYLbxQAAAAADA+e9AAAAAAHBS80AAAAAAwHnhQAAAAABgKfRAAAAAAFA08EAAAAAAAB30QAAAAADwKPFAAAAAAIBI20DNGhcL6ILpQAAAAABAUutAAAAAABCA8kAAAAAA0EXwQAAAAADgL+5AAAAAAACG8EAAAAAAoEDxQAAAAABAHtlAAAAAAIC230AAAAAAIIj1QAAAAACA3vBAAAAAAGBG8kAAAAAA8FrwQM0aFwvogulAAAAAAODA70AAAAAA4JrtQAAAAAAAq9tAAAAAAMCm40AAAAAAMF\\u002fyQAAAAAAQg\\u002fJAAAAAAIC12UAAAAAAwF3rQAAAAAAAEN1AAAAAAACw2UAAAAAAwAHXQAAAAACA2+JAAAAAABDd80AAAAAAAMDcQAAAAABApeFAAAAAAICa6EAAAAAAkG7zQAAAAABAdOpAzRoXC+iC6UDNGhcL6ILpQM0aFwvogulAAAAAAECz5EAAAAAAgBLXQAAAAAAAZN1AAAAAAIBl50AAAAAAoEzpQAAAAAAQKvNAAAAAAMB86EAAAAAA4FnnQAAAAABA3+BAAAAAANDr9EAAAAAAYBPwQAAAAACwSfVAAAAAAIAE2EAAAAAAAPnnQAAAAACgl+lAAAAAAKDT4kAAAAAAIL71QAAAAAAg3\\u002fJAAAAAAOCh8EAAAAAAAPnrQAAAAABQAfVAAAAAAMB45UAAAAAAIMzoQAAAAADQKPZAAAAAAMDY4UAAAAAAQAjeQAAAAACAZ9VAAAAAACBo60AAAAAAQMvfQAAAAACADdNAAAAAAABE3kAAAAAAIOX4QAAAAAAAdPFAAAAAAHBv80AAAAAAgInqQM0aFwvogulAAAAAAADk8kAAAAAAwMLuQAAAAABg8u1AAAAAAIDu8UDNGhcL6ILpQAAAAADgSeRAAAAAAKDA7kAAAAAAAKbCQAAAAABAfOBAAAAAAICC4UAAAAAAIAfiQAAAAACwq\\u002fZAAAAAAADK70AAAAAA8AX1QAAAAAAAsPBAAAAAAGBz5EAAAAAAIDTtQAAAAABAZddAAAAAAGDS4kAAAAAAAG3hQAAAAACgOOhAAAAAAED77EAAAAAAMA3wQAAAAAAAoeZAAAAAAACw4EAAAAAAQMrtQAAAAADA7\\u002fBAAAAAAOBl6EAAAAAA4GTtQAAAAADgCetAAAAAANCb80AAAAAAwM7dQAAAAABALfFAAAAAAACv1kAAAAAAUBvyQAAAAADYMQNBAAAAAEA75UAAAAAA4IruQAAAAACAjelAAAAAAHBY8EAAAAAAwHrZQAAAAAAAVuBAAAAAAIAL3EAAAAAA4KHoQAAAAAAgJOpAAAAAAEBt6UAAAAAAsKLzQAAAAADQd\\u002fRAAAAAAKD44kAAAAAAoLHiQAAAAAAQKvNAAAAAAEA46UAAAAAAALzPQAAAAAAwUfBAAAAAAEDD3UAAAAAAQJbbQAAAAADArdhAAAAAAMCL30AAAAAAwOztQAAAAABAFfJAAAAAAOBX5kAAAAAAgEzYQAAAAADQWfBAAAAAAADk4UAAAAAAAPviQAAAAACA+ehAAAAAAECe3kAAAAAA0AHxQAAAAAAwjPNAAAAAAOAr9UAAAAAAwODmQAAAAABg4fBAAAAAACCJ8kAAAAAAoBnvQAAAAAAA8fhAAAAAAKDX40AAAAAAgHLSQAAAAAAA6dxAAAAAACDK50AAAAAAQN\\u002flQAAAAAAgfu9AAAAAACCC5kAAAAAAQAnzQAAAAAAgq+VAAAAAAMB35kAAAAAAcFLxQAAAAABgPORAAAAAAGB86UAAAAAA4HT0QAAAAADgwOVAAAAAAED48EAAAAAAgBLmQAAAAADAsPFAAAAAAGDz8kAAAAAAAAPeQAAAAADgMe9AAAAAAGCD5EAAAAAAIBXpQAAAAAAgKulAAAAAAKCD80AAAAAAAMLgQAAAAADAGeJAAAAAAHAD9EAAAAAAwNfiQAAAAACAXM1AAAAAACCj7kAAAAAAALHVQAAAAABAG9dAAAAAABB580AAAAAAAEy9QAAAAADAYu1AAAAAAPDu8UAAAAAAILjvQAAAAAAARdZAAAAAAHD98UAAAAAAQNLtQAAAAACA8d5AAAAAAGCQ80AAAAAAMFHyQAAAAACgffBAAAAAAADT70AAAAAAAG7eQAAAAACAPN1AAAAAAEAS+UAAAAAAgN7ZQAAAAABge\\u002fJAAAAAAMAs3kAAAAAAwO3uQAAAAACgdOZAAAAAAEBD0kAAAAAAIOTjQAAAAACA281AAAAAAKAC8UAAAAAA4I\\u002flQAAAAACgauJAAAAAAABg5UAAAAAAYKTiQAAAAADAj\\u002fNAAAAAACCa4kAAAAAAwM7xQAAAAACAjdVAAAAAADDp8EAAAAAAAAvfQAAAAAAgOu5AAAAAAMCg3EAAAAAAQEzgQAAAAACQMPBAAAAAAECl7UAAAAAAoAPzQAAAAACwDvFAAAAAACAs70AAAAAAAOjXQAAAAAAgFelAAAAAAABw4kAAAAAAgAbwQAAAAADgo+VAAAAAAMDp3UAAAAAA4GDyQAAAAABA2uhAAAAAAKCE80AAAAAAAEvhQAAAAACAp99AAAAAACC74kAAAAAAECT0QAAAAACAPNBAAAAAAAD63EAAAAAA4FHrQAAAAACAR+FAAAAAAECy5EAAAAAAMMHwQAAAAAAAR+xAAAAAAMA14UAAAAAAoLjsQAAAAAAgpeZAAAAAAGBo40AAAAAAAGrXQAAAAABgw\\u002fNAAAAAAIBn2kAAAAAAEOnyQAAAAACATO9AAAAAAMDV5EAAAAAAgI3IQAAAAACAC9ZAzRoXC+iC6UAAAAAA0E7xQAAAAADAdupAAAAAAMAp3EAAAAAAILDjQAAAAABwPPBAAAAAAEAc3kDNGhcL6ILpQAAAAABgo+9AAAAAAKDO4EAAAAAAIPbmQAAAAACgaO9AAAAAAADC40AAAAAAYF3uQAAAAACAAM1AAAAAAMCd2kAAAAAAAJTqQAAAAADAS91AAAAAAACC10AAAAAAgJngQAAAAADgMfBAAAAAAEAt4UAAAAAAgH7VQAAAAACAX+5AAAAAANB68kAAAAAAwPTdQAAAAACwQ\\u002fRAAAAAAMBk9EAAAAAA8MLwQAAAAABgOORAAAAAAID16kAAAAAAgPPsQAAAAACAjdpAAAAAAPAr9EAAAAAAgKHlQAAAAAAwtvRAAAAAAACp3UAAAAAAoDPgQAAAAACQXPFAAAAAAACR8UAAAAAA8AfxQAAAAAAwmvFAAAAAAABM7UAAAAAAYN7iQAAAAAAgxuhAAAAAAOC28EAAAAAAIMbvQAAAAAAgy+ZAAAAAAKAx80AAAAAAYF3uQAAAAACAxttAAAAAAKBq4kAAAAAA4CLpQAAAAABgwupAAAAAAKBq80AAAAAAwN\\u002feQAAAAACQlfFAAAAAAMCw6UAAAAAAgGzhQAAAAABAhudAAAAAAADb3EAAAAAAQCjvQAAAAABA1uJAAAAAAECC5kAAAAAAQA7WQAAAAADAkd1AAAAAAKA38EAAAAAAgBneQAAAAACgZeBAAAAAAICE00AAAAAAQMfaQAAAAAAAbeFAAAAAAOCl4UAAAAAAgALEQAAAAABgYuVAAAAAAKDy7kAAAAAA4PTiQAAAAAAAbfRAAAAAAMAL9kAAAAAAYITuQAAAAABQI\\u002fJAAAAAAIDo6EAAAAAAkEfxQAAAAACgxPBAAAAAAABm5UAAAAAAgPjNQAAAAACA5NZAAAAAAIBZzEAAAAAAwKjeQAAAAADAYPJAAAAAAKCw5EAAAAAAwMrdQAAAAAAgHOtAAAAAAMBw50AAAAAAQJPaQAAAAAAAEfBAAAAAAMCj3UAAAAAAoKDoQAAAAAAAENdAAAAAAEBM6kAAAAAAEDrwQAAAAABg6eZAAAAAAABU8kAAAAAAkIXyQAAAAABAU9NAAAAAAGCQ80AAAAAAkDv2QAAAAAAgLOhAAAAAACBD4kAAAAAAAGTdQAAAAAAAD9JAAAAAAIAp9EAAAAAAMLb2QAAAAADAxedAAAAAAOCu9kAAAAAAkGryQAAAAAAAUsRAAAAAAEDw7UAAAAAAELj0QAAAAABgsuRAAAAAANBu8EAAAAAAQF7yQAAAAADAT91AAAAAAODf6EAAAAAAgGzwQAAAAAAgKelAAAAAAMBC30AAAAAAAEy9QAAAAADABNxAAAAAAOBz60AAAAAAAK3RQAAAAADAkd1AAAAAAICo00AAAAAAwL\\u002fWQAAAAABAz+RAAAAAAODV80AAAAAAwHbXQAAAAABgM+tAAAAAAOBM7EAAAAAAgLvrQAAAAADAsOFAAAAAANBK8UAAAAAAcBzwQAAAAACACeNAAAAAAEDe9UAAAAAA4JvkQAAAAACAj+hAAAAAAIBG8EAAAAAAoJbtQAAAAABQIfFAAAAAAACr6EAAAAAAwI\\u002fzQAAAAADgM+BAAAAAAGBB8EAAAAAA0F\\u002fyQAAAAAAAIt9AAAAAAMBD6kAAAAAAoA7oQAAAAAAAAu5AAAAAAMBD4kAAAAAAIM3rQAAAAADgweJAAAAAAIAJ1EAAAAAA4ITuQAAAAACAVeRAAAAAAEBE60AAAAAAQEfuQAAAAACAFORAAAAAACAG40AAAAAAAHDiQAAAAABAet9AAAAAACAG5UAAAAAA8Ez0QAAAAACQPvNAAAAAAADK70AAAAAAoFftQAAAAACAbstAAAAAAEDK20AAAAAAgEbzQAAAAADAnOZAAAAAAFCO8kAAAAAAgHjsQAAAAADAJ+tAAAAAAAAF7UAAAAAAYCHrQAAAAAAgM\\u002fNAAAAAAHCU8EAAAAAAYN\\u002fvQAAAAADAkNpAAAAAAECZ50AAAAAAwLXXQAAAAABgbO9AAAAAAODf6EAAAAAAoDLqQAAAAAAQCPBAAAAAABDU80AAAAAA4A7hQAAAAABA6O1AAAAAACBe40AAAAAAAF\\u002ftQAAAAAAA4+dAAAAAAADC9UAAAAAAgIvlQAAAAAAQ0fNAAAAAAGDL4UAAAAAAwHvZQAAAAABwbPFAAAAAAICT80AAAAAAgOndQAAAAADg7vFAAAAAAGDY5EAAAAAAcDbxQAAAAABA8thAAAAAAAAO4EAAAAAAcALzQAAAAAAgluhAAAAAAOAx7kAAAAAAQADoQAAAAABASOdAAAAAAHC+8UAAAAAAQEzsQAAAAACA5O9AAAAAAMDl20AAAAAAAB\\u002fnQAAAAABg8OVAAAAAAGDL8kAAAAAA4PPrQAAAAAAAaNZAAAAAAMC42EAAAAAAwE7lQAAAAADA2uRAAAAAAJCM9EAAAAAAQGXqQAAAAADAGthAAAAAAEDn9EAAAAAAQF3nQAAAAACADtNAAAAAAMCF2kAAAAAAgE\\u002fjQAAAAACA+NRAAAAAAACL7UAAAAAAwOTVQAAAAAAg8vNAAAAAAMA45UAAAAAAAMzqQAAAAABAgvNAAAAAAIDpzUAAAAAAsG31QAAAAADgIeBAAAAAAND080AAAAAAsHTxQAAAAABAgO5AAAAAAODT50AAAAAAoHfpQAAAAABQQPBAAAAAAICc3EAAAAAAYEnnQAAAAAAAp+JAAAAAAKD35UAAAAAAYMXiQAAAAAAg2OJAAAAAAKBz70AAAAAA4AviQAAAAACARe5AAAAAAOAK6UAAAAAAAObJQAAAAAAALudAAAAAAGCp6kAAAAAA4BLmQAAAAAAg3uNAAAAAAKBZ50AAAAAAgM7aQAAAAACgQ+NAAAAAAIA42kAAAAAAgHvzQAAAAABALO5AAAAAAOBM6kAAAAAAQKfXQAAAAACAYONAAAAAADCA9kAAAAAAoA\\u002fxQAAAAABAM+BAAAAAAKBI7UAAAAAAwAzRQAAAAACAWddAAAAAACCX5EAAAAAAAJzZQAAAAABAXN5AAAAAAEBg3UAAAAAA4KruQAAAAACgzPFAAAAAAGAD7kAAAAAAQDroQAAAAAAAYNVAAAAAAKC35EAAAAAAgInZQAAAAABAFN5AAAAAAADR80AAAAAAQD\\u002faQAAAAADA+eVAAAAAAICI0kAAAAAAgAvWQAAAAAAAjudAAAAAAKBh5kAAAAAA4HnhQAAAAADo0gNBAAAAAEBy6kAAAAAAgM7dQAAAAAAAl+pAAAAAAADk3kAAAAAAoKbxQAAAAADgDeJAAAAAALC78UAAAAAAAJzKQAAAAABAjvRAAAAAALBT8UAAAAAA4NbgQAAAAABAGNxAAAAAAMDd8EAAAAAAAPrvQAAAAABAgO5AAAAAAIB230AAAAAA0Hz0QAAAAADAguZAAAAAAOCl9EAAAAAAoG7rQAAAAAAA0u5AAAAAALD98UAAAAAAoPLuQAAAAADAlvJAAAAAAGCx7kAAAAAAQGrmQAAAAAAA9PJAAAAAAOCv5kAAAAAA8L\\u002f5QAAAAABA\\u002fupAAAAAAGA380AAAAAAYFTwQAAAAACQHfhAAAAAAMBr3EAAAAAAUHfwQAAAAAAAt+hAAAAAAOAi6EAAAAAAIMoCQQAAAADA6+1AAAAAAIDe2UAAAAAAMNbxQAAAAADA0eZAAAAAAKB360AAAAAAgITTQAAAAABAe+xAAAAAAEBb2UAAAAAAgKLMQAAAAACAQNJAAAAAAIAB5kAAAAAAwJHUQAAAAADAgNxAAAAAAEC06kAAAAAAAPXsQAAAAADg7exAAAAAALBK8EAAAAAAkOLyQAAAAADAsOlAAAAAAMAf2kAAAAAAQNnzQAAAAAAQLPFAAAAAACCm4UAAAAAA4OHvQAAAAABgofBAAAAAAHDI8EAAAAAA4AnkQAAAAABABONAAAAAABAP8EAAAAAAwDrwQAAAAACQNPVAAAAAABihA0EAAAAAUAHzQAAAAABA9vBAAAAAAGC26EAAAAAAIOPtQAAAAABgqeRAAAAAAACOyUAAAAAAQDrnQAAAAABgPO5AAAAAAAAB4UAAAAAAgOXZQAAAAABAbuZAAAAAAEAo80AAAAAAUEPzQAAAAAAwcPFAAAAAAOBW8UAAAAAAcAj2QAAAAADgLuRAAAAAAACR8UAAAAAAQGzhQAAAAAAgFuVAAAAAAHA08EAAAAAAQC3hQAAAAAAAqdhAAAAAAED66kAAAAAAIDzgQAAAAADAg+xAAAAAAACM6EAAAAAAoLTyQAAAAACQUPVAAAAAAMA+2UAAAAAAwKrsQAAAAAAADeZAAAAAAGBD8kAAAAAA4NzsQAAAAAAAi9JAAAAAAOCf8UAAAAAAAEy9QAAAAABA3+VAAAAAALCg80AAAAAAQFDyQAAAAABA0OtAAAAAADDy9UAAAAAAQI3hQAAAAAAgK+pAAAAAAFA08EAAAAAAAALmQAAAAADg5fVAAAAAAJCV8UAAAAAAgHbwQAAAAAAQOfFAAAAAAMAT0UAAAAAAQLTuQAAAAACATe9AAAAAAKAP4UAAAAAA4M\\u002fnQAAAAADA5eJAAAAAAAAT9EAAAAAAQHj0QAAAAADAmtBAAAAAALBf8UAAAAAAIHTgQAAAAACACe9AAAAAADBf9EAAAAAAwCfpQAAAAABAe+xAAAAAAIDD80AAAAAAMG\\u002fyQAAAAADgLe9AAAAAAIBh7kAAAAAAAJLsQAAAAADA2uNAAAAAAKD14kAAAAAAYFjhQAAAAACgUvNAAAAAANAc80AAAAAAgOLeQAAAAABwV\\u002fJAAAAAAMDK50AAAAAAkE7yQAAAAABgdvBAAAAAAGDl5kAAAAAAQE3uQAAAAADwl\\u002fFAAAAAALBF80AAAAAAANzkQAAAAADAauBAAAAAAACzukAAAAAAgD3kQAAAAAAA5+NAAAAAAKAg8kAAAAAAgPboQAAAAAAgpPFAAAAAAKBy8UAAAAAAYLfhQAAAAADAGtRAAAAAAMDA3UAAAAAAgNneQAAAAABA8tNAAAAAAAC+0EAAAAAAgMjkQAAAAADgYOVAAAAAAIDp40AAAAAA4K\\u002fuQAAAAAAQBvRAAAAAAEBr0EAAAAAAYAjpQAAAAACAt+ZAAAAAAOAP5kAAAAAAUDHxQAAAAAAgYO1AAAAAAGAM8kAAAAAAQODSQAAAAAAANu5AAAAAAADx5kAAAAAAwALhQAAAAADAMfRAAAAAAACI50AAAAAAIELoQAAAAABAwutAAAAAAGD86kAAAAAAQCLtQAAAAACAs\\u002fFAAAAAAAA+2kAAAAAAwNvUQAAAAAAg3fFAAAAAAMDB6UAAAAAAwGr2QAAAAAAAG\\u002fBAAAAAAAAN3kAAAAAAwPrVQAAAAABQCfBAAAAAAAAz2UAAAAAAwKfyQAAAAADAi9VAAAAAAGDg60AAAAAAwOTVQAAAAACwbfVAAAAAABAh80AAAAAAwM32QAAAAABgfOJAAAAAADDG80AAAAAAQCTQQAAAAACADutAAAAAAKDS50AAAAAA4J\\u002frQAAAAACAithAAAAAACBO4UAAAAAA8G3xQAAAAADAKuhAAAAAAGDy80AAAAAAIGjmQAAAAACAputAAAAAAECd4EAAAAAAII7jQAAAAAAAsOBAAAAAAMD20kAAAAAAgCT0QAAAAABQ0\\u002fNAAAAAAEAW7kAAAAAAgP7qQAAAAACAZ+hAAAAAAABwzUAAAAAAwAHoQAAAAACA5e9AAAAAALAa9EAAAAAAwB7eQAAAAADApOZAAAAAAECH7UAAAAAAANbiQAAAAACgB+tAAAAAAMBv4kAAAAAA4Oz0QAAAAAAAr9ZAAAAAAEDH5UAAAAAAAEy9QAAAAABg4+JAAAAAAEAt6EAAAAAAQEbsQAAAAAAAOOVAAAAAAEAH00AAAAAAgPbpQAAAAABA1N1AAAAAALAe8UAAAAAAQH7uQAAAAADAKtVAAAAAAGCz5EAAAAAAQPTtQAAAAADAuvNAAAAAAGDq5EAAAAAAQH7jQAAAAACAGfVAAAAAAEC30EAAAAAAgC7YQAAAAACgeuFAAAAAAGDi4UAAAAAA4PToQAAAAACQNPVAAAAAAIAJ9EAAAAAA4JLmQAAAAABgoORAAAAAAGD\\u002f6EAAAAAAwJ\\u002fwQAAAAACAEd9AAAAAAMAX6UAAAAAAYLXyQAAAAAAAPdpAAAAAAIDm50AAAAAAgPvqQAAAAABAS+9AAAAAALAf80AAAAAA4BviQAAAAACAVdVAAAAAAIDa80AAAAAAIG\\u002fqQAAAAACQUPBAAAAAAIDh60AAAAAAoMTsQAAAAAAAxfRAAAAAANAZ9UAAAAAAgE7mQAAAAAAgYudAAAAAACBs5kAAAAAAQCXzQAAAAACgVvJAAAAAAMCG6UAAAAAAIGfhQAAAAACQUvdAAAAAAICs7kAAAAAAkNnxQAAAAACQjPRAAAAAAODN5EAAAAAA0DjyQAAAAADgd+ZAAAAAACCq8UAAAAAAQHbjQAAAAACg1OBAAAAAAJBF9EAAAAAAQNTXQAAAAADw8PJAAAAAAEAY8kAAAAAAUCPyQAAAAADQsvBAAAAAAABx80AAAAAAYIPmQAAAAADAtu9AAAAAAMDY2EAAAAAAcFfyQAAAAACAD+BAAAAAAECH8UAAAAAAAH3wQAAAAADg+OpAAAAAAECR7UAAAAAA4KfvQAAAAABgYOtAAAAAAJAG9EAAAAAAAAv3QAAAAAAAHc1AAAAAAGAt6UAAAAAAIErsQAAAAAAgq\\u002fBAAAAAAGBr40AAAAAAUJPwQAAAAACARNtAAAAAAMB76UAAAAAAYILlQAAAAADg4eRAAAAAAECD5kAAAAAAwIfQQAAAAABALe1AAAAAAIA46kAAAAAAINTsQAAAAACge+pAAAAAAHA\\u002f8UAAAAAAoK7pQAAAAACgB+RAAAAAACCl40AAAAAA4IDoQAAAAAAgvOpAAAAAALCx9kAAAAAA4FfgQAAAAACA5OBAAAAAAEB95UAAAAAAsI\\u002f0QAAAAABA4ONAAAAAAACyzkAAAAAAgNXsQAAAAADQq\\u002fNAAAAAADBw9EAAAAAAACn0QAAAAABA0OtAAAAAAABv4UAAAAAA4O3pQAAAAABg1+ZAAAAAAAD9skAAAAAAwFbgQAAAAACgGe9AAAAAALC380AAAAAAAOnvQAAAAACgD\\u002fRAAAAAAPB+8kAAAAAAkHTzQAAAAACAQeFAAAAAADDr9EAAAAAAAE3YQAAAAACghORAAAAAACB470AAAAAAYInvQAAAAAAAAeFAAAAAANBq8kAAAAAAwHrZQAAAAACgzelAAAAAAMCA5kAAAAAAwAzzQAAAAAAQPPdAAAAAACCC60AAAAAAgOjVQAAAAABACOJAAAAAAECk4UAAAAAAEALwQAAAAABAePRAAAAAAIAO00AAAAAAAPDhQAAAAAAA8PJAAAAAAGAE6EAAAAAAAHbdQAAAAACgoOBAAAAAAICm4kAAAAAAgALtQAAAAADAUPFAAAAAAKBy6kAAAAAAAIvfQAAAAAAAtdNAAAAAACAS4UAAAAAAAMbbQAAAAAAAf+9AAAAAAIBj4EAAAAAAQPDQQAAAAAAAgOtAAAAAAMD520AAAAAAAF\\u002fNQAAAAABAa99AAAAAAMCt8EAAAAAAoDLyQAAAAABAY\\u002fZAAAAAAHDF8EAAAAAAAFTeQAAAAACQbvNAAAAAAMBp20AAAAAAwDriQAAAAADgquZAAAAAAMAg4kAAAAAA4ErnQAAAAACA3+1AAAAAAMAK40AAAAAAAFy\\u002fQAAAAAAQk\\u002fJAAAAAAAD14EAAAAAAADLgQAAAAAAgZuBAAAAAANDO8kAAAAAAgC\\u002fhQAAAAAAgvuVAAAAAAMBQ8UAAAAAAABfcQAAAAACg3vBAAAAAAMBZ2UAAAAAAAHfaQAAAAABAPPFAAAAAAKDH5EAAAAAAAAjqQAAAAABAovFAAAAAAFCB8EAAAAAAoK\\u002fuQAAAAACA1e9AAAAAAACC5EAAAAAAgILhQAAAAADA\\u002fu9AAAAAAAB30EAAAAAAgGT0QAAAAAAAVu9AAAAAAADI1UAAAAAA8FzwQAAAAACAD+BAAAAAAJBD8UAAAAAAoELtQAAAAABAZeNAAAAAAEDC5kAAAAAAsJH1QAAAAAAwSPVAAAAAAMBG2kAAAAAAwGvoQAAAAADABuRAAAAAAGAv8EAAAAAAYO3hQAAAAAAAZvNAAAAAAODD40AAAAAAEGXyQAAAAAAge+pAAAAAAMCY10AAAAAAwJ70QAAAAAAAYOVAAAAAALCA8UAAAAAAQPX0QAAAAADAIuNAAAAAAHBs8UAAAAAAQNbiQAAAAACA8utAAAAAACAw7kAAAAAAsHvzQAAAAADgwPNAAAAAAIDx2kAAAAAA4LjrQAAAAABQd\\u002fRAAAAAAEB46kAAAAAAgM3iQAAAAABg+OlAAAAAAMBR3UAAAAAA0JDyQAAAAADA1uhAAAAAAIDpzUAAAAAA4PbvQAAAAAAAO\\u002fBAAAAAAFC+8kAAAAAAIPLzQAAAAABAmOpAAAAAAJAd+EAAAAAAgMbPQAAAAACwiPFAAAAAACBk4EAAAAAAwLThQAAAAACAGtZAAAAAACD25kAAAAAAYDrxQAAAAABA3d5AAAAAAEBo6UAAAAAAwLHnQAAAAADA0eZAAAAAAABQ40AAAAAAYBX1QAAAAABg6uZAAAAAAEAx0EAAAAAAwD\\u002fvQAAAAABQc\\u002fBAAAAAAIBS2UAAAAAAoNjkQAAAAABg5vRAAAAAAHDM8UAAAAAAoEDoQAAAAABA9eFAAAAAAADs9EAAAAAAgHHFQAAAAADAQehAAAAAACBo60AAAAAAYCTiQAAAAACAyNRAAAAAAGBR4EAAAAAAoObuQAAAAADAwdRAAAAAAECW5EAAAAAAQJbqQAAAAAAAMuxAAAAAAAD02UAAAAAAIBXsQAAAAADgovBAAAAAAABMvUAAAAAAkEz0QAAAAACgdupAAAAAAMCM1kAAAAAAIHzmQAAAAABgsetAAAAAACBj80AAAAAAAPvrQAAAAADgquVAAAAAAECW6kAAAAAAQBntQAAAAADQsvNAAAAAAACz40AAAAAAwJ7uQAAAAAAg6+dAAAAAAEA\\u002f4UAAAAAAYNXyQAAAAACQ7\\u002fNAAAAAAIAqzEAAAAAAgKjTQAAAAABgHvJAAAAAAGBK8EAAAAAAACvXQAAAAAAgH+dAAAAAAIBU4EAAAAAAQI7qQAAAAACA19tAAAAAAOAg9kAAAAAAwHjnQAAAAACAEOVAAAAAAODV6kAAAAAAAGjNQAAAAACAUtpAAAAAAMDN1UAAAAAAIK3lQAAAAAAARu5AAAAAAEDC3kAAAAAAwGjmQAAAAAAwL\\u002fNAAAAAAJBy8EAAAAAAIITsQAAAAABgbO5AAAAAACBP5UAAAAAAICzvQAAAAABg5eZAAAAAALAc8UAAAAAAsA\\u002fzQAAAAAAA5uxAAAAAACDD6kAAAAAAIGDsQAAAAACAGulAAAAAAIDbzUAAAAAAwETwQAAAAACg4uhAAAAAAKCo9EAAAAAAwOvRQAAAAABgwONAAAAAAKC74UAAAAAAoJzkQAAAAABADfBAAAAAAEDP8kAAAAAAYEryQAAAAAAgsutAAAAAAACW5EAAAAAA4A7uQAAAAACga+BAAAAAAKDE8EAAAAAAIMngQAAAAAAAdsFAAAAAAACd2UAAAAAAEN\\u002fyQAAAAABgouNAAAAAAMBT4EAAAAAAgFHyQAAAAACA7O1AAAAAAID91UAAAAAAQLnqQAAAAACAxuJAAAAAAKCw5UAAAAAAoKbiQAAAAABAgORAAAAAAMDC20AAAAAAYELiQAAAAABAmu9AAAAAACD66kAAAAAAoLr0QAAAAADABNxAAAAAAKCW5UAAAAAAwBrZQAAAAADA1uxAAAAAAAC18kAAAAAAAB3wQAAAAADACNtAAAAAAAAIm0AAAAAAAEy9QAAAAAAgyeNAAAAAAMDy00AAAAAAQMrvQAAAAAAQFfFAAAAAAJB28EAAAAAAYPzyQAAAAADAPfJAAAAAAGCh8EAAAAAAwO7qQAAAAACAv+5AAAAAAOAc8kAAAAAAgDfjQAAAAADQtvJAAAAAAICC4UAAAAAA8CP2QAAAAACg7vFAAAAAAIC33kAAAAAAYATnQAAAAABQd\\u002fRAAAAAAEAQ6kAAAAAAADLTQAAAAABgQeZAAAAAANDe9EAAAAAAgFLrQAAAAADgV+9AAAAAAADz4kAAAAAA4OvrQAAAAAAAMddAAAAAAPAv8EAAAAAAAD\\u002fiQAAAAAAA7ONAAAAAAHCK8UAAAAAAoIjmQAAAAADwNfNAAAAAAMD750AAAAAAIGDiQAAAAADgauNAAAAAAEBd2kAAAAAAQJjgQAAAAABg4OtAAAAAAODd5kAAAAAA8Ez0QAAAAABgpulAAAAAAIDHzkAAAAAAAEXWQAAAAABABeVAAAAAAKD+5EAAAAAAwOLnQAAAAAAgUO1AAAAAAGCf4EAAAAAAYDrsQAAAAACQLvNAAAAAAABMvUAAAAAAKEEDQQAAAAAAC\\u002fdAAAAAAACb1kAAAAAAYJ3lQAAAAACgfPFAAAAAAMC77UAAAAAAAIPoQAAAAACwyfNAAAAAACDS70AAAAAAgDvtQAAAAADwCfBAAAAAACCr70AAAAAA4ArmQAAAAABQQ\\u002fJAAAAAAIDW7EAAAAAAgJnaQAAAAAAg9OZAAAAAAMCB5kAAAAAAILDjQAAAAABgLuJAAAAAADD780AAAAAAgMzmQAAAAABg5PJAAAAAAMBx4kAAAAAAQPbRQAAAAADAx\\u002fFAAAAAAMAh2EAAAAAA4DfmQAAAAAAAoLlAAAAAAEB78UAAAAAAAJvaQAAAAAAAzudAAAAAAKBw8UAAAAAAoC32QAAAAAAQgvVAAAAAAIBd6UAAAAAA0IrxQAAAAACAhOFAAAAAACCO40AAAAAAgF3jQAAAAADgeehAAAAAAOAf5UAAAAAAoK\\u002fuQAAAAABAfNJAAAAAAMDL10AAAAAAIDzgQAAAAADAQdpAAAAAAMB86EAAAAAAoE3uQAAAAAAA7PRAAAAAAOCv8kAAAAAAMDfxQAAAAADAzNFAAAAAADDh8EAAAAAAUN\\u002fwQAAAAACw\\u002f\\u002fBAAAAAAACf4kAAAAAA4FnuQAAAAABws\\u002fNAAAAAAIBE4EAAAAAAQJfsQAAAAAAA2tBAAAAAAEDl6UAAAAAAYH3pQAAAAAAgGu1AAAAAACBZ8kAAAAAAIPbmQAAAAABgiuJAAAAAAOAu5EAAAAAAMGzwQAAAAABA\\u002f+tAAAAAAGCr6EAAAAAA4HnhQAAAAABgtuhAAAAAAEB260AAAAAAAOHnQAAAAABgdutAAAAAAMDa1EAAAAAAgAnsQM0aFwvogulAAAAAAMCm5kAAAAAAwIjqQM0aFwvogulAzRoXC+iC6UAAAAAAwGfUQAAAAACAi\\u002fZAzRoXC+iC6UAAAAAAwEbaQAAAAACA9OVAAAAAADBv8kAAAAAAIEDqQAAAAACAJtZAAAAAAOD84kAAAAAAQFfkQAAAAADAF91AAAAAAGA170AAAAAAgIfjQAAAAADAIdpAAAAAACAs70AAAAAA4OvoQAAAAAAAkO1AAAAAAFAJ8EAAAAAAgGriQAAAAAAAAOJAAAAAAOC75UAAAAAAYAriQAAAAAAAH+dAAAAAAPBg8EAAAAAAoNrrQAAAAACgC+JAAAAAANDw8EAAAAAAYJDzQAAAAADAEOVAAAAAANCs80AAAAAAgM3gQAAAAAAgGOxAAAAAAIAa1kAAAAAAYA7pQAAAAABAl+FAAAAAAMAP2EAAAAAAQOLgQAAAAACACvBAAAAAAEAo70AAAAAAgG7qQAAAAACAQNJAAAAAAACB20AAAAAAgOTgQAAAAACgIOVAAAAAAKDq4kAAAAAAwCjfQAAAAAAAd9pAAAAAAMBu3kAAAAAAUJf2QAAAAACgBOFAAAAAAMBL8UAAAAAAgFveQAAAAAAAkO1AAAAAAMAC1EAAAAAAYMPkQAAAAABAfuNAAAAAAEBP4EAAAAAAAMfhQAAAAABAI9VAAAAAALAl80AAAAAAEC70QAAAAACAVOlAAAAAAJAN80AAAAAAgM7pQAAAAABgGfFAAAAAAJDx8EAAAAAAoHzmQAAAAADw4fJAAAAAAEAK8kAAAAAAAK7jQAAAAADA9d9AAAAAAHDF8EAAAAAAgCTlQAAAAACArNlAAAAAAODl9kAAAAAAQMHiQAAAAABArO9AAAAAAKBM7EAAAAAA4HfmQAAAAADAJNBAAAAAAABq20AAAAAAgCjoQAAAAACgxOhAAAAAAEB49EAAAAAAIBfkQAAAAACwdfBAAAAAAICe1kAAAAAAgMngQAAAAAAA8uBAAAAAAHAp90AAAAAAgM\\u002fvQAAAAABAe+NAAAAAACCr70AAAAAAgD7tQAAAAACAB+RAAAAAAADe60AAAAAAQIftQAAAAADgqu5AAAAAAID10kAAAAAAwKjSQAAAAADAbfJAAAAAALAu8UAAAAAAsGPzQAAAAADAQe9AAAAAAGDM8kAAAAAAwFfoQAAAAAAgle1AAAAAACDv5EAAAAAA8Gf1QAAAAABgQexAAAAAAKB24UAAAAAAgPrvQAAAAAAAF+BAAAAAAMAP6kAAAAAAoIHxQAAAAABwuPBAAAAAAKAA6kAAAAAAwG7eQAAAAADAg+RAAAAAAIBr6kAAAAAAYEDoQAAAAADA3O5AAAAAAADm60AAAAAAgNbmQAAAAAAwRfNAAAAAACBb6kAAAAAAsI\\u002f0QAAAAABAguZAAAAAACD08UAAAAAAkGrzQAAAAABAfdRAAAAAAMBG6UAAAAAA4DnrQAAAAADgIeBAAAAAAGBz4kAAAAAAgJraQAAAAABASfVAAAAAAKAS8UAAAAAAIGjiQAAAAAAgQ+JAAAAAAABcq0AAAAAAoJzsQAAAAAAAB\\u002fRAAAAAAMBt20AAAAAAQBHyQAAAAAAAR9NAAAAAAIDZ60AAAAAAYOvpQAAAAAAw6vBAAAAAAECC5kAAAAAAwMjWQAAAAADAyNZAAAAAAIATwkAAAAAAoIzwQAAAAAAQkvFAAAAAAGDs7EAAAAAAAC7fQAAAAAAQSPJAAAAAALAR8EAAAAAAYBrpQAAAAADgYelAAAAAAECy5EAAAAAAgK3dQAAAAADAQd5AAAAAABAf8EAAAAAAgDTiQAAAAABAF+xAAAAAAADA8kAAAAAA4DjvQAAAAAAQk\\u002fJAAAAAAFB38EAAAAAAwBfiQAAAAADgCOdAAAAAAMAc30AAAAAAwJPaQAAAAAAwIvFAAAAAAEB+40AAAAAAIELoQAAAAABAEdhAAAAAAJB\\u002f80AAAAAAQKTlQAAAAADAaudAAAAAAIA870AAAAAAMGPyQAAAAACgG+tAAAAAADBh8kAAAAAAADf0QAAAAADACuNAAAAAAOAg9kAAAAAAQIbaQAAAAADAg+RAAAAAACCn4kAAAAAAYBLmQAAAAABg6vNAAAAAAOAO4UAAAAAAQIjtQAAAAAAg6eBAAAAAANAQ80AAAAAAwCH0QAAAAADgaeZAAAAAABDd80AAAAAAgILhQAAAAABAv+NAAAAAAEAF7kAAAAAAABPhQAAAAAAggfJAAAAAAEDC3kAAAAAAwCHyQAAAAAAAzspAAAAAAOAK5kAAAAAAIKvpQAAAAAAApudAAAAAAAC+0EAAAAAAgKHhQAAAAADQqfJAAAAAAODm4UAAAAAAYErqQAAAAAAgB\\u002fZAAAAAAOA+8UAAAAAAALzlQAAAAAAAe9pAAAAAAABn6kAAAAAA8IrxQAAAAABABulAAAAAAACC7UAAAAAAwP7vQAAAAADwwvBAAAAAAIA0yEAAAAAAoH\\u002fvQAAAAABglOBAAAAAAECe3kAAAAAAQBHrQAAAAADAsdtAAAAAAIDh60AAAAAAMOHwQAAAAACg3elAAAAAAKBA6UAAAAAAQFrSQAAAAACARvBAAAAAAAC96EAAAAAAwJHqQAAAAACgoupAAAAAAOAA50AAAAAAYAXkQAAAAAAA\\u002fdJAAAAAAKC54UAAAAAAMNbxQAAAAABg3eRAAAAAAMDO6UAAAAAAwD3WQAAAAAAgy+ZAAAAAAKA17UAAAAAAQGroQAAAAACwB\\u002fFAAAAAAMCF5UAAAAAAANjdQAAAAACAiuFAAAAAAIBR70AAAAAAQIjrQAAAAACABNhAAAAAAOB\\u002f8kAAAAAAgCfjQAAAAADAj+xAAAAAAICn7EAAAAAAAObrQAAAAADgnOtAAAAAAADs1UAAAAAA4AX0QAAAAACgtOBAAAAAANAuA0EAAAAAgMPYQAAAAAAAW+FAAAAAAEDj4UAAAAAAwJnuQAAAAADAk+hAAAAAACCY8UAAAAAAIMXoQAAAAACADOFAAAAAAICv70AAAAAAQErlQAAAAACAmeBAAAAAACBA5EAAAAAAwOHuQAAAAACA7+FAAAAAAMDd8EAAAAAAYPzyQAAAAAAgheJAAAAAACAl9UAAAAAA0JDzQAAAAACwu\\u002fFAAAAAAIDZ8EAAAAAAQLjTQAAAAABA7dpAAAAAAAD7zkAAAAAAADHoQAAAAACAOeBAAAAAAIAy8UAAAAAAAKviQAAAAACABtZAAAAAAAD81kAAAAAAoCDoQAAAAADgnuRAAAAAAFA880AAAAAAwJrrQAAAAADAfexAAAAAABDU80AAAAAAQPjnQAAAAABgK+5AAAAAAEC+0UAAAAAAAMTXQAAAAACAy9FAAAAAAOBv7kAAAAAAIIbkQAAAAABAI\\u002fVAAAAAAKA75EAAAAAAkP7xQAAAAAAA0e1AAAAAAIDG4kAAAAAAgO3RQAAAAACA3OpAAAAAAAD9wkAAAAAA4KPiQAAAAAAApOxAAAAAAKBy6UAAAAAAoKXvQAAAAADAeepAAAAAAIBj9EAAAAAAAO3yQAAAAABAGORAAAAAAOCg80AAAAAAgE7SQAAAAACAL+FAAAAAAMBo7UAAAAAAAJfVQAAAAAAAreVAAAAAAAAQ60AAAAAAAEbRQAAAAACwlPZAAAAAABAK9kAAAAAAsCj0QAAAAAAgzuJAAAAAAEBD0EAAAAAAQMvkQAAAAABA+tZAAAAAABBI8kAAAAAAMFzxQAAAAADA5+ZAAAAAAIBA0kAAAAAAgC\\u002fiQAAAAACwH\\u002fRAAAAAAOBk8kAAAAAAwBnxQAAAAACgUvNAAAAAANDn8kAAAAAAANnqQAAAAABgtORAAAAAACA660AAAAAAgDXiQAAAAAAAQeZAAAAAABAr8UAAAAAAwFzsQAAAAAAw+PNAAAAAAEC520AAAAAAMFHwQAAAAADQEPFAAAAAAICe80AAAAAAwO3uQAAAAACg9+VAAAAAAMAc30AAAAAAIC7pQAAAAAAAqd1AAAAAAABHz0AAAAAAABTkQAAAAABgauNAAAAAAKDo4kAAAAAA0AnzQAAAAAAgt+5AAAAAAIBuykAAAAAAIAvtQAAAAABQm\\u002fFAAAAAAMBw1UAAAAAAsGPwQAAAAABA+OFAAAAAANCK8UAAAAAAQJbbQAAAAAAAWOdAAAAAAEDp2EAAAAAAgOjoQAAAAABAPPFAAAAAAHDb9EAAAAAAANXkQAAAAABAy+RAAAAAAAAQ3UAAAAAAQEvcQAAAAABgQeNAAAAAAEDr70AAAAAAgLjTQAAAAAAgveRAAAAAAMCJ70AAAAAAAGTxQAAAAAAA5eBAAAAAAADn5kAAAAAAwPjnQAAAAABgneFAAAAAAOC07UAAAAAAIN\\u002fyQAAAAABAneBAAAAAAMDi50AAAAAAoAz0QAAAAAAgaOJAAAAAAECj4EAAAAAAANrbQAAAAADgiO5AAAAAACC24UAAAAAAgPXuQAAAAADgf\\u002fJAAAAAAAAl80AAAAAAYHvyQAAAAAAg\\u002f+xAAAAAAMAZ4kAAAAAAINLlQAAAAAAgW+pAAAAAAADou0AAAAAAQEPSQAAAAAAQEPZAAAAAAODW7kAAAAAAwG\\u002fiQAAAAACg1OZAAAAAAGB380AAAAAA4NzuQAAAAABwmPFAAAAAAABU1UAAAAAAwJrsQAAAAACgpfFAAAAAAGCa6EAAAAAAwNHfQAAAAAAAje5AAAAAAGDL5UAAAAAAgETgQAAAAADgO+9AAAAAACCk6UAAAAAAQLPYQAAAAADga+pAAAAAAKAj80AAAAAAMLbzQAAAAABAI9ZAAAAAAACN3EAAAAAA4O3lQAAAAACgtOpAAAAAAECH50AAAAAAIMPqQAAAAACATeRAAAAAAACd80AAAAAA4E\\u002fnQAAAAACAv+5AAAAAAKD+60AAAAAAQI7fQAAAAACQvfRAAAAAAMBv2kAAAAAAQKPwQAAAAABwDPBAAAAAAEAz9UAAAAAAAG6vQAAAAABAY91AAAAAACAt7EAAAAAAAGzYQAAAAACQU\\u002fRAAAAAAADC1UAAAAAA8J3xQAAAAACAYO9AAAAAANAy9EAAAAAAICPyQAAAAAAgbexAAAAAAACI1EAAAAAAQB7xQAAAAADAXupAAAAAAHDc8EAAAAAAAFzGQAAAAAAgMO5AAAAAAGBO8UAAAAAAUN\\u002fwQAAAAAAAZu1AAAAAACAP4EAAAAAAQPbgQAAAAACA0t1AAAAAAGAZ9EAAAAAAgATaQAAAAADAEvFAAAAAAOC65UAAAAAAAGXtQAAAAADAPOhAAAAAAIBF10AAAAAAYCPgQAAAAACQzPFAAAAAAGAE8UAAAAAAwCnxQAAAAAAwP\\u002fFAAAAAAACv3UAAAAAAALfoQAAAAACApu5AAAAAAICW3UAAAAAAoJfpQAAAAABgj+VAAAAAADA89UAAAAAAQK\\u002fyQAAAAAAgjORAAAAAAKB98EAAAAAAQJb1QAAAAACAbd5AAAAAAOAc7kAAAAAAcAXxQAAAAAAAAehAAAAAAIBM2EAAAAAAUDP2QAAAAABgxPtAAAAAAIDz7EAAAAAA4FfmQAAAAAAAodVAAAAAADDr8UAAAAAAwB7dQAAAAAAAT+ZAAAAAAICs7kAAAAAAYIntQAAAAABgOuBAAAAAAKBu4UAAAAAAwMveQAAAAADAmPZAAAAAAIBz8EAAAAAA0KvzQAAAAADgAvNAAAAAAMCG6UAAAAAAYOLrQAAAAABAfNJAAAAAAMCY4UAAAAAAALXTQAAAAADAtuBAAAAAAIAh30AAAAAAQFHxQAAAAAAQR\\u002fZAAAAAAODx8kAAAAAAYMXzQAAAAABAK9ZAAAAAAID16kAAAAAAkD3xQAAAAAAgqu9AAAAAAMCc7kAAAAAAoDvuQAAAAAAAefBAAAAAAMCQ1EAAAAAAwNncQAAAAADwh\\u002fJAAAAAAAAV4UAAAAAAwNrqQAAAAACAiupAAAAAAEC44EAAAAAAgNDYQAAAAADA6PFAAAAAAACo20AAAAAAwDTXQAAAAACgt\\u002fFAAAAAACDc4EAAAAAAgEjxQAAAAABg3e5AAAAAADB79EAAAAAAIJzhQAAAAABAe+NAAAAAAKD46EAAAAAAYM3rQAAAAACAvvNAAAAAAPCo8UAAAAAAwCzuQAAAAACgwvJAAAAAAIDJ3EAAAAAAwPLmQAAAAACwpPdAAAAAAOCc60AAAAAAUBrxQAAAAABgf\\u002fFAAAAAAOCo5UAAAAAA4PbjQAAAAACg3edAAAAAAFAv8kAAAAAAQHvvQAAAAACg2vJAAAAAADC88UAAAAAAoO70QAAAAADAMOtAAAAAAMAS40AAAAAAAOXgQAAAAABA6+NAAAAAAEC06kAAAAAAAEyxQAAAAAAA3t9AAAAAAICr4kAAAAAAoPXhQAAAAABApt5AAAAAAID+10AAAAAAQOnYQAAAAAAgG\\u002fdAAAAAAMCi7EAAAAAAIPrpQAAAAACAetVAAAAAACDj60AAAAAAoBXpQAAAAABA7dZAAAAAAIBg7EAAAAAAgNDxQAAAAADgbeNAAAAAAABk9kAAAAAAgBD3QAAAAAAAtMpAAAAAADCS90AAAAAAUFbzQAAAAADgnetAAAAAAADh30AAAAAAIHvwQAAAAACAo9dAAAAAAADB20AAAAAAwHDWQAAAAADgP+BAAAAAAOCq5kAAAAAAAKjdQAAAAACAGO9AAAAAAMBU5EAAAAAAUMzwQAAAAABgEfBAAAAAAMCR8UAAAAAAQB3jQAAAAADApvdAAAAAAKDR4EAAAAAAkKvwQAAAAACANOJAAAAAAMD24UAAAAAAwEnbQAAAAADAvdVAAAAAAECN3UAAAAAAwOrbQAAAAADgZOVAAAAAAGCI50AAAAAAMM7yQAAAAACgafFAAAAAAED\\u002f30AAAAAAAPrcQAAAAAAAutZAAAAAAABf6EAAAAAAAEy9QAAAAABQofBAAAAAAJBp8EAAAAAAQDzRQAAAAABATetAAAAAAGCP40AAAAAAIL3tQAAAAAAgZPJAAAAAACCi7UAAAAAAAOPiQAAAAAAA\\u002fe1AAAAAAOBM6EAAAAAAkFT0QAAAAABAVNxAAAAAACAA5kAAAAAAwCPiQAAAAACAAeVAAAAAAED06UAAAAAAgOPvQAAAAAAwq\\u002fJAAAAAAEDJ80AAAAAA4AzgQAAAAAAgP+tAAAAAAACi8kAAAAAA4AfiQAAAAABA0+dAAAAAAIDt1kAAAAAAgF3xQAAAAAAwIvFAAAAAAMAI7UDNGhcL6ILpQAAAAAAgu+JAzRoXC+iC6UAAAAAAYBnxQAAAAABAx+RAAAAAAFB38EAAAAAAYF7wQAAAAAAAmuRAAAAAAKDy8kAAAAAAQATfQAAAAADAxeBAAAAAAOCn6kAAAAAAoIvxQAAAAABAs9hAAAAAAACC5EAAAAAAAPnwQAAAAAAgme9AAAAAAEA820AAAAAAwJrVQM0aFwvogulAzRoXC+iC6UAAAAAAwCbbQM0aFwvogulAAAAAAGA46UAAAAAAcLjwQM0aFwvogulAAAAAAIC760AAAAAAgD31QAAAAADwfPNAAAAAAAAb3kAAAAAAoKfgQAAAAADgDupAAAAAAIDd1UAAAAAAoGnxQAAAAADAWPNAAAAAAABf6EAAAAAAYMfnQAAAAAAAkfNAAAAAAIB96kAAAAAAkAD0QAAAAABAkvJAAAAAAID66UAAAAAAcJTwQAAAAAAA5sxAAAAAAAAT80AAAAAAALbLQAAAAABA8tNAAAAAAMCi7EAAAAAAcNDxQAAAAADAgudAAAAAAMAZ9EAAAAAAYHTsQAAAAAAg8+VAAAAAAGDj4EAAAAAAQAHlQAAAAAAAVeZAAAAAAMA68EAAAAAAQBXbQAAAAADQCvFAAAAAAJCh8UAAAAAAgDbZQAAAAACgUOJAAAAAAACW2EAAAAAAQEjlQAAAAADA\\u002felAAAAAAIB46EAAAAAAoLr0QAAAAADA7O1AAAAAANAZ9EAAAAAAgNjvQAAAAADAZuBAAAAAAABE3kAAAAAAUKfxQAAAAADgJwNBAAAAAIBCz0AAAAAA4PnvQAAAAACAqOxAAAAAAMDR40AAAAAAwBrUQAAAAACgle5AAAAAAMC+3EAAAAAAgOTSQAAAAACAeeFAAAAAAKAQ4kAAAAAAwPzWQAAAAACg5u9AAAAAADAq80AAAAAAAAndQAAAAABgJ+RAAAAAAIAD70AAAAAAIOLkQAAAAACANOhAAAAAAJDl8EAAAAAAAL\\u002fQQAAAAADA0eNAAAAAAADY3UAAAAAAgGTfQAAAAAAgXuRAAAAAAACw4EAAAAAAQI7sQAAAAADAJO1AAAAAAAC87UAAAAAAQMLuQAAAAAAAG+dAAAAAALBG8kAAAAAAgMrNQAAAAAAA0t5AAAAAAHCY8UAAAAAAQEL2QAAAAAAA+fVAAAAAAOB95EAAAAAA8OjwQAAAAACgCvBAAAAAAMDA7UAAAAAA0JHxQAAAAABA1+9AAAAAAGBU80AAAAAAQN7zQAAAAAAApudAAAAAAEDW6UAAAAAAQATjQAAAAADAdNlAAAAAAKCk5UAAAAAAYMPkQAAAAADA3dlAAAAAACD+6UAAAAAAQIjwQAAAAACgnPJAAAAAAFCJ9EAAAAAA4PnvQAAAAAAAothAAAAAAADh9UAAAAAAYPLjQAAAAABA09pAAAAAALAa9EAAAAAAsATyQAAAAAAAOsFAAAAAAEAn5UAAAAAAICXrQAAAAACgqOhAAAAAAKAb4kAAAAAAgJzPQAAAAABgMOxAAAAAAACm50AAAAAA8ATyQAAAAABAfNJAAAAAAKCG4UAAAAAAwMrtQAAAAAAAZN9AAAAAAAAjzUAAAAAAQAvmQAAAAAAgZeRAAAAAAFCQ9UAAAAAAwJTiQAAAAACQrvNAAAAAAAC5tEAAAAAA4PjhQAAAAADAwttAAAAAAAAH9EAAAAAAwD3WQAAAAACglONAAAAAACBV7EAAAAAAEIDyQAAAAAAATL1AAAAAAEBj4EAAAAAAQCXsQAAAAABAl+xAAAAAACAk70AAAAAA4E3sQM0aFwvogulAAAAAAIDc10AAAAAAAILFQAAAAABA4OVAAAAAAAAw2kAAAAAAVFgkQQAAAACgzuBAAAAAAODk7UAAAAAAwEHvQAAAAACg0utAAAAAANDn8EAAAAAAoNDpQA==\"},\"y0\":\" \",\"yaxis\":\"y\",\"type\":\"box\"}],                        {\"template\":{\"data\":{\"histogram2dcontour\":[{\"type\":\"histogram2dcontour\",\"colorbar\":{\"outlinewidth\":0,\"ticks\":\"\"},\"colorscale\":[[0.0,\"#0d0887\"],[0.1111111111111111,\"#46039f\"],[0.2222222222222222,\"#7201a8\"],[0.3333333333333333,\"#9c179e\"],[0.4444444444444444,\"#bd3786\"],[0.5555555555555556,\"#d8576b\"],[0.6666666666666666,\"#ed7953\"],[0.7777777777777778,\"#fb9f3a\"],[0.8888888888888888,\"#fdca26\"],[1.0,\"#f0f921\"]]}],\"choropleth\":[{\"type\":\"choropleth\",\"colorbar\":{\"outlinewidth\":0,\"ticks\":\"\"}}],\"histogram2d\":[{\"type\":\"histogram2d\",\"colorbar\":{\"outlinewidth\":0,\"ticks\":\"\"},\"colorscale\":[[0.0,\"#0d0887\"],[0.1111111111111111,\"#46039f\"],[0.2222222222222222,\"#7201a8\"],[0.3333333333333333,\"#9c179e\"],[0.4444444444444444,\"#bd3786\"],[0.5555555555555556,\"#d8576b\"],[0.6666666666666666,\"#ed7953\"],[0.7777777777777778,\"#fb9f3a\"],[0.8888888888888888,\"#fdca26\"],[1.0,\"#f0f921\"]]}],\"heatmap\":[{\"type\":\"heatmap\",\"colorbar\":{\"outlinewidth\":0,\"ticks\":\"\"},\"colorscale\":[[0.0,\"#0d0887\"],[0.1111111111111111,\"#46039f\"],[0.2222222222222222,\"#7201a8\"],[0.3333333333333333,\"#9c179e\"],[0.4444444444444444,\"#bd3786\"],[0.5555555555555556,\"#d8576b\"],[0.6666666666666666,\"#ed7953\"],[0.7777777777777778,\"#fb9f3a\"],[0.8888888888888888,\"#fdca26\"],[1.0,\"#f0f921\"]]}],\"contourcarpet\":[{\"type\":\"contourcarpet\",\"colorbar\":{\"outlinewidth\":0,\"ticks\":\"\"}}],\"contour\":[{\"type\":\"contour\",\"colorbar\":{\"outlinewidth\":0,\"ticks\":\"\"},\"colorscale\":[[0.0,\"#0d0887\"],[0.1111111111111111,\"#46039f\"],[0.2222222222222222,\"#7201a8\"],[0.3333333333333333,\"#9c179e\"],[0.4444444444444444,\"#bd3786\"],[0.5555555555555556,\"#d8576b\"],[0.6666666666666666,\"#ed7953\"],[0.7777777777777778,\"#fb9f3a\"],[0.8888888888888888,\"#fdca26\"],[1.0,\"#f0f921\"]]}],\"surface\":[{\"type\":\"surface\",\"colorbar\":{\"outlinewidth\":0,\"ticks\":\"\"},\"colorscale\":[[0.0,\"#0d0887\"],[0.1111111111111111,\"#46039f\"],[0.2222222222222222,\"#7201a8\"],[0.3333333333333333,\"#9c179e\"],[0.4444444444444444,\"#bd3786\"],[0.5555555555555556,\"#d8576b\"],[0.6666666666666666,\"#ed7953\"],[0.7777777777777778,\"#fb9f3a\"],[0.8888888888888888,\"#fdca26\"],[1.0,\"#f0f921\"]]}],\"mesh3d\":[{\"type\":\"mesh3d\",\"colorbar\":{\"outlinewidth\":0,\"ticks\":\"\"}}],\"scatter\":[{\"fillpattern\":{\"fillmode\":\"overlay\",\"size\":10,\"solidity\":0.2},\"type\":\"scatter\"}],\"parcoords\":[{\"type\":\"parcoords\",\"line\":{\"colorbar\":{\"outlinewidth\":0,\"ticks\":\"\"}}}],\"scatterpolargl\":[{\"type\":\"scatterpolargl\",\"marker\":{\"colorbar\":{\"outlinewidth\":0,\"ticks\":\"\"}}}],\"bar\":[{\"error_x\":{\"color\":\"#2a3f5f\"},\"error_y\":{\"color\":\"#2a3f5f\"},\"marker\":{\"line\":{\"color\":\"#E5ECF6\",\"width\":0.5},\"pattern\":{\"fillmode\":\"overlay\",\"size\":10,\"solidity\":0.2}},\"type\":\"bar\"}],\"scattergeo\":[{\"type\":\"scattergeo\",\"marker\":{\"colorbar\":{\"outlinewidth\":0,\"ticks\":\"\"}}}],\"scatterpolar\":[{\"type\":\"scatterpolar\",\"marker\":{\"colorbar\":{\"outlinewidth\":0,\"ticks\":\"\"}}}],\"histogram\":[{\"marker\":{\"pattern\":{\"fillmode\":\"overlay\",\"size\":10,\"solidity\":0.2}},\"type\":\"histogram\"}],\"scattergl\":[{\"type\":\"scattergl\",\"marker\":{\"colorbar\":{\"outlinewidth\":0,\"ticks\":\"\"}}}],\"scatter3d\":[{\"type\":\"scatter3d\",\"line\":{\"colorbar\":{\"outlinewidth\":0,\"ticks\":\"\"}},\"marker\":{\"colorbar\":{\"outlinewidth\":0,\"ticks\":\"\"}}}],\"scattermap\":[{\"type\":\"scattermap\",\"marker\":{\"colorbar\":{\"outlinewidth\":0,\"ticks\":\"\"}}}],\"scattermapbox\":[{\"type\":\"scattermapbox\",\"marker\":{\"colorbar\":{\"outlinewidth\":0,\"ticks\":\"\"}}}],\"scatterternary\":[{\"type\":\"scatterternary\",\"marker\":{\"colorbar\":{\"outlinewidth\":0,\"ticks\":\"\"}}}],\"scattercarpet\":[{\"type\":\"scattercarpet\",\"marker\":{\"colorbar\":{\"outlinewidth\":0,\"ticks\":\"\"}}}],\"carpet\":[{\"aaxis\":{\"endlinecolor\":\"#2a3f5f\",\"gridcolor\":\"white\",\"linecolor\":\"white\",\"minorgridcolor\":\"white\",\"startlinecolor\":\"#2a3f5f\"},\"baxis\":{\"endlinecolor\":\"#2a3f5f\",\"gridcolor\":\"white\",\"linecolor\":\"white\",\"minorgridcolor\":\"white\",\"startlinecolor\":\"#2a3f5f\"},\"type\":\"carpet\"}],\"table\":[{\"cells\":{\"fill\":{\"color\":\"#EBF0F8\"},\"line\":{\"color\":\"white\"}},\"header\":{\"fill\":{\"color\":\"#C8D4E3\"},\"line\":{\"color\":\"white\"}},\"type\":\"table\"}],\"barpolar\":[{\"marker\":{\"line\":{\"color\":\"#E5ECF6\",\"width\":0.5},\"pattern\":{\"fillmode\":\"overlay\",\"size\":10,\"solidity\":0.2}},\"type\":\"barpolar\"}],\"pie\":[{\"automargin\":true,\"type\":\"pie\"}]},\"layout\":{\"autotypenumbers\":\"strict\",\"colorway\":[\"#636efa\",\"#EF553B\",\"#00cc96\",\"#ab63fa\",\"#FFA15A\",\"#19d3f3\",\"#FF6692\",\"#B6E880\",\"#FF97FF\",\"#FECB52\"],\"font\":{\"color\":\"#2a3f5f\"},\"hovermode\":\"closest\",\"hoverlabel\":{\"align\":\"left\"},\"paper_bgcolor\":\"white\",\"plot_bgcolor\":\"#E5ECF6\",\"polar\":{\"bgcolor\":\"#E5ECF6\",\"angularaxis\":{\"gridcolor\":\"white\",\"linecolor\":\"white\",\"ticks\":\"\"},\"radialaxis\":{\"gridcolor\":\"white\",\"linecolor\":\"white\",\"ticks\":\"\"}},\"ternary\":{\"bgcolor\":\"#E5ECF6\",\"aaxis\":{\"gridcolor\":\"white\",\"linecolor\":\"white\",\"ticks\":\"\"},\"baxis\":{\"gridcolor\":\"white\",\"linecolor\":\"white\",\"ticks\":\"\"},\"caxis\":{\"gridcolor\":\"white\",\"linecolor\":\"white\",\"ticks\":\"\"}},\"coloraxis\":{\"colorbar\":{\"outlinewidth\":0,\"ticks\":\"\"}},\"colorscale\":{\"sequential\":[[0.0,\"#0d0887\"],[0.1111111111111111,\"#46039f\"],[0.2222222222222222,\"#7201a8\"],[0.3333333333333333,\"#9c179e\"],[0.4444444444444444,\"#bd3786\"],[0.5555555555555556,\"#d8576b\"],[0.6666666666666666,\"#ed7953\"],[0.7777777777777778,\"#fb9f3a\"],[0.8888888888888888,\"#fdca26\"],[1.0,\"#f0f921\"]],\"sequentialminus\":[[0.0,\"#0d0887\"],[0.1111111111111111,\"#46039f\"],[0.2222222222222222,\"#7201a8\"],[0.3333333333333333,\"#9c179e\"],[0.4444444444444444,\"#bd3786\"],[0.5555555555555556,\"#d8576b\"],[0.6666666666666666,\"#ed7953\"],[0.7777777777777778,\"#fb9f3a\"],[0.8888888888888888,\"#fdca26\"],[1.0,\"#f0f921\"]],\"diverging\":[[0,\"#8e0152\"],[0.1,\"#c51b7d\"],[0.2,\"#de77ae\"],[0.3,\"#f1b6da\"],[0.4,\"#fde0ef\"],[0.5,\"#f7f7f7\"],[0.6,\"#e6f5d0\"],[0.7,\"#b8e186\"],[0.8,\"#7fbc41\"],[0.9,\"#4d9221\"],[1,\"#276419\"]]},\"xaxis\":{\"gridcolor\":\"white\",\"linecolor\":\"white\",\"ticks\":\"\",\"title\":{\"standoff\":15},\"zerolinecolor\":\"white\",\"automargin\":true,\"zerolinewidth\":2},\"yaxis\":{\"gridcolor\":\"white\",\"linecolor\":\"white\",\"ticks\":\"\",\"title\":{\"standoff\":15},\"zerolinecolor\":\"white\",\"automargin\":true,\"zerolinewidth\":2},\"scene\":{\"xaxis\":{\"backgroundcolor\":\"#E5ECF6\",\"gridcolor\":\"white\",\"linecolor\":\"white\",\"showbackground\":true,\"ticks\":\"\",\"zerolinecolor\":\"white\",\"gridwidth\":2},\"yaxis\":{\"backgroundcolor\":\"#E5ECF6\",\"gridcolor\":\"white\",\"linecolor\":\"white\",\"showbackground\":true,\"ticks\":\"\",\"zerolinecolor\":\"white\",\"gridwidth\":2},\"zaxis\":{\"backgroundcolor\":\"#E5ECF6\",\"gridcolor\":\"white\",\"linecolor\":\"white\",\"showbackground\":true,\"ticks\":\"\",\"zerolinecolor\":\"white\",\"gridwidth\":2}},\"shapedefaults\":{\"line\":{\"color\":\"#2a3f5f\"}},\"annotationdefaults\":{\"arrowcolor\":\"#2a3f5f\",\"arrowhead\":0,\"arrowwidth\":1},\"geo\":{\"bgcolor\":\"white\",\"landcolor\":\"#E5ECF6\",\"subunitcolor\":\"white\",\"showland\":true,\"showlakes\":true,\"lakecolor\":\"white\"},\"title\":{\"x\":0.05},\"mapbox\":{\"style\":\"light\"}}},\"xaxis\":{\"anchor\":\"y\",\"domain\":[0.0,1.0],\"title\":{\"text\":\"Teenhome\"}},\"yaxis\":{\"anchor\":\"x\",\"domain\":[0.0,1.0],\"title\":{\"text\":\"Income\"}},\"legend\":{\"tracegroupgap\":0},\"title\":{\"text\":\"Income Distribution by Teenhome\"},\"boxmode\":\"group\"},                        {\"responsive\": true}                    ).then(function(){\n",
              "                            \n",
              "var gd = document.getElementById('a67c8599-db5d-46e6-90e6-bfd9827afe13');\n",
              "var x = new MutationObserver(function (mutations, observer) {{\n",
              "        var display = window.getComputedStyle(gd).display;\n",
              "        if (!display || display === 'none') {{\n",
              "            console.log([gd, 'removed!']);\n",
              "            Plotly.purge(gd);\n",
              "            observer.disconnect();\n",
              "        }}\n",
              "}});\n",
              "\n",
              "// Listen for the removal of the full notebook cells\n",
              "var notebookContainer = gd.closest('#notebook-container');\n",
              "if (notebookContainer) {{\n",
              "    x.observe(notebookContainer, {childList: true});\n",
              "}}\n",
              "\n",
              "// Listen for the clearing of the current output cell\n",
              "var outputEl = gd.closest('.output');\n",
              "if (outputEl) {{\n",
              "    x.observe(outputEl, {childList: true});\n",
              "}}\n",
              "\n",
              "                        })                };            </script>        </div>\n",
              "</body>\n",
              "</html>"
            ]
          },
          "metadata": {}
        }
      ]
    },
    {
      "cell_type": "code",
      "source": [
        "print(f\"When assessing the boxplots for Income vs Kidhome and Income vs Teenhome, those who have no kids make the greatest income, possibly because they have more time to dedicate to working. Also, comparing if a household has 1-2 kids vs teens, those households with teens possibly have more time to also dedicate to work since their kids are older and do not require as much time compared to if they were young kids. Nonetheless, majority of Nata consumers make less than 100K annually, despite number of children at home.\")"
      ],
      "metadata": {
        "colab": {
          "base_uri": "https://localhost:8080/"
        },
        "id": "IQrgWmmgzGGJ",
        "outputId": "84b36c9b-1cf8-4b53-ab8a-af5abc6a3e2e"
      },
      "execution_count": 54,
      "outputs": [
        {
          "output_type": "stream",
          "name": "stdout",
          "text": [
            "When assessing the boxplots for Income vs Kidhome and Income vs Teenhome, those who have no kids make the greatest income, possibly because they have more time to dedicate to working. Also, comparing if a household has 1-2 kids vs teens, those households with teens possibly have more time to also dedicate to work since their kids are older and do not require as much time compared to if they were young kids. Nonetheless, majority of Nata consumers make less than 100K annually, despite number of children at home.\n"
          ]
        }
      ]
    },
    {
      "cell_type": "markdown",
      "source": [
        "## 7. Spending by Products (15pts)\n",
        "\n",
        "* Examine the spending amount columns `MntWines`,\t`MntFruits`,\t`MntMeatProducts`,\t`MntFishProducts`,\t`MntSweetProducts`,\t`MntGoldProds`, and find the product with the highest total spending amount by all customers.\n",
        "\n"
      ],
      "metadata": {
        "id": "ilLuuetiTFua"
      }
    },
    {
      "cell_type": "code",
      "source": [
        "spending_amount = ['MntWines', 'MntFruits', 'MntMeatProducts', 'MntFishProducts', 'MntSweetProducts', 'MntGoldProds']\n",
        "\n",
        "total_spending_percategory = df_natadataset_copy[spending_amount].sum()\n",
        "print(total_spending_percategory)"
      ],
      "metadata": {
        "id": "Sjo1pvxUWVqh",
        "colab": {
          "base_uri": "https://localhost:8080/"
        },
        "outputId": "9b1dd158-3bce-4179-cfc3-0cfe5d3c61a0"
      },
      "execution_count": 55,
      "outputs": [
        {
          "output_type": "stream",
          "name": "stdout",
          "text": [
            "MntWines            680816\n",
            "MntFruits            58917\n",
            "MntMeatProducts     373968\n",
            "MntFishProducts      84057\n",
            "MntSweetProducts     60621\n",
            "MntGoldProds         98609\n",
            "dtype: int64\n"
          ]
        }
      ]
    },
    {
      "cell_type": "code",
      "source": [
        "highest_spending_amount_product = total_spending_percategory.idxmax()\n",
        "highest_spending_amount_product = total_spending_percategory.max()\n",
        "\n",
        "print(f\"Highest spending product: {highest_spending_amount_product} with total ${total_spending_percategory}\")"
      ],
      "metadata": {
        "colab": {
          "base_uri": "https://localhost:8080/"
        },
        "id": "MSp34IuP0kt7",
        "outputId": "3f2f2ed3-b7fe-43c2-f9a6-b55cc7ad6962"
      },
      "execution_count": 56,
      "outputs": [
        {
          "output_type": "stream",
          "name": "stdout",
          "text": [
            "Highest spending product: 680816 with total $MntWines            680816\n",
            "MntFruits            58917\n",
            "MntMeatProducts     373968\n",
            "MntFishProducts      84057\n",
            "MntSweetProducts     60621\n",
            "MntGoldProds         98609\n",
            "dtype: int64\n"
          ]
        }
      ]
    },
    {
      "cell_type": "code",
      "source": [
        "fig = px.bar( x=total_spending_percategory.index,\n",
        "    y=total_spending_percategory.values,\n",
        "    title='Total Spending by Product Category',\n",
        "    labels={'x': 'Product Category', 'y': 'Total Spending ($)'},\n",
        "        color_discrete_sequence=['blue'],\n",
        "    color_continuous_scale='Viridis')\n",
        "\n",
        "fig.show()"
      ],
      "metadata": {
        "colab": {
          "base_uri": "https://localhost:8080/",
          "height": 542
        },
        "id": "mpgkdcaE1HZ6",
        "outputId": "38795fba-bcf8-43dc-90a7-cde70f106232"
      },
      "execution_count": 58,
      "outputs": [
        {
          "output_type": "display_data",
          "data": {
            "text/html": [
              "<html>\n",
              "<head><meta charset=\"utf-8\" /></head>\n",
              "<body>\n",
              "    <div>            <script src=\"https://cdnjs.cloudflare.com/ajax/libs/mathjax/2.7.5/MathJax.js?config=TeX-AMS-MML_SVG\"></script><script type=\"text/javascript\">if (window.MathJax && window.MathJax.Hub && window.MathJax.Hub.Config) {window.MathJax.Hub.Config({SVG: {font: \"STIX-Web\"}});}</script>                <script type=\"text/javascript\">window.PlotlyConfig = {MathJaxConfig: 'local'};</script>\n",
              "        <script charset=\"utf-8\" src=\"https://cdn.plot.ly/plotly-3.1.1.min.js\" integrity=\"sha256-HUEFyfiTnZJxCxur99FjbKYTvKSzwDaD3/x5TqHpFu4=\" crossorigin=\"anonymous\"></script>                <div id=\"9db1bdd2-a89d-428c-b79d-c6c66a70f3db\" class=\"plotly-graph-div\" style=\"height:525px; width:100%;\"></div>            <script type=\"text/javascript\">                window.PLOTLYENV=window.PLOTLYENV || {};                                if (document.getElementById(\"9db1bdd2-a89d-428c-b79d-c6c66a70f3db\")) {                    Plotly.newPlot(                        \"9db1bdd2-a89d-428c-b79d-c6c66a70f3db\",                        [{\"hovertemplate\":\"Product Category=%{x}\\u003cbr\\u003eTotal Spending ($)=%{y}\\u003cextra\\u003e\\u003c\\u002fextra\\u003e\",\"legendgroup\":\"\",\"marker\":{\"color\":\"blue\",\"pattern\":{\"shape\":\"\"}},\"name\":\"\",\"orientation\":\"v\",\"showlegend\":false,\"textposition\":\"auto\",\"x\":[\"MntWines\",\"MntFruits\",\"MntMeatProducts\",\"MntFishProducts\",\"MntSweetProducts\",\"MntGoldProds\"],\"xaxis\":\"x\",\"y\":{\"dtype\":\"i4\",\"bdata\":\"cGMKACXmAADQtAUAWUgBAM3sAAAxgQEA\"},\"yaxis\":\"y\",\"type\":\"bar\"}],                        {\"template\":{\"data\":{\"histogram2dcontour\":[{\"type\":\"histogram2dcontour\",\"colorbar\":{\"outlinewidth\":0,\"ticks\":\"\"},\"colorscale\":[[0.0,\"#0d0887\"],[0.1111111111111111,\"#46039f\"],[0.2222222222222222,\"#7201a8\"],[0.3333333333333333,\"#9c179e\"],[0.4444444444444444,\"#bd3786\"],[0.5555555555555556,\"#d8576b\"],[0.6666666666666666,\"#ed7953\"],[0.7777777777777778,\"#fb9f3a\"],[0.8888888888888888,\"#fdca26\"],[1.0,\"#f0f921\"]]}],\"choropleth\":[{\"type\":\"choropleth\",\"colorbar\":{\"outlinewidth\":0,\"ticks\":\"\"}}],\"histogram2d\":[{\"type\":\"histogram2d\",\"colorbar\":{\"outlinewidth\":0,\"ticks\":\"\"},\"colorscale\":[[0.0,\"#0d0887\"],[0.1111111111111111,\"#46039f\"],[0.2222222222222222,\"#7201a8\"],[0.3333333333333333,\"#9c179e\"],[0.4444444444444444,\"#bd3786\"],[0.5555555555555556,\"#d8576b\"],[0.6666666666666666,\"#ed7953\"],[0.7777777777777778,\"#fb9f3a\"],[0.8888888888888888,\"#fdca26\"],[1.0,\"#f0f921\"]]}],\"heatmap\":[{\"type\":\"heatmap\",\"colorbar\":{\"outlinewidth\":0,\"ticks\":\"\"},\"colorscale\":[[0.0,\"#0d0887\"],[0.1111111111111111,\"#46039f\"],[0.2222222222222222,\"#7201a8\"],[0.3333333333333333,\"#9c179e\"],[0.4444444444444444,\"#bd3786\"],[0.5555555555555556,\"#d8576b\"],[0.6666666666666666,\"#ed7953\"],[0.7777777777777778,\"#fb9f3a\"],[0.8888888888888888,\"#fdca26\"],[1.0,\"#f0f921\"]]}],\"contourcarpet\":[{\"type\":\"contourcarpet\",\"colorbar\":{\"outlinewidth\":0,\"ticks\":\"\"}}],\"contour\":[{\"type\":\"contour\",\"colorbar\":{\"outlinewidth\":0,\"ticks\":\"\"},\"colorscale\":[[0.0,\"#0d0887\"],[0.1111111111111111,\"#46039f\"],[0.2222222222222222,\"#7201a8\"],[0.3333333333333333,\"#9c179e\"],[0.4444444444444444,\"#bd3786\"],[0.5555555555555556,\"#d8576b\"],[0.6666666666666666,\"#ed7953\"],[0.7777777777777778,\"#fb9f3a\"],[0.8888888888888888,\"#fdca26\"],[1.0,\"#f0f921\"]]}],\"surface\":[{\"type\":\"surface\",\"colorbar\":{\"outlinewidth\":0,\"ticks\":\"\"},\"colorscale\":[[0.0,\"#0d0887\"],[0.1111111111111111,\"#46039f\"],[0.2222222222222222,\"#7201a8\"],[0.3333333333333333,\"#9c179e\"],[0.4444444444444444,\"#bd3786\"],[0.5555555555555556,\"#d8576b\"],[0.6666666666666666,\"#ed7953\"],[0.7777777777777778,\"#fb9f3a\"],[0.8888888888888888,\"#fdca26\"],[1.0,\"#f0f921\"]]}],\"mesh3d\":[{\"type\":\"mesh3d\",\"colorbar\":{\"outlinewidth\":0,\"ticks\":\"\"}}],\"scatter\":[{\"fillpattern\":{\"fillmode\":\"overlay\",\"size\":10,\"solidity\":0.2},\"type\":\"scatter\"}],\"parcoords\":[{\"type\":\"parcoords\",\"line\":{\"colorbar\":{\"outlinewidth\":0,\"ticks\":\"\"}}}],\"scatterpolargl\":[{\"type\":\"scatterpolargl\",\"marker\":{\"colorbar\":{\"outlinewidth\":0,\"ticks\":\"\"}}}],\"bar\":[{\"error_x\":{\"color\":\"#2a3f5f\"},\"error_y\":{\"color\":\"#2a3f5f\"},\"marker\":{\"line\":{\"color\":\"#E5ECF6\",\"width\":0.5},\"pattern\":{\"fillmode\":\"overlay\",\"size\":10,\"solidity\":0.2}},\"type\":\"bar\"}],\"scattergeo\":[{\"type\":\"scattergeo\",\"marker\":{\"colorbar\":{\"outlinewidth\":0,\"ticks\":\"\"}}}],\"scatterpolar\":[{\"type\":\"scatterpolar\",\"marker\":{\"colorbar\":{\"outlinewidth\":0,\"ticks\":\"\"}}}],\"histogram\":[{\"marker\":{\"pattern\":{\"fillmode\":\"overlay\",\"size\":10,\"solidity\":0.2}},\"type\":\"histogram\"}],\"scattergl\":[{\"type\":\"scattergl\",\"marker\":{\"colorbar\":{\"outlinewidth\":0,\"ticks\":\"\"}}}],\"scatter3d\":[{\"type\":\"scatter3d\",\"line\":{\"colorbar\":{\"outlinewidth\":0,\"ticks\":\"\"}},\"marker\":{\"colorbar\":{\"outlinewidth\":0,\"ticks\":\"\"}}}],\"scattermap\":[{\"type\":\"scattermap\",\"marker\":{\"colorbar\":{\"outlinewidth\":0,\"ticks\":\"\"}}}],\"scattermapbox\":[{\"type\":\"scattermapbox\",\"marker\":{\"colorbar\":{\"outlinewidth\":0,\"ticks\":\"\"}}}],\"scatterternary\":[{\"type\":\"scatterternary\",\"marker\":{\"colorbar\":{\"outlinewidth\":0,\"ticks\":\"\"}}}],\"scattercarpet\":[{\"type\":\"scattercarpet\",\"marker\":{\"colorbar\":{\"outlinewidth\":0,\"ticks\":\"\"}}}],\"carpet\":[{\"aaxis\":{\"endlinecolor\":\"#2a3f5f\",\"gridcolor\":\"white\",\"linecolor\":\"white\",\"minorgridcolor\":\"white\",\"startlinecolor\":\"#2a3f5f\"},\"baxis\":{\"endlinecolor\":\"#2a3f5f\",\"gridcolor\":\"white\",\"linecolor\":\"white\",\"minorgridcolor\":\"white\",\"startlinecolor\":\"#2a3f5f\"},\"type\":\"carpet\"}],\"table\":[{\"cells\":{\"fill\":{\"color\":\"#EBF0F8\"},\"line\":{\"color\":\"white\"}},\"header\":{\"fill\":{\"color\":\"#C8D4E3\"},\"line\":{\"color\":\"white\"}},\"type\":\"table\"}],\"barpolar\":[{\"marker\":{\"line\":{\"color\":\"#E5ECF6\",\"width\":0.5},\"pattern\":{\"fillmode\":\"overlay\",\"size\":10,\"solidity\":0.2}},\"type\":\"barpolar\"}],\"pie\":[{\"automargin\":true,\"type\":\"pie\"}]},\"layout\":{\"autotypenumbers\":\"strict\",\"colorway\":[\"#636efa\",\"#EF553B\",\"#00cc96\",\"#ab63fa\",\"#FFA15A\",\"#19d3f3\",\"#FF6692\",\"#B6E880\",\"#FF97FF\",\"#FECB52\"],\"font\":{\"color\":\"#2a3f5f\"},\"hovermode\":\"closest\",\"hoverlabel\":{\"align\":\"left\"},\"paper_bgcolor\":\"white\",\"plot_bgcolor\":\"#E5ECF6\",\"polar\":{\"bgcolor\":\"#E5ECF6\",\"angularaxis\":{\"gridcolor\":\"white\",\"linecolor\":\"white\",\"ticks\":\"\"},\"radialaxis\":{\"gridcolor\":\"white\",\"linecolor\":\"white\",\"ticks\":\"\"}},\"ternary\":{\"bgcolor\":\"#E5ECF6\",\"aaxis\":{\"gridcolor\":\"white\",\"linecolor\":\"white\",\"ticks\":\"\"},\"baxis\":{\"gridcolor\":\"white\",\"linecolor\":\"white\",\"ticks\":\"\"},\"caxis\":{\"gridcolor\":\"white\",\"linecolor\":\"white\",\"ticks\":\"\"}},\"coloraxis\":{\"colorbar\":{\"outlinewidth\":0,\"ticks\":\"\"}},\"colorscale\":{\"sequential\":[[0.0,\"#0d0887\"],[0.1111111111111111,\"#46039f\"],[0.2222222222222222,\"#7201a8\"],[0.3333333333333333,\"#9c179e\"],[0.4444444444444444,\"#bd3786\"],[0.5555555555555556,\"#d8576b\"],[0.6666666666666666,\"#ed7953\"],[0.7777777777777778,\"#fb9f3a\"],[0.8888888888888888,\"#fdca26\"],[1.0,\"#f0f921\"]],\"sequentialminus\":[[0.0,\"#0d0887\"],[0.1111111111111111,\"#46039f\"],[0.2222222222222222,\"#7201a8\"],[0.3333333333333333,\"#9c179e\"],[0.4444444444444444,\"#bd3786\"],[0.5555555555555556,\"#d8576b\"],[0.6666666666666666,\"#ed7953\"],[0.7777777777777778,\"#fb9f3a\"],[0.8888888888888888,\"#fdca26\"],[1.0,\"#f0f921\"]],\"diverging\":[[0,\"#8e0152\"],[0.1,\"#c51b7d\"],[0.2,\"#de77ae\"],[0.3,\"#f1b6da\"],[0.4,\"#fde0ef\"],[0.5,\"#f7f7f7\"],[0.6,\"#e6f5d0\"],[0.7,\"#b8e186\"],[0.8,\"#7fbc41\"],[0.9,\"#4d9221\"],[1,\"#276419\"]]},\"xaxis\":{\"gridcolor\":\"white\",\"linecolor\":\"white\",\"ticks\":\"\",\"title\":{\"standoff\":15},\"zerolinecolor\":\"white\",\"automargin\":true,\"zerolinewidth\":2},\"yaxis\":{\"gridcolor\":\"white\",\"linecolor\":\"white\",\"ticks\":\"\",\"title\":{\"standoff\":15},\"zerolinecolor\":\"white\",\"automargin\":true,\"zerolinewidth\":2},\"scene\":{\"xaxis\":{\"backgroundcolor\":\"#E5ECF6\",\"gridcolor\":\"white\",\"linecolor\":\"white\",\"showbackground\":true,\"ticks\":\"\",\"zerolinecolor\":\"white\",\"gridwidth\":2},\"yaxis\":{\"backgroundcolor\":\"#E5ECF6\",\"gridcolor\":\"white\",\"linecolor\":\"white\",\"showbackground\":true,\"ticks\":\"\",\"zerolinecolor\":\"white\",\"gridwidth\":2},\"zaxis\":{\"backgroundcolor\":\"#E5ECF6\",\"gridcolor\":\"white\",\"linecolor\":\"white\",\"showbackground\":true,\"ticks\":\"\",\"zerolinecolor\":\"white\",\"gridwidth\":2}},\"shapedefaults\":{\"line\":{\"color\":\"#2a3f5f\"}},\"annotationdefaults\":{\"arrowcolor\":\"#2a3f5f\",\"arrowhead\":0,\"arrowwidth\":1},\"geo\":{\"bgcolor\":\"white\",\"landcolor\":\"#E5ECF6\",\"subunitcolor\":\"white\",\"showland\":true,\"showlakes\":true,\"lakecolor\":\"white\"},\"title\":{\"x\":0.05},\"mapbox\":{\"style\":\"light\"}}},\"xaxis\":{\"anchor\":\"y\",\"domain\":[0.0,1.0],\"title\":{\"text\":\"Product Category\"}},\"yaxis\":{\"anchor\":\"x\",\"domain\":[0.0,1.0],\"title\":{\"text\":\"Total Spending ($)\"}},\"legend\":{\"tracegroupgap\":0},\"title\":{\"text\":\"Total Spending by Product Category\"},\"barmode\":\"relative\"},                        {\"responsive\": true}                    ).then(function(){\n",
              "                            \n",
              "var gd = document.getElementById('9db1bdd2-a89d-428c-b79d-c6c66a70f3db');\n",
              "var x = new MutationObserver(function (mutations, observer) {{\n",
              "        var display = window.getComputedStyle(gd).display;\n",
              "        if (!display || display === 'none') {{\n",
              "            console.log([gd, 'removed!']);\n",
              "            Plotly.purge(gd);\n",
              "            observer.disconnect();\n",
              "        }}\n",
              "}});\n",
              "\n",
              "// Listen for the removal of the full notebook cells\n",
              "var notebookContainer = gd.closest('#notebook-container');\n",
              "if (notebookContainer) {{\n",
              "    x.observe(notebookContainer, {childList: true});\n",
              "}}\n",
              "\n",
              "// Listen for the clearing of the current output cell\n",
              "var outputEl = gd.closest('.output');\n",
              "if (outputEl) {{\n",
              "    x.observe(outputEl, {childList: true});\n",
              "}}\n",
              "\n",
              "                        })                };            </script>        </div>\n",
              "</body>\n",
              "</html>"
            ]
          },
          "metadata": {}
        }
      ]
    },
    {
      "cell_type": "markdown",
      "source": [
        "## 8. Use of Gen. AI (2pts)\n",
        "\n",
        "Use of Generative AI is allowed. Briefly describe if and how you have used Gen. AI tools in this assignment."
      ],
      "metadata": {
        "id": "aMAKfon36poQ"
      }
    },
    {
      "cell_type": "markdown",
      "source": [
        "AI was used to help explain some codes if I got confused as to the deep meaning and purpose for each part of the code as well as the why to certain steps taken. Google colab had also suggested a few codes for me as I was typing, and when relevant and correct, I used its suggestion."
      ],
      "metadata": {
        "id": "wlgovwZ668r-"
      }
    }
  ]
}